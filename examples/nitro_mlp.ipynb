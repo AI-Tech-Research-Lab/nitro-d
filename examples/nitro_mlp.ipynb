{
 "cells": [
  {
   "cell_type": "code",
   "execution_count": 1,
   "id": "7f0fa04debcc3616",
   "metadata": {
    "ExecuteTime": {
     "end_time": "2024-05-14T15:56:43.744255Z",
     "start_time": "2024-05-14T15:56:40.460282Z"
    },
    "collapsed": false
   },
   "outputs": [],
   "source": [
    "from tqdm.auto import trange\n",
    "import numpy as np\n",
    "import cupy as cp\n",
    "import pathlib\n",
    "import sys"
   ]
  },
  {
   "cell_type": "code",
   "execution_count": 2,
   "id": "21392447",
   "metadata": {},
   "outputs": [],
   "source": [
    "sys.path.append(str(pathlib.Path('../').resolve()))"
   ]
  },
  {
   "cell_type": "code",
   "execution_count": 3,
   "id": "338247b0a6ca6e60",
   "metadata": {
    "ExecuteTime": {
     "end_time": "2024-05-14T15:56:49.626553Z",
     "start_time": "2024-05-14T15:56:43.745270Z"
    },
    "collapsed": false
   },
   "outputs": [],
   "source": [
    "from lib.utils.data import Dataset, shuffle_dataset, load_integer_dataset\n",
    "from lib.utils.enums import Initialization, NonLinearity, OptimizerName\n",
    "from lib.utils.nn import accuracy, plot_history, l2_loss\n",
    "from lib.experiments import build_augmentation_pipeline\n",
    "from lib.utils.train import train_step_local, val_step\n",
    "from lib.utils.misc import to_cpu"
   ]
  },
  {
   "cell_type": "markdown",
   "id": "553d98ce42bc6c29",
   "metadata": {
    "collapsed": false
   },
   "source": [
    "# Experiment config"
   ]
  },
  {
   "cell_type": "code",
   "execution_count": 4,
   "id": "803a0c377ea8dbc8",
   "metadata": {
    "ExecuteTime": {
     "end_time": "2024-05-14T15:56:49.630378Z",
     "start_time": "2024-05-14T15:56:49.627205Z"
    }
   },
   "outputs": [],
   "source": [
    "num_fc_layers = 5\n",
    "num_fc_hidden = [512, 256, 128, 64]"
   ]
  },
  {
   "cell_type": "code",
   "execution_count": 5,
   "id": "43a4dc66a69365eb",
   "metadata": {
    "ExecuteTime": {
     "end_time": "2024-05-14T15:56:49.634865Z",
     "start_time": "2024-05-14T15:56:49.631620Z"
    }
   },
   "outputs": [],
   "source": [
    "dataset_config = dict(\n",
    "    dataset=Dataset.FASHION_MNIST.name,\n",
    "    subsample_ratio=1.0,\n",
    "    ohe_values=(0, 32),\n",
    "    add_padding=False,\n",
    "    normalize=True,\n",
    "    data_augmentation=True,\n",
    ")"
   ]
  },
  {
   "cell_type": "code",
   "execution_count": 6,
   "id": "315d1a476c4f5421",
   "metadata": {
    "ExecuteTime": {
     "end_time": "2024-05-14T15:56:49.639913Z",
     "start_time": "2024-05-14T15:56:49.635871Z"
    }
   },
   "outputs": [],
   "source": [
    "network_config = dict(\n",
    "    num_fc_layers=num_fc_layers,\n",
    "    num_fc_hidden=num_fc_hidden,\n",
    "    non_linearity=NonLinearity.NITRO_LEAKY_RELU.name,\n",
    "    init=Initialization.UNIFORM_KAIMING_LEAKY_RELU.name,\n",
    "    dtype='int32',\n",
    "    device='cuda',\n",
    "    local_loss='pred',\n",
    "    dropout_rate=0.0,\n",
    "    seed=42,\n",
    "    bias=False,\n",
    "    debug=False,\n",
    ")"
   ]
  },
  {
   "cell_type": "code",
   "execution_count": 7,
   "id": "f2386bdfe12e352d",
   "metadata": {
    "ExecuteTime": {
     "end_time": "2024-05-14T15:56:49.644806Z",
     "start_time": "2024-05-14T15:56:49.640923Z"
    }
   },
   "outputs": [],
   "source": [
    "training_config = dict(\n",
    "    batch_size=64,\n",
    "    num_epochs=35,\n",
    "    lr_inv=512,\n",
    "    lr_amp_factor=None,\n",
    "    fwd_decay_inv=10_000,\n",
    "    subnet_decay_inv=1_000,\n",
    "    optimizer=OptimizerName.INTEGER_SGD.name,\n",
    ")"
   ]
  },
  {
   "cell_type": "code",
   "execution_count": 8,
   "id": "a9b3ed7bf86cf141",
   "metadata": {
    "ExecuteTime": {
     "end_time": "2024-05-14T15:56:49.648381Z",
     "start_time": "2024-05-14T15:56:49.644806Z"
    }
   },
   "outputs": [],
   "source": [
    "config = dataset_config | network_config | training_config"
   ]
  },
  {
   "cell_type": "code",
   "execution_count": 9,
   "id": "3c7844b9621d93ce",
   "metadata": {
    "ExecuteTime": {
     "end_time": "2024-05-14T15:56:49.887448Z",
     "start_time": "2024-05-14T15:56:49.649385Z"
    }
   },
   "outputs": [],
   "source": [
    "# Setup reproducibility\n",
    "np.random.seed(config[\"seed\"])\n",
    "cp.random.seed(config[\"seed\"])"
   ]
  },
  {
   "cell_type": "markdown",
   "id": "3e6211c5d4a86ce1",
   "metadata": {
    "collapsed": false
   },
   "source": [
    "# Data"
   ]
  },
  {
   "cell_type": "code",
   "execution_count": 10,
   "id": "194a8aaa5a591a52",
   "metadata": {
    "ExecuteTime": {
     "end_time": "2024-05-14T15:57:00.917559Z",
     "start_time": "2024-05-14T15:56:49.888464Z"
    },
    "collapsed": false
   },
   "outputs": [
    {
     "name": "stdout",
     "output_type": "stream",
     "text": [
      "Training on 50000 samples\n",
      "Data normalized. New statistics:\n",
      "-  Min: -46\n",
      "-  Max: 112\n",
      "- Mean: 0\n",
      "-  Std: 55\n",
      "\n",
      "Moved data to device: <CUDA Device 0>\n",
      "Train set:  (50000, 1, 28, 28), (50000, 10)\n",
      "Val set:    (10000, 1, 28, 28), (10000, 10)\n",
      "Test set:   (10000, 1, 28, 28), (10000, 10)\n",
      "Data types: (int8, int8)\n"
     ]
    },
    {
     "data": {
      "image/png": "[encoded data removed]",
      "text/plain": [
       "<Figure size 2000x2000 with 6 Axes>"
      ]
     },
     "metadata": {},
     "output_type": "display_data"
    }
   ],
   "source": [
    "X_train, X_val, X_test, y_train, y_val, y_test = load_integer_dataset(config, add_padding=False, ohe_values=(0, 32))"
   ]
  },
  {
   "cell_type": "code",
   "execution_count": 11,
   "id": "cd9204793908600a",
   "metadata": {
    "ExecuteTime": {
     "end_time": "2024-05-14T15:57:00.922316Z",
     "start_time": "2024-05-14T15:57:00.918564Z"
    }
   },
   "outputs": [
    {
     "name": "stdout",
     "output_type": "stream",
     "text": [
      "AugmentationPipeline([\n",
      "    RandomCrop(size=28, padding=2, probability=0.5)\n",
      "    RandomHorizontalFlip(probability=0.5)\n",
      "])\n"
     ]
    }
   ],
   "source": [
    "# Configure data augmentation\n",
    "augmentation_pipeline = build_augmentation_pipeline(config)\n",
    "print(augmentation_pipeline)"
   ]
  },
  {
   "cell_type": "markdown",
   "id": "59146ff9d387a4e1",
   "metadata": {},
   "source": [
    "# Network"
   ]
  },
  {
   "cell_type": "code",
   "execution_count": 12,
   "id": "cc2ab75d3b4340b0",
   "metadata": {
    "ExecuteTime": {
     "end_time": "2024-05-14T15:57:00.929834Z",
     "start_time": "2024-05-14T15:57:00.923321Z"
    }
   },
   "outputs": [],
   "source": [
    "from lib.models.local_loss_models import IntegerLocalLossMLP"
   ]
  },
  {
   "cell_type": "code",
   "execution_count": 13,
   "id": "d99a414c65e3860e",
   "metadata": {
    "ExecuteTime": {
     "end_time": "2024-05-14T15:57:01.008718Z",
     "start_time": "2024-05-14T15:57:00.930839Z"
    }
   },
   "outputs": [
    {
     "name": "stdout",
     "output_type": "stream",
     "text": [
      "IntegerLocalLossMLP(\n",
      "\t(0): Sequential(\n",
      "\t\t\t(0): Flatten()\n",
      "\t\t\t(1): LocalLinearBlock(\n",
      "\t\t\t(0): IntegerLinear(in_features=784, out_features=512, bias=False, decay_rate_inv=10000)\n",
      "\t\t\t(1): ConstantScaling(fwd_factor=200704, bwd_factor=1)\n",
      "\t\t\t(2): NitroLeakyReLU(negative_slope_inv=4)\n",
      "\t\t\t(learning_layers): Sequential(\n",
      "\t\t\t(0): IntegerLinear(in_features=512, out_features=10, bias=False, decay_rate_inv=1000)\n",
      "\t\t\t(1): ConstantScaling(fwd_factor=131072, bwd_factor=1)\n",
      "\t\t)\n",
      "\t)\n",
      "\t\t\t(2): LocalLinearBlock(\n",
      "\t\t\t(0): IntegerLinear(in_features=512, out_features=256, bias=False, decay_rate_inv=10000)\n",
      "\t\t\t(1): ConstantScaling(fwd_factor=131072, bwd_factor=1)\n",
      "\t\t\t(2): NitroLeakyReLU(negative_slope_inv=4)\n",
      "\t\t\t(learning_layers): Sequential(\n",
      "\t\t\t(0): IntegerLinear(in_features=256, out_features=10, bias=False, decay_rate_inv=1000)\n",
      "\t\t\t(1): ConstantScaling(fwd_factor=65536, bwd_factor=1)\n",
      "\t\t)\n",
      "\t)\n",
      "\t\t\t(3): LocalLinearBlock(\n",
      "\t\t\t(0): IntegerLinear(in_features=256, out_features=128, bias=False, decay_rate_inv=10000)\n",
      "\t\t\t(1): ConstantScaling(fwd_factor=65536, bwd_factor=1)\n",
      "\t\t\t(2): NitroLeakyReLU(negative_slope_inv=4)\n",
      "\t\t\t(learning_layers): Sequential(\n",
      "\t\t\t(0): IntegerLinear(in_features=128, out_features=10, bias=False, decay_rate_inv=1000)\n",
      "\t\t\t(1): ConstantScaling(fwd_factor=32768, bwd_factor=1)\n",
      "\t\t)\n",
      "\t)\n",
      "\t\t\t(4): LocalLinearBlock(\n",
      "\t\t\t(0): IntegerLinear(in_features=128, out_features=64, bias=False, decay_rate_inv=10000)\n",
      "\t\t\t(1): ConstantScaling(fwd_factor=32768, bwd_factor=1)\n",
      "\t\t\t(2): NitroLeakyReLU(negative_slope_inv=4)\n",
      "\t\t\t(learning_layers): Sequential(\n",
      "\t\t\t(0): IntegerLinear(in_features=64, out_features=10, bias=False, decay_rate_inv=1000)\n",
      "\t\t\t(1): ConstantScaling(fwd_factor=16384, bwd_factor=1)\n",
      "\t\t)\n",
      "\t)\n",
      "\t\t\t(5): Sequential(\n",
      "\t\t\t(0): IntegerLinear(in_features=64, out_features=10, bias=False, decay_rate_inv=1000)\n",
      "\t\t\t(1): ConstantScaling(fwd_factor=16384, bwd_factor=1)\n",
      "\t\t)\n",
      "\t\t)\n",
      "\t)\n"
     ]
    }
   ],
   "source": [
    "np.random.seed(config['seed'])\n",
    "cp.random.seed(config['seed'])\n",
    "model = IntegerLocalLossMLP(\n",
    "    num_fc_layers=config['num_fc_layers'],\n",
    "    num_fc_hidden=config['num_fc_hidden'],\n",
    "    num_classes=y_train.shape[1],\n",
    "    input_dim=X_train.shape[1] * X_train.shape[2] * X_train.shape[3],\n",
    "    local_loss=config['local_loss'],\n",
    "    dtype=config['dtype'],\n",
    "    dropout_rate=config['dropout_rate'],\n",
    "    non_linearity=NonLinearity[config['non_linearity']],\n",
    "    init=Initialization[config['init']],\n",
    "    fwd_decay_inv=config['fwd_decay_inv'],\n",
    "    subnet_decay_inv=config['subnet_decay_inv'],\n",
    "    device=config['device'],\n",
    "    bias=config['bias'],\n",
    "    debug=config['debug'],\n",
    "    optimizer=OptimizerName[config['optimizer']],\n",
    "    lr_amp_factor=config['lr_amp_factor'],\n",
    ")\n",
    "print(model.extra_repr(1))"
   ]
  },
  {
   "cell_type": "code",
   "execution_count": 14,
   "id": "f691de97aea206fa",
   "metadata": {
    "ExecuteTime": {
     "end_time": "2024-05-14T15:57:01.016334Z",
     "start_time": "2024-05-14T15:57:01.009724Z"
    }
   },
   "outputs": [
    {
     "name": "stdout",
     "output_type": "stream",
     "text": [
      "Layer: linear_encoder_00\n",
      "- Weights:\n",
      "[[ -8   9 -10 ...  -4   3   4]\n",
      " [  4   3  -7 ...   7 -10 -10]\n",
      " [  2  -3  -7 ...   5  -5  -6]\n",
      " ...\n",
      " [  6   9 -10 ...  -8  -7   4]\n",
      " [  0   4  -4 ...  -5   0  -2]\n",
      " [  7  -1   3 ...  -3   2   0]]\n",
      "Layer: linear_pred_00\n",
      "- Weights:\n",
      "[[ -7  -1 -11 ...  -1  -5 -11]\n",
      " [  5   8 -10 ...  -6   7  -9]\n",
      " [  0  11  13 ... -12   0  -5]\n",
      " ...\n",
      " [-13  -8  -5 ...   5  -3  -5]\n",
      " [-13  -7 -10 ...  12  -8  -3]\n",
      " [ 11  -9   1 ...  -4  -5   4]]\n",
      "Layer: linear_encoder_01\n",
      "- Weights:\n",
      "[[  7  -9  12 ...   6   0  13]\n",
      " [ -1 -11 -13 ...  10  -6  -2]\n",
      " [ -4   4  11 ...  -8  11  -6]\n",
      " ...\n",
      " [ 11  -1  10 ...  -6   8   1]\n",
      " [ 10 -13  13 ...   5   7  13]\n",
      " [ -8   8  -6 ...   4  -6  13]]\n",
      "Layer: linear_pred_01\n",
      "- Weights:\n",
      "[[-10  17 -14 ...  11  17 -18]\n",
      " [-15  -1   2 ...   1 -19  14]\n",
      " [ 19  18   8 ...  -6  -8 -17]\n",
      " ...\n",
      " [  1   2 -15 ...  19 -15   0]\n",
      " [-18   7  17 ... -12   1  -4]\n",
      " [  2  -7 -14 ...   5   3 -14]]\n",
      "Layer: linear_encoder_02\n",
      "- Weights:\n",
      "[[-12  -8   4 ... -18   3  -5]\n",
      " [  9  -8  14 ...  16   7 -19]\n",
      " [ -4  10   5 ...  -2  -2  -1]\n",
      " ...\n",
      " [ -2   1   8 ...   4 -11  10]\n",
      " [ 12  -8  12 ... -15   1   5]\n",
      " [ -4  -6   4 ... -11 -14   8]]\n",
      "Layer: linear_pred_02\n",
      "- Weights:\n",
      "[[ 13  15  -4 ...  -7   7   7]\n",
      " [  5  15 -12 ...  11  21   4]\n",
      " [-17   6  -1 ...  -3   4  24]\n",
      " ...\n",
      " [ 24 -21   6 ...   3  27  14]\n",
      " [-16   5 -27 ...   9  16 -15]\n",
      " [-14  -9 -12 ...  15   7  17]]\n",
      "Layer: linear_encoder_03\n",
      "- Weights:\n",
      "[[-19 -27 -25 ...  -7  -1 -24]\n",
      " [  6 -15 -15 ... -27  20  12]\n",
      " [ 26  26  10 ...  11  -4 -23]\n",
      " ...\n",
      " [ 16 -12  -2 ... -21   3  19]\n",
      " [ 25  22  21 ...  -7  -6 -21]\n",
      " [ 15  -1  -8 ...   2 -12  -4]]\n",
      "Layer: linear_pred_03\n",
      "- Weights:\n",
      "[[ 21  15 -27   5  11  38 -22  -8 -23   4  34  36 -38  33  27  24   7 -16\n",
      "  -20   8 -27  27 -36  15   4   7   3 -23  22  10  26 -26   8  -6 -17 -34\n",
      "   -6 -33  37 -10  20 -32  15   0  19   2  11   5  -1 -19 -33  -5  19 -24\n",
      "  -12  11 -30  16  19  16 -11 -27   0  27]\n",
      " [  0 -28 -11 -11  24 -24  -1  32 -20  19  -3 -12 -35  25   6 -26  16 -15\n",
      "    7   2  38  38  19  -6 -36  -8  33   8   2  17  -4 -33 -15  13  27 -29\n",
      "   37 -37 -14 -10  16  36 -33   5  17 -28 -15  22 -21  16   3  25  11  -7\n",
      "  -22 -36  12  15 -36 -23 -20 -31 -27 -34]\n",
      " [ 15  11  32  23  29 -15 -24 -23 -19 -12 -32 -38 -20  27   9 -22 -10   6\n",
      "  -18  -3 -27 -18   5   1  -6  -2 -21  -2  17  34 -38 -25 -12   3  36  14\n",
      "  -14 -14 -35  18   0 -18 -34  -2   7  26   1  25  26 -20  24 -25 -16  30\n",
      "  -29  -1  28  -7 -26  -4  -4  15  15  33]\n",
      " [  9  17  26 -31   3  10 -16 -34  25  36  13 -36   2  28   4   9  26  -9\n",
      "  -22 -27 -25   9  32  18  14 -12 -30 -24  -7  26 -18 -38 -27 -25 -23   6\n",
      "    1  29  -9 -28   8  16  15  31 -23   2  35  23  35  -9 -36  26  -8  10\n",
      "  -15  20 -21 -25  35  29  32   6 -37  23]\n",
      " [ -1 -18  -7 -17  19  23 -31 -21 -38  32  29 -29  36  27  29  36 -33 -32\n",
      "  -23 -33  32  31 -12  16 -37  18  21 -30   8  30 -19 -11  37   0  14  13\n",
      "    1  12  29 -31 -21 -23 -36  19  23   5  14  21 -38  25  26 -17 -34 -27\n",
      "   -4 -11 -28  37  36  -1  24  -6  -3   2]\n",
      " [-35   0  12 -20  31 -30  23 -26 -12  16 -34 -17  13  13  12 -36 -34  -3\n",
      "   35 -11  22  -9  22 -26  23  30  21   5  16  30  35  24 -16  27  -2   9\n",
      "  -23 -24  38  24 -33  -3 -28  22  19 -22 -17 -26  24  25 -12 -36   2  14\n",
      "   32 -10 -15  -3  31   7 -25 -38 -32  26]\n",
      " [-10  -1  25 -14 -15  22  15   2  10  29   1  33 -13   9 -30   5  34  13\n",
      "   17 -32   2  -6  22  -7  -3 -31 -11  11 -33  10  37  23  37  36  16 -24\n",
      "  -33 -12  19  29  30  -6  32 -11  13 -21  35 -37  36  37  10  27 -23 -34\n",
      "  -29  10  17 -33 -10  -8   6  22  -6  27]\n",
      " [ 14  18  -9  -7  23  -5  -3 -33   3   6  29  -5  -1 -25 -11 -17 -35   5\n",
      "  -20  14  38   9 -31 -17 -25   3 -28 -18   3 -15  25 -17  22   4  31  14\n",
      "   -5  33 -37 -33 -33  20 -20 -37  33  33  26   7 -32  -6  19  24   7 -15\n",
      "   -2  15  11  21   2  -1  18  32 -37  30]\n",
      " [-26 -36 -30  -8  20  22 -33  16 -29   7 -36   8 -12  12  -5  13   7  37\n",
      "    7 -21  37  -1  19 -29 -23 -11 -16  16 -10 -31   0  33  -2  -3 -17  29\n",
      "  -25  -1  29  27   2  14  24  -3 -27 -21 -20  -4  36 -32  36   1  36 -36\n",
      "  -12  -2 -16   3 -22 -29 -18 -20 -37 -36]\n",
      " [  4 -27   4  22  28  15 -24   5  29   5 -29  18  -4  10   9   7 -18 -32\n",
      "   15  -6  -5 -12   1 -25 -23 -32  15  19   9  30  13   6   9 -18   1 -16\n",
      "   -6  37  -9  18   8  37   8  21  16  21  24  28  -8 -22   3 -17  22  19\n",
      "  -30  30  34 -28   0 -32  13  13  -3   6]]\n",
      "Layer: linear_04\n",
      "- Weights:\n",
      "[[ 30 -26 -37 -20 -17  20  32  12   0 -37 -19  -1  35  14 -29 -31  30 -14\n",
      "   20  -7  26   9   3  33 -32 -20  23  21 -19 -35 -38  38 -32  30  30  31\n",
      "   23  -1 -15  -4  19   8  16  20 -31  16  35  27 -32 -28 -30 -25  27  -5\n",
      "   -7   1   7 -38   8  -5  28  23 -16  20]\n",
      " [  9 -36  30  12  20  23 -22  -8  -5  26 -19 -21  29 -36 -23  -4 -11  -2\n",
      "  -29 -24 -37   8 -21   7  -9  24  32 -21  24  -4 -21 -24  25  27  29  12\n",
      "   28  -3  12 -14  26 -22  -8  19  38 -28 -11  25  -7 -17 -23 -31  15 -31\n",
      "  -35  31  19 -19 -33 -34 -27 -15  32  34]\n",
      " [-27 -26   5  34 -17  22   2 -30  26 -17  38  34 -31 -38  20 -24 -18 -12\n",
      "   16  -3 -20  37 -31  34  22  32  29 -12   6 -38  33 -32 -10  36  29  33\n",
      "   34 -18   0  36  -6  25 -37  18  38   8  25  15  16  29  11  32 -35 -13\n",
      "   36   7 -28  32 -11 -38  23  -7 -16  32]\n",
      " [-19  24 -12 -30   3  22 -25 -18  -4  20   5 -10 -33  36  11  -7 -35 -33\n",
      "   12  33  25 -16  34  25   6  23 -18   3 -23   3  13   1  21  10  22  32\n",
      "   15  11   4  -7 -10  38   2 -20  14 -30 -36 -32 -33  12  27  -8 -12  21\n",
      "  -32  28 -29   6   9  -5 -19  32 -17  10]\n",
      " [-20  35 -38  20 -20  38   7 -24  11 -15  30  -2  29  -8  16  23 -25  28\n",
      "   22   8  -3 -32  -1 -11  24 -17   8 -15  14   7   3  30  17  17  -5 -16\n",
      "  -30 -28 -24  15  15 -34   9   9  32 -29 -32 -32 -21  31  21   6  -9  18\n",
      "   -1  -4  18   4  22  15  12 -13  -4 -17]\n",
      " [ 18   1  10  -1  10  18  -5  16   3 -25 -32 -14 -33 -36  -4 -18 -21 -21\n",
      "  -17 -34 -10   1  25 -24 -14  -5 -37   4  36 -21 -25 -32  30 -38 -38   0\n",
      "  -31  21 -23  35 -10  31  37  -8 -12  -5  -2   9 -12  23  -6   0   7 -36\n",
      "   27  35  -7   3   3  31  33 -19  -7 -32]\n",
      " [ -1   3 -14  11  22  -6  11   0   3  -9 -13   4  17 -24  25 -20  12 -34\n",
      "  -15 -34 -15  -2  15 -35 -34 -24  -8 -20   7 -33 -12  -5 -13 -10 -31  32\n",
      "  -38 -11  22 -19   9  12   0  29  23  32 -18 -25  19 -10  -9  20  15 -30\n",
      "   20 -31  13 -36  -7 -32   3 -31  26  33]\n",
      " [ 38 -36  38 -34 -30   3  -5 -35  -5   2  10  13 -23 -31 -38 -37  -5  29\n",
      "  -13  35  16 -30  12  36  29  20  19 -36  34   5  30  37  20  22 -10  32\n",
      "   -7 -19  30   3  22  37 -38 -35 -23  27 -18 -11   9   1  36  -8  16  12\n",
      "   10  -4   7 -33  15   2  12 -13 -33 -12]\n",
      " [-37  -4  13   1 -37 -23 -14  14   3  38  -4 -31 -19   3  33  26 -36  23\n",
      "   19  12 -11 -20  26 -26 -23  35  27  30 -18  38   5  30 -31   4  36 -15\n",
      "  -35 -11 -17  24  -6  31 -17  33  -5  24 -23 -18  34  25 -16  32  -1  28\n",
      "   24 -16  19  31 -26   7  13  12 -14  32]\n",
      " [  4  18  -8  10  11  38 -30  18   8  17  -9 -34  -4   6 -36   5  15  38\n",
      "  -37   3 -36   8  14   6 -15 -13  17 -23  33  22  12  25  20   7 -36 -10\n",
      "  -36   6  21  -3 -37 -17 -25  -1   6   7 -16  19  -2  31 -27  -8  16 -20\n",
      "  -11   2  17  18  -7 -18 -29  32  35  31]]\n"
     ]
    }
   ],
   "source": [
    "model.print_layers_parameters()"
   ]
  },
  {
   "cell_type": "markdown",
   "id": "ac2b642bb2116418",
   "metadata": {},
   "source": [
    "# Training"
   ]
  },
  {
   "cell_type": "code",
   "execution_count": 15,
   "id": "d83547ef471af59b",
   "metadata": {
    "ExecuteTime": {
     "end_time": "2024-05-14T15:57:01.020371Z",
     "start_time": "2024-05-14T15:57:01.017107Z"
    }
   },
   "outputs": [],
   "source": [
    "from lib.optim.lr_schedulers import ConstantLR\n",
    "from lib.utils.nn import EarlyStopping, ReduceLROnPlateau"
   ]
  },
  {
   "cell_type": "code",
   "execution_count": 16,
   "id": "2b3bc290babb4da4",
   "metadata": {
    "ExecuteTime": {
     "end_time": "2024-05-14T15:57:01.025250Z",
     "start_time": "2024-05-14T15:57:01.021376Z"
    }
   },
   "outputs": [],
   "source": [
    "lr_scheduler = ConstantLR(config['lr_inv'])\n",
    "early_stopping = EarlyStopping(min_delta=0.01, patience=25, from_epoch=10)\n",
    "reduce_lr_plateau = ReduceLROnPlateau(factor=2, min_delta=0.01, patience=15, from_epoch=10)"
   ]
  },
  {
   "cell_type": "code",
   "execution_count": 17,
   "id": "24d30eaeea990ba0",
   "metadata": {
    "ExecuteTime": {
     "end_time": "2024-05-14T16:04:40.240428Z",
     "start_time": "2024-05-14T15:57:01.025250Z"
    }
   },
   "outputs": [
    {
     "data": {
      "application/vnd.jupyter.widget-view+json": {
       "model_id": "24c7aaa466e840c39ce7db3445bbfbef",
       "version_major": 2,
       "version_minor": 0
      },
      "text/plain": [
       "  0%|          | 0/35 [00:00<?, ?it/s]"
      ]
     },
     "metadata": {},
     "output_type": "display_data"
    },
    {
     "name": "stdout",
     "output_type": "stream",
     "text": [
      "Epoch 0:\n",
      "- Local accuracy 0: 49.63%\n",
      "- Local accuracy 1: 29.33%\n",
      "- Local accuracy 2: 19.01%\n",
      "- Local accuracy 3: 12.18%\n",
      "- Output accuracy: 12.23%\n",
      "- Output val accuracy: 20.65%\n",
      "\n",
      "\n",
      "Epoch 3:\n",
      "- Local accuracy 0: 75.80%\n",
      "- Local accuracy 1: 75.44%\n",
      "- Local accuracy 2: 74.21%\n",
      "- Local accuracy 3: 73.86%\n",
      "- Output accuracy: 73.86%\n",
      "- Output val accuracy: 76.72%\n",
      "\n",
      "\n",
      "Epoch 6:\n",
      "- Local accuracy 0: 78.41%\n",
      "- Local accuracy 1: 78.80%\n",
      "- Local accuracy 2: 78.67%\n",
      "- Local accuracy 3: 78.59%\n",
      "- Output accuracy: 78.59%\n",
      "- Output val accuracy: 82.24%\n",
      "\n",
      "\n",
      "Epoch 9:\n",
      "- Local accuracy 0: 79.76%\n",
      "- Local accuracy 1: 80.29%\n",
      "- Local accuracy 2: 80.30%\n",
      "- Local accuracy 3: 80.28%\n",
      "- Output accuracy: 80.28%\n",
      "- Output val accuracy: 83.60%\n",
      "\n",
      "\n",
      "Epoch 12:\n",
      "- Local accuracy 0: 80.93%\n",
      "- Local accuracy 1: 81.75%\n",
      "- Local accuracy 2: 81.70%\n",
      "- Local accuracy 3: 81.70%\n",
      "- Output accuracy: 81.69%\n",
      "- Output val accuracy: 84.48%\n",
      "\n",
      "\n",
      "Epoch 15:\n",
      "- Local accuracy 0: 81.65%\n",
      "- Local accuracy 1: 82.62%\n",
      "- Local accuracy 2: 82.68%\n",
      "- Local accuracy 3: 82.66%\n",
      "- Output accuracy: 82.66%\n",
      "- Output val accuracy: 85.47%\n",
      "\n",
      "\n",
      "Epoch 18:\n",
      "- Local accuracy 0: 82.20%\n",
      "- Local accuracy 1: 83.44%\n",
      "- Local accuracy 2: 83.50%\n",
      "- Local accuracy 3: 83.49%\n",
      "- Output accuracy: 83.49%\n",
      "- Output val accuracy: 85.30%\n",
      "\n",
      "\n",
      "Epoch 21:\n",
      "- Local accuracy 0: 82.78%\n",
      "- Local accuracy 1: 83.86%\n",
      "- Local accuracy 2: 83.94%\n",
      "- Local accuracy 3: 83.97%\n",
      "- Output accuracy: 83.96%\n",
      "- Output val accuracy: 86.59%\n",
      "\n",
      "\n",
      "Epoch 24:\n",
      "- Local accuracy 0: 83.16%\n",
      "- Local accuracy 1: 84.38%\n",
      "- Local accuracy 2: 84.40%\n",
      "- Local accuracy 3: 84.32%\n",
      "- Output accuracy: 84.32%\n",
      "- Output val accuracy: 86.34%\n",
      "\n",
      "\n",
      "Epoch 27:\n",
      "- Local accuracy 0: 83.80%\n",
      "- Local accuracy 1: 84.92%\n",
      "- Local accuracy 2: 84.90%\n",
      "- Local accuracy 3: 84.85%\n",
      "- Output accuracy: 84.86%\n",
      "- Output val accuracy: 86.62%\n",
      "\n",
      "\n",
      "Epoch 30:\n",
      "- Local accuracy 0: 83.92%\n",
      "- Local accuracy 1: 85.16%\n",
      "- Local accuracy 2: 85.19%\n",
      "- Local accuracy 3: 85.20%\n",
      "- Output accuracy: 85.19%\n",
      "- Output val accuracy: 87.11%\n",
      "\n",
      "\n",
      "Epoch 33:\n",
      "- Local accuracy 0: 84.11%\n",
      "- Local accuracy 1: 85.30%\n",
      "- Local accuracy 2: 85.38%\n",
      "- Local accuracy 3: 85.44%\n",
      "- Output accuracy: 85.45%\n",
      "- Output val accuracy: 87.29%\n",
      "\n",
      "\n",
      "Final train loss: 1227.72983\n",
      "Final train accuracy: 85.75%\n",
      "Final validation loss: 1010.23077\n",
      "Final validation accuracy: 87.34%\n"
     ]
    }
   ],
   "source": [
    "n_train_batches = len(X_train) // config['batch_size']\n",
    "n_val_batches = len(X_val) // config['batch_size']\n",
    "last_epoch = 0\n",
    "\n",
    "xp = cp.get_array_module(X_train)\n",
    "loss_history = xp.empty(config['num_epochs'])\n",
    "acc_history = xp.empty(config['num_epochs'])\n",
    "val_loss_history = xp.empty(config['num_epochs'])\n",
    "val_acc_history = xp.empty(config['num_epochs'])\n",
    "\n",
    "for epoch in trange(config['num_epochs']):\n",
    "    # Train and validation loops\n",
    "    lr_scheduler.step()\n",
    "    X_train, y_train = shuffle_dataset(X_train, y_train)\n",
    "    \n",
    "    loss_history[epoch], acc_history[epoch], local_losses, local_accuracies = train_step_local(\n",
    "        model=model,\n",
    "        X_train=X_train,\n",
    "        y_train=y_train,\n",
    "        batch_size=config['batch_size'],\n",
    "        n_train_batches=n_train_batches,\n",
    "        augmentation_pipeline=augmentation_pipeline,\n",
    "        lr_inv=lr_scheduler.get_lr()\n",
    "    )\n",
    "    \n",
    "    val_loss_history[epoch], val_acc_history[epoch] = val_step(\n",
    "        model=model, \n",
    "        X_val=X_val, \n",
    "        y_val=y_val, \n",
    "        batch_size=config['batch_size'], \n",
    "        n_val_batches=n_val_batches\n",
    "    )\n",
    "    \n",
    "    last_epoch = epoch\n",
    "\n",
    "    if epoch % 3 == 0:\n",
    "        print(f\"Epoch {epoch}:\")\n",
    "        for i, (local_loss, local_acc) in enumerate(zip(local_losses, local_accuracies)):\n",
    "            print(f\"- Local accuracy {i}: {local_acc:.2%}\")\n",
    "        print(f\"- Output accuracy: {acc_history[epoch]:.2%}\")\n",
    "        print(f\"- Output val accuracy: {val_acc_history[epoch]:.2%}\")\n",
    "        print(\"\\n\")\n",
    "\n",
    "    # Early stopping\n",
    "        if early_stopping.early_stop(float(val_acc_history[epoch])):\n",
    "            print(f\"{'-' * 64}\\nEarly stopping at epoch {epoch + 1}\\n{'-' * 64}\")\n",
    "            break\n",
    "\n",
    "    # ReduceLROnPlateau\n",
    "    if reduce_lr_plateau.reduce_lr(float(val_acc_history[epoch])):\n",
    "        lr_scheduler.set_lr(lr_scheduler.get_lr() * reduce_lr_plateau.factor)\n",
    "        print(f\"{'-' * 64}\\nReducing learning rate on plateau at epoch {epoch + 1}\\n{'-' * 64}\")\n",
    "    \n",
    "print(f'Final train loss: {loss_history[last_epoch]:.5f}')\n",
    "print(f'Final train accuracy: {acc_history[last_epoch]:.2%}')\n",
    "print(f'Final validation loss: {val_loss_history[last_epoch]:.5f}')\n",
    "print(f'Final validation accuracy: {val_acc_history[last_epoch]:.2%}')"
   ]
  },
  {
   "cell_type": "code",
   "execution_count": 18,
   "id": "979143561e3d1ec8",
   "metadata": {
    "ExecuteTime": {
     "end_time": "2024-05-14T16:04:40.563846Z",
     "start_time": "2024-05-14T16:04:40.241435Z"
    },
    "collapsed": false
   },
   "outputs": [
    {
     "name": "stdout",
     "output_type": "stream",
     "text": [
      "Local Val Accuracy 0: 85.68%\n",
      "Local Val Accuracy 1: 86.54%\n",
      "Local Val Accuracy 2: 86.63%\n",
      "Local Val Accuracy 3: 86.71%\n"
     ]
    }
   ],
   "source": [
    "y_subnets = model.subnetworks_predict(X_test)\n",
    "for i, y_subnet in enumerate(y_subnets):\n",
    "    subnet_acc = accuracy(y_test, y_subnet)\n",
    "    print(f'Local Val Accuracy {i}: {subnet_acc:.2%}')"
   ]
  },
  {
   "cell_type": "code",
   "execution_count": 19,
   "id": "6280a17a4afe9aa9",
   "metadata": {
    "ExecuteTime": {
     "end_time": "2024-05-14T16:04:40.568909Z",
     "start_time": "2024-05-14T16:04:40.564851Z"
    },
    "collapsed": false
   },
   "outputs": [],
   "source": [
    "loss_history, val_loss_history = loss_history[:last_epoch + 1], val_loss_history[:last_epoch + 1]\n",
    "acc_history, val_acc_history = acc_history[:last_epoch + 1], val_acc_history[:last_epoch + 1]\n",
    "\n",
    "if config['device'] == 'cuda':\n",
    "    # Move training statistics to the CPU\n",
    "    loss_history, val_loss_history = to_cpu(loss_history), to_cpu(val_loss_history)\n",
    "    acc_history, val_acc_history = to_cpu(acc_history), to_cpu(val_acc_history)"
   ]
  },
  {
   "cell_type": "code",
   "execution_count": 20,
   "id": "440e038c71b2e19e",
   "metadata": {
    "ExecuteTime": {
     "end_time": "2024-05-14T16:04:40.961097Z",
     "start_time": "2024-05-14T16:04:40.568909Z"
    },
    "collapsed": false
   },
   "outputs": [
    {
     "data": {
      "image/png": "[encoded data removed]",
      "text/plain": [
       "<Figure size 1600x500 with 2 Axes>"
      ]
     },
     "metadata": {},
     "output_type": "display_data"
    }
   ],
   "source": [
    "plot_history(loss_history, val_loss_history, acc_history, val_acc_history, log_scale=True)"
   ]
  },
  {
   "cell_type": "code",
   "execution_count": 21,
   "id": "e3a03c4c20436c63",
   "metadata": {
    "ExecuteTime": {
     "end_time": "2024-05-14T16:04:41.197179Z",
     "start_time": "2024-05-14T16:04:40.962102Z"
    },
    "collapsed": false
   },
   "outputs": [
    {
     "name": "stdout",
     "output_type": "stream",
     "text": [
      "Test accuracy: 86.72%\n"
     ]
    }
   ],
   "source": [
    "y_pred = model.predict(X_test, progress_bar=False)\n",
    "test_loss = l2_loss(y_test, y_pred)\n",
    "test_acc = accuracy(y_test, y_pred)\n",
    "print(f'Test accuracy: {test_acc:.2%}')"
   ]
  }
 ],
 "metadata": {
  "kernelspec": {
   "display_name": "Python 3",
   "language": "python",
   "name": "python3"
  },
  "language_info": {
   "codemirror_mode": {
    "name": "ipython",
    "version": 3
   },
   "file_extension": ".py",
   "mimetype": "text/x-python",
   "name": "python",
   "nbconvert_exporter": "python",
   "pygments_lexer": "ipython3",
   "version": "3.11.0"
  }
 },
 "nbformat": 4,
 "nbformat_minor": 5
}
