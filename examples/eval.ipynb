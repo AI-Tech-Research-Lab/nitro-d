{
 "cells": [
  {
   "cell_type": "code",
   "execution_count": 1,
   "metadata": {},
   "outputs": [],
   "source": [
    "import pathlib\n",
    "import pickle\n",
    "import sys"
   ]
  },
  {
   "cell_type": "code",
   "execution_count": 2,
   "metadata": {},
   "outputs": [],
   "source": [
    "sys.path.append(str(pathlib.Path('../').resolve()))"
   ]
  },
  {
   "cell_type": "code",
   "execution_count": 3,
   "metadata": {},
   "outputs": [],
   "source": [
    "from lib.utils.data import load_integer_dataset\n",
    "from lib.utils.enums import Dataset\n",
    "from lib.utils.nn import accuracy"
   ]
  },
  {
   "cell_type": "markdown",
   "metadata": {},
   "source": [
    "## Model"
   ]
  },
  {
   "cell_type": "code",
   "execution_count": 4,
   "metadata": {},
   "outputs": [],
   "source": [
    "with open('model.pkl', 'rb') as f:\n",
    "    model = pickle.load(f)"
   ]
  },
  {
   "cell_type": "code",
   "execution_count": 5,
   "metadata": {},
   "outputs": [
    {
     "name": "stdout",
     "output_type": "stream",
     "text": [
      "IntegerLocalLossCNN(\n",
      "\t(0): Sequential(\n",
      "\t\t\t(0): LocalConv2dBlock(\n",
      "\t\t\t(0): IntegerConv2d(in_channels=1, out_channels=128, bias=False, decay_rate_inv=28000)\n",
      "\t\t\t(1): ConstantScaling(fwd_factor=2304, bwd_factor=1)\n",
      "\t\t\t(2): NitroLeakyReLU(negative_slope_inv=4)\n",
      "\t\t\t(learning_layers): Sequential(\n",
      "\t\t\t(0): MaxPool2d(kernel_size=(8, 4), stride=(8, 4), padding=(4, 0))\n",
      "\t\t\t(1): Flatten()\n",
      "\t\t\t(2): IntegerLinear(in_features=3584, out_features=10, bias=False, decay_rate_inv=3500)\n",
      "\t\t\t(3): ConstantScaling(fwd_factor=917504, bwd_factor=1)\n",
      "\t\t)\n",
      "\t)\n",
      "\t\t\t(1): LocalConv2dBlock(\n",
      "\t\t\t(0): IntegerConv2d(in_channels=128, out_channels=256, bias=False, decay_rate_inv=28000)\n",
      "\t\t\t(1): ConstantScaling(fwd_factor=294912, bwd_factor=1)\n",
      "\t\t\t(2): NitroLeakyReLU(negative_slope_inv=4)\n",
      "\t\t\t(learning_layers): Sequential(\n",
      "\t\t\t(0): MaxPool2d(kernel_size=(8, 8), stride=(8, 8), padding=(4, 4))\n",
      "\t\t\t(1): Flatten()\n",
      "\t\t\t(2): IntegerLinear(in_features=4096, out_features=10, bias=False, decay_rate_inv=3500)\n",
      "\t\t\t(3): ConstantScaling(fwd_factor=1048576, bwd_factor=1)\n",
      "\t\t)\n",
      "\t)\n",
      "\t\t\t(2): MaxPool2d(kernel_size=(2, 2), stride=(2, 2), padding=(0, 0))\n",
      "\t\t\t(3): LocalConv2dBlock(\n",
      "\t\t\t(0): IntegerConv2d(in_channels=256, out_channels=256, bias=False, decay_rate_inv=28000)\n",
      "\t\t\t(1): ConstantScaling(fwd_factor=589824, bwd_factor=1)\n",
      "\t\t\t(2): NitroLeakyReLU(negative_slope_inv=4)\n",
      "\t\t\t(learning_layers): Sequential(\n",
      "\t\t\t(0): MaxPool2d(kernel_size=(4, 4), stride=(4, 4), padding=(2, 2))\n",
      "\t\t\t(1): Flatten()\n",
      "\t\t\t(2): IntegerLinear(in_features=4096, out_features=10, bias=False, decay_rate_inv=3500)\n",
      "\t\t\t(3): ConstantScaling(fwd_factor=1048576, bwd_factor=1)\n",
      "\t\t)\n",
      "\t)\n",
      "\t\t\t(4): LocalConv2dBlock(\n",
      "\t\t\t(0): IntegerConv2d(in_channels=256, out_channels=512, bias=False, decay_rate_inv=28000)\n",
      "\t\t\t(1): ConstantScaling(fwd_factor=589824, bwd_factor=1)\n",
      "\t\t\t(2): NitroLeakyReLU(negative_slope_inv=4)\n",
      "\t\t\t(learning_layers): Sequential(\n",
      "\t\t\t(0): MaxPool2d(kernel_size=(8, 4), stride=(8, 4), padding=(4, 2))\n",
      "\t\t\t(1): Flatten()\n",
      "\t\t\t(2): IntegerLinear(in_features=4096, out_features=10, bias=False, decay_rate_inv=3500)\n",
      "\t\t\t(3): ConstantScaling(fwd_factor=1048576, bwd_factor=1)\n",
      "\t\t)\n",
      "\t)\n",
      "\t\t\t(5): MaxPool2d(kernel_size=(2, 2), stride=(2, 2), padding=(0, 0))\n",
      "\t\t\t(6): LocalConv2dBlock(\n",
      "\t\t\t(0): IntegerConv2d(in_channels=512, out_channels=512, bias=False, decay_rate_inv=28000)\n",
      "\t\t\t(1): ConstantScaling(fwd_factor=1179648, bwd_factor=1)\n",
      "\t\t\t(2): NitroLeakyReLU(negative_slope_inv=4)\n",
      "\t\t\t(learning_layers): Sequential(\n",
      "\t\t\t(0): MaxPool2d(kernel_size=(4, 2), stride=(4, 2), padding=(2, 1))\n",
      "\t\t\t(1): Flatten()\n",
      "\t\t\t(2): IntegerLinear(in_features=4096, out_features=10, bias=False, decay_rate_inv=3500)\n",
      "\t\t\t(3): ConstantScaling(fwd_factor=1048576, bwd_factor=1)\n",
      "\t\t)\n",
      "\t)\n",
      "\t\t\t(7): MaxPool2d(kernel_size=(2, 2), stride=(2, 2), padding=(0, 0))\n",
      "\t\t\t(8): LocalConv2dBlock(\n",
      "\t\t\t(0): IntegerConv2d(in_channels=512, out_channels=512, bias=False, decay_rate_inv=28000)\n",
      "\t\t\t(1): ConstantScaling(fwd_factor=1179648, bwd_factor=1)\n",
      "\t\t\t(2): NitroLeakyReLU(negative_slope_inv=4)\n",
      "\t\t\t(learning_layers): Sequential(\n",
      "\t\t\t(0): MaxPool2d(kernel_size=(2, 1), stride=(2, 1), padding=(1, 0))\n",
      "\t\t\t(1): Flatten()\n",
      "\t\t\t(2): IntegerLinear(in_features=3072, out_features=10, bias=False, decay_rate_inv=3500)\n",
      "\t\t\t(3): ConstantScaling(fwd_factor=786432, bwd_factor=1)\n",
      "\t\t)\n",
      "\t)\n",
      "\t\t\t(9): Dropout(dropout_rate=0.1)\n",
      "\t\t\t(10): MaxPool2d(kernel_size=(2, 2), stride=(2, 2), padding=(0, 0))\n",
      "\t\t)\n",
      "\t(1): IntegerLocalLossMLP(\n",
      "\t(0): Sequential(\n",
      "\t\t\t(0): Flatten()\n",
      "\t\t\t(1): LocalLinearBlock(\n",
      "\t\t\t(0): IntegerLinear(in_features=512, out_features=1024, bias=False, decay_rate_inv=28000)\n",
      "\t\t\t(1): ConstantScaling(fwd_factor=131072, bwd_factor=1)\n",
      "\t\t\t(2): NitroLeakyReLU(negative_slope_inv=4)\n",
      "\t\t\t(learning_layers): Sequential(\n",
      "\t\t\t(0): IntegerLinear(in_features=1024, out_features=10, bias=False, decay_rate_inv=3500)\n",
      "\t\t\t(1): ConstantScaling(fwd_factor=262144, bwd_factor=1)\n",
      "\t\t)\n",
      "\t)\n",
      "\t\t\t(2): Dropout(dropout_rate=0.1)\n",
      "\t\t\t(3): Sequential(\n",
      "\t\t\t(0): IntegerLinear(in_features=1024, out_features=10, bias=False, decay_rate_inv=3500)\n",
      "\t\t\t(1): ConstantScaling(fwd_factor=262144, bwd_factor=1)\n",
      "\t\t)\n",
      "\t\t)\n",
      "\t)\n",
      ")\n"
     ]
    }
   ],
   "source": [
    "print(model)"
   ]
  },
  {
   "cell_type": "markdown",
   "metadata": {},
   "source": [
    "## Data"
   ]
  },
  {
   "cell_type": "code",
   "execution_count": 6,
   "metadata": {},
   "outputs": [],
   "source": [
    "config = dict(\n",
    "    dataset=Dataset.FASHION_MNIST.name,\n",
    "    subsample_ratio=1.0,\n",
    "    ohe_values=(0, 32),\n",
    "    data_augmentation=True,\n",
    "    normalize=True,\n",
    "    device='cuda'\n",
    ")"
   ]
  },
  {
   "cell_type": "code",
   "execution_count": 7,
   "metadata": {},
   "outputs": [
    {
     "name": "stdout",
     "output_type": "stream",
     "text": [
      "Training on 60000 samples\n",
      "Data normalized. New statistics:\n",
      "-  Min: -45\n",
      "-  Max: 114\n",
      "- Mean: 0\n",
      "-  Std: 56\n",
      "\n",
      "Moved data to device: <CUDA Device 0>\n",
      "Train set:  (60000, 1, 28, 28), (60000, 10)\n",
      "Test set:   (10000, 1, 28, 28), (10000, 10)\n",
      "Data types: (int8, int8)\n"
     ]
    },
    {
     "data": {
      "image/png": "[encoded data removed]",
      "text/plain": [
       "<Figure size 2000x2000 with 6 Axes>"
      ]
     },
     "metadata": {},
     "output_type": "display_data"
    }
   ],
   "source": [
    "dataset = load_integer_dataset(config, ohe_values=config[\"ohe_values\"], val_dim=0, show_images=True)\n",
    "X_train, _, X_test, y_train, _, y_test = dataset"
   ]
  },
  {
   "cell_type": "markdown",
   "metadata": {},
   "source": [
    "## Evaluation"
   ]
  },
  {
   "cell_type": "code",
   "execution_count": 8,
   "metadata": {},
   "outputs": [
    {
     "data": {
      "application/vnd.jupyter.widget-view+json": {
       "model_id": "41520e9ecf6c49a6a9f8138def02d96d",
       "version_major": 2,
       "version_minor": 0
      },
      "text/plain": [
       "  0%|          | 0/469 [00:00<?, ?it/s]"
      ]
     },
     "metadata": {},
     "output_type": "display_data"
    },
    {
     "data": {
      "application/vnd.jupyter.widget-view+json": {
       "model_id": "6cbe0eb6810b4d06a232621738552fde",
       "version_major": 2,
       "version_minor": 0
      },
      "text/plain": [
       "  0%|          | 0/79 [00:00<?, ?it/s]"
      ]
     },
     "metadata": {},
     "output_type": "display_data"
    }
   ],
   "source": [
    "y_pred_train = model.predict(X_train, progress_bar=True)\n",
    "y_pred_test = model.predict(X_test, progress_bar=True)"
   ]
  },
  {
   "cell_type": "code",
   "execution_count": 9,
   "metadata": {},
   "outputs": [
    {
     "name": "stdout",
     "output_type": "stream",
     "text": [
      "Output accuracy:\n",
      "- Train accuracy: 95.04%\n",
      "-  Test accuracy: 93.19%\n"
     ]
    }
   ],
   "source": [
    "print(f\"Output accuracy:\")\n",
    "print(f\"- Train accuracy: {accuracy(y_train, y_pred_train):.2%}\")\n",
    "print(f\"-  Test accuracy: {accuracy(y_test, y_pred_test):.2%}\")"
   ]
  },
  {
   "cell_type": "code",
   "execution_count": 10,
   "metadata": {},
   "outputs": [
    {
     "data": {
      "application/vnd.jupyter.widget-view+json": {
       "model_id": "eb6d43411dd94150b12552e4f2be1a5f",
       "version_major": 2,
       "version_minor": 0
      },
      "text/plain": [
       "  0%|          | 0/469 [00:00<?, ?it/s]"
      ]
     },
     "metadata": {},
     "output_type": "display_data"
    },
    {
     "name": "stdout",
     "output_type": "stream",
     "text": [
      "Local train accuracy 0: 88.63%\n",
      "Local train accuracy 1: 94.01%\n",
      "Local train accuracy 2: 95.69%\n",
      "Local train accuracy 3: 95.54%\n",
      "Local train accuracy 4: 95.76%\n",
      "Local train accuracy 5: 95.59%\n",
      "Local train accuracy 6: 95.13%\n"
     ]
    }
   ],
   "source": [
    "y_subnets = model.subnetworks_predict(X_train, progress_bar=True)\n",
    "for i, y_subnet in enumerate(y_subnets):\n",
    "    subnet_acc = accuracy(y_train, y_subnet)\n",
    "    print(f'Local train accuracy {i}: {subnet_acc:.2%}')"
   ]
  },
  {
   "cell_type": "code",
   "execution_count": 11,
   "metadata": {},
   "outputs": [
    {
     "data": {
      "application/vnd.jupyter.widget-view+json": {
       "model_id": "c41e79165674476db38857c145da655d",
       "version_major": 2,
       "version_minor": 0
      },
      "text/plain": [
       "  0%|          | 0/79 [00:00<?, ?it/s]"
      ]
     },
     "metadata": {},
     "output_type": "display_data"
    },
    {
     "name": "stdout",
     "output_type": "stream",
     "text": [
      "Local test accuracy 0: 87.94%\n",
      "Local test accuracy 1: 91.47%\n",
      "Local test accuracy 2: 92.89%\n",
      "Local test accuracy 3: 93.34%\n",
      "Local test accuracy 4: 93.62%\n",
      "Local test accuracy 5: 93.64%\n",
      "Local test accuracy 6: 93.30%\n"
     ]
    }
   ],
   "source": [
    "y_subnets = model.subnetworks_predict(X_test, progress_bar=True)\n",
    "for i, y_subnet in enumerate(y_subnets):\n",
    "    subnet_acc = accuracy(y_test, y_subnet)\n",
    "    print(f'Local test accuracy {i}: {subnet_acc:.2%}')"
   ]
  }
 ],
 "metadata": {
  "kernelspec": {
   "display_name": ".venv",
   "language": "python",
   "name": "python3"
  },
  "language_info": {
   "codemirror_mode": {
    "name": "ipython",
    "version": 3
   },
   "file_extension": ".py",
   "mimetype": "text/x-python",
   "name": "python",
   "nbconvert_exporter": "python",
   "pygments_lexer": "ipython3",
   "version": "3.11.0"
  }
 },
 "nbformat": 4,
 "nbformat_minor": 2
}
