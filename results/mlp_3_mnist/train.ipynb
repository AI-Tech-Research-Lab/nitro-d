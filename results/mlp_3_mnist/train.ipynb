{
 "cells": [
  {
   "cell_type": "markdown",
   "id": "3081df066748711b",
   "metadata": {},
   "source": [
    "# MLP 3 - MNIST"
   ]
  },
  {
   "cell_type": "code",
   "execution_count": 1,
   "id": "e582a1f102c5c554",
   "metadata": {
    "ExecuteTime": {
     "end_time": "2024-05-16T21:40:03.026752Z",
     "start_time": "2024-05-16T21:40:02.599556Z"
    },
    "execution": {
     "iopub.execute_input": "2024-05-17T12:45:01.429250Z",
     "iopub.status.busy": "2024-05-17T12:45:01.429068Z",
     "iopub.status.idle": "2024-05-17T12:45:01.720322Z",
     "shell.execute_reply": "2024-05-17T12:45:01.719575Z"
    }
   },
   "outputs": [],
   "source": [
    "import numpy as np\n",
    "import cupy as cp\n",
    "import pathlib\n",
    "import pickle\n",
    "import csv\n",
    "import sys"
   ]
  },
  {
   "cell_type": "code",
   "execution_count": 2,
   "id": "a36c83d0",
   "metadata": {
    "ExecuteTime": {
     "end_time": "2024-05-16T21:40:03.031441Z",
     "start_time": "2024-05-16T21:40:03.027756Z"
    },
    "execution": {
     "iopub.execute_input": "2024-05-17T12:45:01.722424Z",
     "iopub.status.busy": "2024-05-17T12:45:01.722209Z",
     "iopub.status.idle": "2024-05-17T12:45:01.725262Z",
     "shell.execute_reply": "2024-05-17T12:45:01.724702Z"
    }
   },
   "outputs": [],
   "source": [
    "sys.path.append(str(pathlib.Path('../../').resolve()))"
   ]
  },
  {
   "cell_type": "code",
   "execution_count": 3,
   "id": "4a5ce8e9a8902dff",
   "metadata": {
    "ExecuteTime": {
     "end_time": "2024-05-16T21:40:06.366038Z",
     "start_time": "2024-05-16T21:40:03.032460Z"
    },
    "execution": {
     "iopub.execute_input": "2024-05-17T12:45:01.726931Z",
     "iopub.status.busy": "2024-05-17T12:45:01.726770Z",
     "iopub.status.idle": "2024-05-17T12:45:03.586431Z",
     "shell.execute_reply": "2024-05-17T12:45:03.585749Z"
    }
   },
   "outputs": [],
   "source": [
    "from lib.experiments import train_test_experiment, build_MLP, build_augmentation_pipeline\n",
    "from lib.utils.enums import NonLinearity, Initialization, Dataset, OptimizerName\n",
    "from lib.utils.data import load_integer_dataset"
   ]
  },
  {
   "cell_type": "markdown",
   "id": "d1649196b987bc01",
   "metadata": {},
   "source": [
    "## Experiments config"
   ]
  },
  {
   "cell_type": "code",
   "execution_count": 5,
   "id": "5859029d6a812144",
   "metadata": {
    "ExecuteTime": {
     "end_time": "2024-05-16T21:40:06.370394Z",
     "start_time": "2024-05-16T21:40:06.367058Z"
    },
    "execution": {
     "iopub.execute_input": "2024-05-17T12:45:03.766886Z",
     "iopub.status.busy": "2024-05-17T12:45:03.766700Z",
     "iopub.status.idle": "2024-05-17T12:45:03.769717Z",
     "shell.execute_reply": "2024-05-17T12:45:03.769107Z"
    }
   },
   "outputs": [],
   "source": [
    "num_fc_layers = 4\n",
    "num_fc_hidden = [1024, 1024, 1024]"
   ]
  },
  {
   "cell_type": "code",
   "execution_count": 6,
   "id": "2d636533a1995025",
   "metadata": {
    "ExecuteTime": {
     "end_time": "2024-05-16T21:40:06.376370Z",
     "start_time": "2024-05-16T21:40:06.372401Z"
    },
    "execution": {
     "iopub.execute_input": "2024-05-17T12:45:03.771498Z",
     "iopub.status.busy": "2024-05-17T12:45:03.771313Z",
     "iopub.status.idle": "2024-05-17T12:45:03.774224Z",
     "shell.execute_reply": "2024-05-17T12:45:03.773640Z"
    }
   },
   "outputs": [],
   "source": [
    "dataset_config = dict(\n",
    "    dataset=Dataset.MNIST.name,\n",
    "    subsample_ratio=1.0,\n",
    "    ohe_values=(0, 32),\n",
    "    data_augmentation=True,\n",
    "    normalize=True,\n",
    ")"
   ]
  },
  {
   "cell_type": "code",
   "execution_count": 7,
   "id": "7d1cd09ad113de03",
   "metadata": {
    "ExecuteTime": {
     "end_time": "2024-05-16T21:40:06.381236Z",
     "start_time": "2024-05-16T21:40:06.377376Z"
    },
    "execution": {
     "iopub.execute_input": "2024-05-17T12:45:03.775855Z",
     "iopub.status.busy": "2024-05-17T12:45:03.775693Z",
     "iopub.status.idle": "2024-05-17T12:45:03.778664Z",
     "shell.execute_reply": "2024-05-17T12:45:03.778096Z"
    }
   },
   "outputs": [],
   "source": [
    "network_config = dict(\n",
    "    num_fc_layers=num_fc_layers,\n",
    "    num_fc_hidden=num_fc_hidden,\n",
    "    non_linearity=NonLinearity.NITRO_LEAKY_RELU.name,\n",
    "    init=Initialization.UNIFORM_KAIMING_LEAKY_RELU.name,\n",
    "    dropout_rate=0.0,\n",
    "    seed=42,\n",
    "    dtype='int32',\n",
    "    device='cuda',\n",
    "    local_loss='pred',\n",
    "    bias=False,\n",
    "    debug=False,\n",
    ")"
   ]
  },
  {
   "cell_type": "code",
   "execution_count": 8,
   "id": "9e1722b88a039cfa",
   "metadata": {
    "ExecuteTime": {
     "end_time": "2024-05-16T21:40:06.386552Z",
     "start_time": "2024-05-16T21:40:06.382241Z"
    },
    "execution": {
     "iopub.execute_input": "2024-05-17T12:45:03.780460Z",
     "iopub.status.busy": "2024-05-17T12:45:03.780254Z",
     "iopub.status.idle": "2024-05-17T12:45:03.783222Z",
     "shell.execute_reply": "2024-05-17T12:45:03.782593Z"
    }
   },
   "outputs": [],
   "source": [
    "training_config = dict(\n",
    "    batch_size=64,\n",
    "    num_epochs=150,\n",
    "    lr_inv=512,\n",
    "    lr_amp_factor=640,\n",
    "    fwd_decay_inv=28_000,\n",
    "    subnet_decay_inv=500,\n",
    "    optimizer=OptimizerName.INTEGER_SGD.name,\n",
    ")"
   ]
  },
  {
   "cell_type": "code",
   "execution_count": 9,
   "id": "358a533d2ff9b822",
   "metadata": {
    "ExecuteTime": {
     "end_time": "2024-05-16T21:40:06.390517Z",
     "start_time": "2024-05-16T21:40:06.387559Z"
    },
    "execution": {
     "iopub.execute_input": "2024-05-17T12:45:03.784870Z",
     "iopub.status.busy": "2024-05-17T12:45:03.784705Z",
     "iopub.status.idle": "2024-05-17T12:45:03.787311Z",
     "shell.execute_reply": "2024-05-17T12:45:03.786750Z"
    }
   },
   "outputs": [],
   "source": [
    "config = dataset_config | network_config | training_config"
   ]
  },
  {
   "cell_type": "markdown",
   "id": "7d4ddf255216adb",
   "metadata": {},
   "source": [
    "## Run the configuration"
   ]
  },
  {
   "cell_type": "code",
   "execution_count": 10,
   "id": "15b3c7d6b72d6db",
   "metadata": {
    "ExecuteTime": {
     "end_time": "2024-05-16T21:40:08.797944Z",
     "start_time": "2024-05-16T21:40:06.391524Z"
    },
    "execution": {
     "iopub.execute_input": "2024-05-17T12:45:03.789184Z",
     "iopub.status.busy": "2024-05-17T12:45:03.789023Z",
     "iopub.status.idle": "2024-05-17T12:45:05.887690Z",
     "shell.execute_reply": "2024-05-17T12:45:05.887002Z"
    }
   },
   "outputs": [
    {
     "name": "stdout",
     "output_type": "stream",
     "text": [
      "Training on 60000 samples\n"
     ]
    },
    {
     "name": "stdout",
     "output_type": "stream",
     "text": [
      "Data normalized. New statistics:\n",
      "-  Min: -31\n",
      "-  Max: 127\n",
      "- Mean: -7\n",
      "-  Std: 53\n",
      "\n",
      "Moved data to device: <CUDA Device 1>\n",
      "Train set:  (60000, 1, 28, 28), (60000, 10)\n",
      "Test set:   (10000, 1, 28, 28), (10000, 10)\n",
      "Data types: (int8, int8)\n"
     ]
    },
    {
     "data": {
      "image/png": "[encoded data removed]",
      "text/plain": [
       "<Figure size 2000x2000 with 6 Axes>"
      ]
     },
     "metadata": {},
     "output_type": "display_data"
    }
   ],
   "source": [
    "# Show the data and the model\n",
    "dataset = load_integer_dataset(config, ohe_values=config[\"ohe_values\"], val_dim=0, show_images=True, data_path='../.data')\n",
    "X_train, _, _, y_train, _, _ = dataset"
   ]
  },
  {
   "cell_type": "code",
   "execution_count": 11,
   "id": "9d424675633d629a",
   "metadata": {
    "ExecuteTime": {
     "end_time": "2024-05-16T21:40:08.929075Z",
     "start_time": "2024-05-16T21:40:08.799962Z"
    },
    "execution": {
     "iopub.execute_input": "2024-05-17T12:45:05.889525Z",
     "iopub.status.busy": "2024-05-17T12:45:05.889332Z",
     "iopub.status.idle": "2024-05-17T12:45:05.927713Z",
     "shell.execute_reply": "2024-05-17T12:45:05.927060Z"
    }
   },
   "outputs": [
    {
     "name": "stdout",
     "output_type": "stream",
     "text": [
      "IntegerLocalLossMLP(\n",
      "\t(0): Sequential(\n",
      "\t\t\t(0): Flatten()\n",
      "\t\t\t(1): LocalLinearBlock(\n",
      "\t\t\t(0): IntegerLinear(in_features=784, out_features=1024, bias=False, decay_rate_inv=28000)\n",
      "\t\t\t(1): ConstantScaling(fwd_factor=200704, bwd_factor=1)\n",
      "\t\t\t(2): NitroLeakyReLU(negative_slope_inv=4)\n",
      "\t\t\t(learning_layers): Sequential(\n",
      "\t\t\t(0): IntegerLinear(in_features=1024, out_features=10, bias=False, decay_rate_inv=500)\n",
      "\t\t\t(1): ConstantScaling(fwd_factor=262144, bwd_factor=1)\n",
      "\t\t)\n",
      "\t)\n",
      "\t\t\t(2): LocalLinearBlock(\n",
      "\t\t\t(0): IntegerLinear(in_features=1024, out_features=1024, bias=False, decay_rate_inv=28000)\n",
      "\t\t\t(1): ConstantScaling(fwd_factor=262144, bwd_factor=1)\n",
      "\t\t\t(2): NitroLeakyReLU(negative_slope_inv=4)\n",
      "\t\t\t(learning_layers): Sequential(\n",
      "\t\t\t(0): IntegerLinear(in_features=1024, out_features=10, bias=False, decay_rate_inv=500)\n",
      "\t\t\t(1): ConstantScaling(fwd_factor=262144, bwd_factor=1)\n",
      "\t\t)\n",
      "\t)\n",
      "\t\t\t(3): LocalLinearBlock(\n",
      "\t\t\t(0): IntegerLinear(in_features=1024, out_features=1024, bias=False, decay_rate_inv=28000)\n",
      "\t\t\t(1): ConstantScaling(fwd_factor=262144, bwd_factor=1)\n",
      "\t\t\t(2): NitroLeakyReLU(negative_slope_inv=4)\n",
      "\t\t\t(learning_layers): Sequential(\n",
      "\t\t\t(0): IntegerLinear(in_features=1024, out_features=10, bias=False, decay_rate_inv=500)\n",
      "\t\t\t(1): ConstantScaling(fwd_factor=262144, bwd_factor=1)\n",
      "\t\t)\n",
      "\t)\n",
      "\t\t\t(4): Sequential(\n",
      "\t\t\t(0): IntegerLinear(in_features=1024, out_features=10, bias=False, decay_rate_inv=500)\n",
      "\t\t\t(1): ConstantScaling(fwd_factor=262144, bwd_factor=1)\n",
      "\t\t)\n",
      "\t\t)\n",
      "\t)\n"
     ]
    }
   ],
   "source": [
    "model = build_MLP(config, X_tr=X_train, y_tr=y_train)\n",
    "print(model.extra_repr(1))"
   ]
  },
  {
   "cell_type": "code",
   "execution_count": 12,
   "id": "e4c1bb797582873b",
   "metadata": {
    "ExecuteTime": {
     "end_time": "2024-05-15T12:27:52.470933Z",
     "start_time": "2024-05-15T12:27:52.465522Z"
    },
    "execution": {
     "iopub.execute_input": "2024-05-17T12:45:05.929493Z",
     "iopub.status.busy": "2024-05-17T12:45:05.929320Z",
     "iopub.status.idle": "2024-05-17T12:45:05.935023Z",
     "shell.execute_reply": "2024-05-17T12:45:05.934419Z"
    }
   },
   "outputs": [],
   "source": [
    "def run_experiment(exp_config):\n",
    "    # Setup reproducibility\n",
    "    print(f\"{'-' * 64}\")\n",
    "    print(f\"Running experiment with seed {exp_config['seed']}...\")\n",
    "    np.random.seed(exp_config[\"seed\"])\n",
    "    cp.random.seed(exp_config[\"seed\"])\n",
    "    \n",
    "    # Load the dataset\n",
    "    data = load_integer_dataset(exp_config, ohe_values=exp_config[\"ohe_values\"], val_dim=0, show_images=False, show_log=False, data_path='../.data')\n",
    "    X_tr, _, X_test, y_tr, _, y_test = data\n",
    "\n",
    "    # Setup data augmentation\n",
    "    augmentation_pipeline = build_augmentation_pipeline(exp_config)\n",
    "    \n",
    "    # Build and train the model\n",
    "    m = build_MLP(exp_config, X_tr=X_tr, y_tr=y_tr)    \n",
    "    best_train_acc, best_test_acc = train_test_experiment(\n",
    "        m, exp_config, X_tr=X_tr, X_te=X_test, y_tr=y_tr, y_te=y_test,\n",
    "        augmentation_pipeline=augmentation_pipeline,\n",
    "        show_local_accuracies=False, show_progress_bar=False\n",
    "    )\n",
    "\n",
    "    # Append the results to a CSV file\n",
    "    with open('./results.csv', mode='a', newline='') as f:\n",
    "        writer = csv.writer(f)\n",
    "        writer.writerow([exp_config[\"seed\"], best_train_acc, best_test_acc])\n",
    "        \n",
    "    # Save the first model\n",
    "    if not pathlib.Path('model.pkl').exists():\n",
    "        with open('model.pkl', 'wb') as f:\n",
    "            pickle.dump(m, f)"
   ]
  },
  {
   "cell_type": "code",
   "execution_count": 13,
   "id": "1977595faf571666",
   "metadata": {
    "ExecuteTime": {
     "end_time": "2024-05-15T12:31:49.998199Z",
     "start_time": "2024-05-15T12:27:52.471939Z"
    },
    "execution": {
     "iopub.execute_input": "2024-05-17T12:45:05.936671Z",
     "iopub.status.busy": "2024-05-17T12:45:05.936502Z",
     "iopub.status.idle": "2024-05-17T17:23:17.682661Z",
     "shell.execute_reply": "2024-05-17T17:23:17.682032Z"
    }
   },
   "outputs": [
    {
     "name": "stdout",
     "output_type": "stream",
     "text": [
      "----------------------------------------------------------------\n",
      "Running experiment with seed 42...\n"
     ]
    },
    {
     "name": "stdout",
     "output_type": "stream",
     "text": [
      "Epoch   1/150 - Train accuracy: 10.264% - Test accuracy: 20.052%\n"
     ]
    },
    {
     "name": "stdout",
     "output_type": "stream",
     "text": [
      "Epoch   2/150 - Train accuracy: 59.482% - Test accuracy: 88.552%\n"
     ]
    },
    {
     "name": "stdout",
     "output_type": "stream",
     "text": [
      "Epoch   3/150 - Train accuracy: 83.660% - Test accuracy: 91.927%\n"
     ]
    },
    {
     "name": "stdout",
     "output_type": "stream",
     "text": [
      "Epoch   4/150 - Train accuracy: 85.939% - Test accuracy: 93.249%\n"
     ]
    },
    {
     "name": "stdout",
     "output_type": "stream",
     "text": [
      "Epoch   5/150 - Train accuracy: 89.114% - Test accuracy: 94.241%\n"
     ]
    },
    {
     "name": "stdout",
     "output_type": "stream",
     "text": [
      "Epoch   6/150 - Train accuracy: 90.565% - Test accuracy: 94.892%\n"
     ]
    },
    {
     "name": "stdout",
     "output_type": "stream",
     "text": [
      "Epoch   7/150 - Train accuracy: 91.682% - Test accuracy: 95.533%\n"
     ]
    },
    {
     "name": "stdout",
     "output_type": "stream",
     "text": [
      "Epoch   8/150 - Train accuracy: 92.716% - Test accuracy: 96.004%\n"
     ]
    },
    {
     "name": "stdout",
     "output_type": "stream",
     "text": [
      "Epoch   9/150 - Train accuracy: 93.527% - Test accuracy: 96.444%\n"
     ]
    },
    {
     "name": "stdout",
     "output_type": "stream",
     "text": [
      "Epoch  10/150 - Train accuracy: 93.927% - Test accuracy: 96.635%\n"
     ]
    },
    {
     "name": "stdout",
     "output_type": "stream",
     "text": [
      "Epoch  11/150 - Train accuracy: 94.302% - Test accuracy: 96.815%\n"
     ]
    },
    {
     "name": "stdout",
     "output_type": "stream",
     "text": [
      "Epoch  12/150 - Train accuracy: 94.734% - Test accuracy: 96.985%\n"
     ]
    },
    {
     "name": "stdout",
     "output_type": "stream",
     "text": [
      "Epoch  13/150 - Train accuracy: 95.131% - Test accuracy: 97.085%\n"
     ]
    },
    {
     "name": "stdout",
     "output_type": "stream",
     "text": [
      "Epoch  14/150 - Train accuracy: 95.279% - Test accuracy: 97.196%\n"
     ]
    },
    {
     "name": "stdout",
     "output_type": "stream",
     "text": [
      "Epoch  15/150 - Train accuracy: 95.583% - Test accuracy: 97.316%\n"
     ]
    },
    {
     "name": "stdout",
     "output_type": "stream",
     "text": [
      "Epoch  16/150 - Train accuracy: 95.874% - Test accuracy: 97.406%\n"
     ]
    },
    {
     "name": "stdout",
     "output_type": "stream",
     "text": [
      "Epoch  17/150 - Train accuracy: 95.921% - Test accuracy: 97.526%\n"
     ]
    },
    {
     "name": "stdout",
     "output_type": "stream",
     "text": [
      "Epoch  18/150 - Train accuracy: 95.978% - Test accuracy: 97.586%\n"
     ]
    },
    {
     "name": "stdout",
     "output_type": "stream",
     "text": [
      "Epoch  19/150 - Train accuracy: 96.156% - Test accuracy: 97.706%\n"
     ]
    },
    {
     "name": "stdout",
     "output_type": "stream",
     "text": [
      "Epoch  20/150 - Train accuracy: 96.326% - Test accuracy: 97.726%\n"
     ]
    },
    {
     "name": "stdout",
     "output_type": "stream",
     "text": [
      "Epoch  21/150 - Train accuracy: 96.405% - Test accuracy: 97.686%\n"
     ]
    },
    {
     "name": "stdout",
     "output_type": "stream",
     "text": [
      "Epoch  22/150 - Train accuracy: 96.420% - Test accuracy: 97.776%\n"
     ]
    },
    {
     "name": "stdout",
     "output_type": "stream",
     "text": [
      "Epoch  23/150 - Train accuracy: 96.625% - Test accuracy: 97.877%\n"
     ]
    },
    {
     "name": "stdout",
     "output_type": "stream",
     "text": [
      "Epoch  24/150 - Train accuracy: 96.620% - Test accuracy: 97.827%\n"
     ]
    },
    {
     "name": "stdout",
     "output_type": "stream",
     "text": [
      "Epoch  25/150 - Train accuracy: 96.810% - Test accuracy: 97.857%\n"
     ]
    },
    {
     "name": "stdout",
     "output_type": "stream",
     "text": [
      "Epoch  26/150 - Train accuracy: 96.920% - Test accuracy: 97.917%\n"
     ]
    },
    {
     "name": "stdout",
     "output_type": "stream",
     "text": [
      "Epoch  27/150 - Train accuracy: 96.943% - Test accuracy: 97.997%\n"
     ]
    },
    {
     "name": "stdout",
     "output_type": "stream",
     "text": [
      "Epoch  28/150 - Train accuracy: 97.075% - Test accuracy: 97.977%\n"
     ]
    },
    {
     "name": "stdout",
     "output_type": "stream",
     "text": [
      "Epoch  29/150 - Train accuracy: 97.065% - Test accuracy: 98.057%\n"
     ]
    },
    {
     "name": "stdout",
     "output_type": "stream",
     "text": [
      "Epoch  30/150 - Train accuracy: 97.037% - Test accuracy: 98.077%\n"
     ]
    },
    {
     "name": "stdout",
     "output_type": "stream",
     "text": [
      "Epoch  31/150 - Train accuracy: 97.107% - Test accuracy: 97.997%\n"
     ]
    },
    {
     "name": "stdout",
     "output_type": "stream",
     "text": [
      "Epoch  32/150 - Train accuracy: 97.194% - Test accuracy: 98.027%\n"
     ]
    },
    {
     "name": "stdout",
     "output_type": "stream",
     "text": [
      "Epoch  33/150 - Train accuracy: 97.225% - Test accuracy: 98.067%\n"
     ]
    },
    {
     "name": "stdout",
     "output_type": "stream",
     "text": [
      "Epoch  34/150 - Train accuracy: 97.295% - Test accuracy: 98.177%\n",
      "----------------------------------------------------------------\n",
      "Reducing learning rate on plateau at epoch 34\n",
      "----------------------------------------------------------------\n"
     ]
    },
    {
     "name": "stdout",
     "output_type": "stream",
     "text": [
      "Epoch  35/150 - Train accuracy: 97.294% - Test accuracy: 98.067%\n"
     ]
    },
    {
     "name": "stdout",
     "output_type": "stream",
     "text": [
      "Epoch  36/150 - Train accuracy: 97.292% - Test accuracy: 98.097%\n"
     ]
    },
    {
     "name": "stdout",
     "output_type": "stream",
     "text": [
      "Epoch  37/150 - Train accuracy: 97.329% - Test accuracy: 98.187%\n"
     ]
    },
    {
     "name": "stdout",
     "output_type": "stream",
     "text": [
      "Epoch  38/150 - Train accuracy: 97.359% - Test accuracy: 98.167%\n"
     ]
    },
    {
     "name": "stdout",
     "output_type": "stream",
     "text": [
      "Epoch  39/150 - Train accuracy: 97.392% - Test accuracy: 98.237%\n"
     ]
    },
    {
     "name": "stdout",
     "output_type": "stream",
     "text": [
      "Epoch  40/150 - Train accuracy: 97.434% - Test accuracy: 98.217%\n"
     ]
    },
    {
     "name": "stdout",
     "output_type": "stream",
     "text": [
      "Epoch  41/150 - Train accuracy: 97.404% - Test accuracy: 98.217%\n"
     ]
    },
    {
     "name": "stdout",
     "output_type": "stream",
     "text": [
      "Epoch  42/150 - Train accuracy: 97.402% - Test accuracy: 98.207%\n"
     ]
    },
    {
     "name": "stdout",
     "output_type": "stream",
     "text": [
      "Epoch  43/150 - Train accuracy: 97.527% - Test accuracy: 98.157%\n"
     ]
    },
    {
     "name": "stdout",
     "output_type": "stream",
     "text": [
      "Epoch  44/150 - Train accuracy: 97.504% - Test accuracy: 98.217%\n"
     ]
    },
    {
     "name": "stdout",
     "output_type": "stream",
     "text": [
      "Epoch  45/150 - Train accuracy: 97.447% - Test accuracy: 98.207%\n"
     ]
    },
    {
     "name": "stdout",
     "output_type": "stream",
     "text": [
      "Epoch  46/150 - Train accuracy: 97.449% - Test accuracy: 98.227%\n"
     ]
    },
    {
     "name": "stdout",
     "output_type": "stream",
     "text": [
      "Epoch  47/150 - Train accuracy: 97.554% - Test accuracy: 98.217%\n"
     ]
    },
    {
     "name": "stdout",
     "output_type": "stream",
     "text": [
      "Epoch  48/150 - Train accuracy: 97.370% - Test accuracy: 98.227%\n"
     ]
    },
    {
     "name": "stdout",
     "output_type": "stream",
     "text": [
      "Epoch  49/150 - Train accuracy: 97.430% - Test accuracy: 98.227%\n",
      "----------------------------------------------------------------\n",
      "Reducing learning rate on plateau at epoch 49\n",
      "----------------------------------------------------------------\n"
     ]
    },
    {
     "name": "stdout",
     "output_type": "stream",
     "text": [
      "Epoch  50/150 - Train accuracy: 97.469% - Test accuracy: 98.267%\n"
     ]
    },
    {
     "name": "stdout",
     "output_type": "stream",
     "text": [
      "Epoch  51/150 - Train accuracy: 97.544% - Test accuracy: 98.257%\n"
     ]
    },
    {
     "name": "stdout",
     "output_type": "stream",
     "text": [
      "Epoch  52/150 - Train accuracy: 97.592% - Test accuracy: 98.257%\n"
     ]
    },
    {
     "name": "stdout",
     "output_type": "stream",
     "text": [
      "Epoch  53/150 - Train accuracy: 97.400% - Test accuracy: 98.267%\n"
     ]
    },
    {
     "name": "stdout",
     "output_type": "stream",
     "text": [
      "Epoch  54/150 - Train accuracy: 97.597% - Test accuracy: 98.277%\n"
     ]
    },
    {
     "name": "stdout",
     "output_type": "stream",
     "text": [
      "Epoch  55/150 - Train accuracy: 97.487% - Test accuracy: 98.267%\n"
     ]
    },
    {
     "name": "stdout",
     "output_type": "stream",
     "text": [
      "Epoch  56/150 - Train accuracy: 97.454% - Test accuracy: 98.257%\n"
     ]
    },
    {
     "name": "stdout",
     "output_type": "stream",
     "text": [
      "Epoch  57/150 - Train accuracy: 97.560% - Test accuracy: 98.277%\n"
     ]
    },
    {
     "name": "stdout",
     "output_type": "stream",
     "text": [
      "Epoch  58/150 - Train accuracy: 97.525% - Test accuracy: 98.287%\n"
     ]
    },
    {
     "name": "stdout",
     "output_type": "stream",
     "text": [
      "Epoch  59/150 - Train accuracy: 97.542% - Test accuracy: 98.257%\n"
     ]
    },
    {
     "name": "stdout",
     "output_type": "stream",
     "text": [
      "Epoch  60/150 - Train accuracy: 97.442% - Test accuracy: 98.287%\n"
     ]
    },
    {
     "name": "stdout",
     "output_type": "stream",
     "text": [
      "Epoch  61/150 - Train accuracy: 97.504% - Test accuracy: 98.277%\n"
     ]
    },
    {
     "name": "stdout",
     "output_type": "stream",
     "text": [
      "Epoch  62/150 - Train accuracy: 97.590% - Test accuracy: 98.257%\n"
     ]
    },
    {
     "name": "stdout",
     "output_type": "stream",
     "text": [
      "Epoch  63/150 - Train accuracy: 97.554% - Test accuracy: 98.257%\n"
     ]
    },
    {
     "name": "stdout",
     "output_type": "stream",
     "text": [
      "Epoch  64/150 - Train accuracy: 97.495% - Test accuracy: 98.277%\n",
      "----------------------------------------------------------------\n",
      "Reducing learning rate on plateau at epoch 64\n",
      "----------------------------------------------------------------\n"
     ]
    },
    {
     "name": "stdout",
     "output_type": "stream",
     "text": [
      "Epoch  65/150 - Train accuracy: 97.600% - Test accuracy: 98.287%\n",
      "----------------------------------------------------------------\n",
      "Early stopping at epoch 65\n",
      "----------------------------------------------------------------\n",
      "----------------------------------------------------------------\n",
      "Running experiment with seed 43...\n"
     ]
    },
    {
     "name": "stdout",
     "output_type": "stream",
     "text": [
      "Epoch   1/150 - Train accuracy: 10.874% - Test accuracy: 22.135%\n"
     ]
    },
    {
     "name": "stdout",
     "output_type": "stream",
     "text": [
      "Epoch   2/150 - Train accuracy: 59.625% - Test accuracy: 88.381%\n"
     ]
    },
    {
     "name": "stdout",
     "output_type": "stream",
     "text": [
      "Epoch   3/150 - Train accuracy: 83.705% - Test accuracy: 92.067%\n"
     ]
    },
    {
     "name": "stdout",
     "output_type": "stream",
     "text": [
      "Epoch   4/150 - Train accuracy: 86.183% - Test accuracy: 93.249%\n"
     ]
    },
    {
     "name": "stdout",
     "output_type": "stream",
     "text": [
      "Epoch   5/150 - Train accuracy: 88.727% - Test accuracy: 94.361%\n"
     ]
    },
    {
     "name": "stdout",
     "output_type": "stream",
     "text": [
      "Epoch   6/150 - Train accuracy: 90.807% - Test accuracy: 95.002%\n"
     ]
    },
    {
     "name": "stdout",
     "output_type": "stream",
     "text": [
      "Epoch   7/150 - Train accuracy: 91.924% - Test accuracy: 95.523%\n"
     ]
    },
    {
     "name": "stdout",
     "output_type": "stream",
     "text": [
      "Epoch   8/150 - Train accuracy: 92.453% - Test accuracy: 95.964%\n"
     ]
    },
    {
     "name": "stdout",
     "output_type": "stream",
     "text": [
      "Epoch   9/150 - Train accuracy: 93.293% - Test accuracy: 96.434%\n"
     ]
    },
    {
     "name": "stdout",
     "output_type": "stream",
     "text": [
      "Epoch  10/150 - Train accuracy: 93.992% - Test accuracy: 96.575%\n"
     ]
    },
    {
     "name": "stdout",
     "output_type": "stream",
     "text": [
      "Epoch  11/150 - Train accuracy: 94.252% - Test accuracy: 96.815%\n"
     ]
    },
    {
     "name": "stdout",
     "output_type": "stream",
     "text": [
      "Epoch  12/150 - Train accuracy: 94.836% - Test accuracy: 96.975%\n"
     ]
    },
    {
     "name": "stdout",
     "output_type": "stream",
     "text": [
      "Epoch  13/150 - Train accuracy: 95.192% - Test accuracy: 97.005%\n"
     ]
    },
    {
     "name": "stdout",
     "output_type": "stream",
     "text": [
      "Epoch  14/150 - Train accuracy: 95.393% - Test accuracy: 97.226%\n"
     ]
    },
    {
     "name": "stdout",
     "output_type": "stream",
     "text": [
      "Epoch  15/150 - Train accuracy: 95.561% - Test accuracy: 97.346%\n"
     ]
    },
    {
     "name": "stdout",
     "output_type": "stream",
     "text": [
      "Epoch  16/150 - Train accuracy: 95.716% - Test accuracy: 97.426%\n"
     ]
    },
    {
     "name": "stdout",
     "output_type": "stream",
     "text": [
      "Epoch  17/150 - Train accuracy: 95.899% - Test accuracy: 97.576%\n"
     ]
    },
    {
     "name": "stdout",
     "output_type": "stream",
     "text": [
      "Epoch  18/150 - Train accuracy: 95.941% - Test accuracy: 97.536%\n"
     ]
    },
    {
     "name": "stdout",
     "output_type": "stream",
     "text": [
      "Epoch  19/150 - Train accuracy: 96.101% - Test accuracy: 97.626%\n"
     ]
    },
    {
     "name": "stdout",
     "output_type": "stream",
     "text": [
      "Epoch  20/150 - Train accuracy: 96.240% - Test accuracy: 97.726%\n"
     ]
    },
    {
     "name": "stdout",
     "output_type": "stream",
     "text": [
      "Epoch  21/150 - Train accuracy: 96.461% - Test accuracy: 97.706%\n"
     ]
    },
    {
     "name": "stdout",
     "output_type": "stream",
     "text": [
      "Epoch  22/150 - Train accuracy: 96.550% - Test accuracy: 97.786%\n"
     ]
    },
    {
     "name": "stdout",
     "output_type": "stream",
     "text": [
      "Epoch  23/150 - Train accuracy: 96.478% - Test accuracy: 97.786%\n"
     ]
    },
    {
     "name": "stdout",
     "output_type": "stream",
     "text": [
      "Epoch  24/150 - Train accuracy: 96.655% - Test accuracy: 97.756%\n"
     ]
    },
    {
     "name": "stdout",
     "output_type": "stream",
     "text": [
      "Epoch  25/150 - Train accuracy: 96.678% - Test accuracy: 97.877%\n"
     ]
    },
    {
     "name": "stdout",
     "output_type": "stream",
     "text": [
      "Epoch  26/150 - Train accuracy: 96.792% - Test accuracy: 97.887%\n"
     ]
    },
    {
     "name": "stdout",
     "output_type": "stream",
     "text": [
      "Epoch  27/150 - Train accuracy: 96.860% - Test accuracy: 97.897%\n"
     ]
    },
    {
     "name": "stdout",
     "output_type": "stream",
     "text": [
      "Epoch  28/150 - Train accuracy: 96.945% - Test accuracy: 97.917%\n"
     ]
    },
    {
     "name": "stdout",
     "output_type": "stream",
     "text": [
      "Epoch  29/150 - Train accuracy: 96.943% - Test accuracy: 97.957%\n"
     ]
    },
    {
     "name": "stdout",
     "output_type": "stream",
     "text": [
      "Epoch  30/150 - Train accuracy: 97.095% - Test accuracy: 97.977%\n"
     ]
    },
    {
     "name": "stdout",
     "output_type": "stream",
     "text": [
      "Epoch  31/150 - Train accuracy: 97.147% - Test accuracy: 98.017%\n"
     ]
    },
    {
     "name": "stdout",
     "output_type": "stream",
     "text": [
      "Epoch  32/150 - Train accuracy: 97.090% - Test accuracy: 98.047%\n",
      "----------------------------------------------------------------\n",
      "Reducing learning rate on plateau at epoch 32\n",
      "----------------------------------------------------------------\n"
     ]
    },
    {
     "name": "stdout",
     "output_type": "stream",
     "text": [
      "Epoch  33/150 - Train accuracy: 97.202% - Test accuracy: 98.037%\n"
     ]
    },
    {
     "name": "stdout",
     "output_type": "stream",
     "text": [
      "Epoch  34/150 - Train accuracy: 97.277% - Test accuracy: 98.067%\n"
     ]
    },
    {
     "name": "stdout",
     "output_type": "stream",
     "text": [
      "Epoch  35/150 - Train accuracy: 97.110% - Test accuracy: 98.077%\n"
     ]
    },
    {
     "name": "stdout",
     "output_type": "stream",
     "text": [
      "Epoch  36/150 - Train accuracy: 97.192% - Test accuracy: 98.077%\n"
     ]
    },
    {
     "name": "stdout",
     "output_type": "stream",
     "text": [
      "Epoch  37/150 - Train accuracy: 97.163% - Test accuracy: 98.087%\n"
     ]
    },
    {
     "name": "stdout",
     "output_type": "stream",
     "text": [
      "Epoch  38/150 - Train accuracy: 97.325% - Test accuracy: 98.077%\n"
     ]
    },
    {
     "name": "stdout",
     "output_type": "stream",
     "text": [
      "Epoch  39/150 - Train accuracy: 97.309% - Test accuracy: 98.097%\n"
     ]
    },
    {
     "name": "stdout",
     "output_type": "stream",
     "text": [
      "Epoch  40/150 - Train accuracy: 97.464% - Test accuracy: 98.127%\n"
     ]
    },
    {
     "name": "stdout",
     "output_type": "stream",
     "text": [
      "Epoch  41/150 - Train accuracy: 97.347% - Test accuracy: 98.137%\n"
     ]
    },
    {
     "name": "stdout",
     "output_type": "stream",
     "text": [
      "Epoch  42/150 - Train accuracy: 97.322% - Test accuracy: 98.137%\n"
     ]
    },
    {
     "name": "stdout",
     "output_type": "stream",
     "text": [
      "Epoch  43/150 - Train accuracy: 97.297% - Test accuracy: 98.127%\n"
     ]
    },
    {
     "name": "stdout",
     "output_type": "stream",
     "text": [
      "Epoch  44/150 - Train accuracy: 97.335% - Test accuracy: 98.117%\n"
     ]
    },
    {
     "name": "stdout",
     "output_type": "stream",
     "text": [
      "Epoch  45/150 - Train accuracy: 97.337% - Test accuracy: 98.137%\n"
     ]
    },
    {
     "name": "stdout",
     "output_type": "stream",
     "text": [
      "Epoch  46/150 - Train accuracy: 97.379% - Test accuracy: 98.137%\n"
     ]
    },
    {
     "name": "stdout",
     "output_type": "stream",
     "text": [
      "Epoch  47/150 - Train accuracy: 97.319% - Test accuracy: 98.167%\n",
      "----------------------------------------------------------------\n",
      "Reducing learning rate on plateau at epoch 47\n",
      "----------------------------------------------------------------\n"
     ]
    },
    {
     "name": "stdout",
     "output_type": "stream",
     "text": [
      "Epoch  48/150 - Train accuracy: 97.437% - Test accuracy: 98.147%\n"
     ]
    },
    {
     "name": "stdout",
     "output_type": "stream",
     "text": [
      "Epoch  49/150 - Train accuracy: 97.267% - Test accuracy: 98.197%\n"
     ]
    },
    {
     "name": "stdout",
     "output_type": "stream",
     "text": [
      "Epoch  50/150 - Train accuracy: 97.350% - Test accuracy: 98.157%\n"
     ]
    },
    {
     "name": "stdout",
     "output_type": "stream",
     "text": [
      "Epoch  51/150 - Train accuracy: 97.330% - Test accuracy: 98.147%\n"
     ]
    },
    {
     "name": "stdout",
     "output_type": "stream",
     "text": [
      "Epoch  52/150 - Train accuracy: 97.494% - Test accuracy: 98.187%\n"
     ]
    },
    {
     "name": "stdout",
     "output_type": "stream",
     "text": [
      "Epoch  53/150 - Train accuracy: 97.405% - Test accuracy: 98.187%\n"
     ]
    },
    {
     "name": "stdout",
     "output_type": "stream",
     "text": [
      "Epoch  54/150 - Train accuracy: 97.450% - Test accuracy: 98.147%\n"
     ]
    },
    {
     "name": "stdout",
     "output_type": "stream",
     "text": [
      "Epoch  55/150 - Train accuracy: 97.365% - Test accuracy: 98.167%\n"
     ]
    },
    {
     "name": "stdout",
     "output_type": "stream",
     "text": [
      "Epoch  56/150 - Train accuracy: 97.425% - Test accuracy: 98.187%\n"
     ]
    },
    {
     "name": "stdout",
     "output_type": "stream",
     "text": [
      "Epoch  57/150 - Train accuracy: 97.519% - Test accuracy: 98.167%\n"
     ]
    },
    {
     "name": "stdout",
     "output_type": "stream",
     "text": [
      "Epoch  58/150 - Train accuracy: 97.380% - Test accuracy: 98.197%\n"
     ]
    },
    {
     "name": "stdout",
     "output_type": "stream",
     "text": [
      "Epoch  59/150 - Train accuracy: 97.385% - Test accuracy: 98.177%\n"
     ]
    },
    {
     "name": "stdout",
     "output_type": "stream",
     "text": [
      "Epoch  60/150 - Train accuracy: 97.519% - Test accuracy: 98.177%\n"
     ]
    },
    {
     "name": "stdout",
     "output_type": "stream",
     "text": [
      "Epoch  61/150 - Train accuracy: 97.485% - Test accuracy: 98.187%\n"
     ]
    },
    {
     "name": "stdout",
     "output_type": "stream",
     "text": [
      "Epoch  62/150 - Train accuracy: 97.449% - Test accuracy: 98.177%\n",
      "----------------------------------------------------------------\n",
      "Reducing learning rate on plateau at epoch 62\n",
      "----------------------------------------------------------------\n"
     ]
    },
    {
     "name": "stdout",
     "output_type": "stream",
     "text": [
      "Epoch  63/150 - Train accuracy: 97.529% - Test accuracy: 98.177%\n"
     ]
    },
    {
     "name": "stdout",
     "output_type": "stream",
     "text": [
      "Epoch  64/150 - Train accuracy: 97.424% - Test accuracy: 98.177%\n"
     ]
    },
    {
     "name": "stdout",
     "output_type": "stream",
     "text": [
      "Epoch  65/150 - Train accuracy: 97.409% - Test accuracy: 98.177%\n",
      "----------------------------------------------------------------\n",
      "Early stopping at epoch 65\n",
      "----------------------------------------------------------------\n",
      "----------------------------------------------------------------\n",
      "Running experiment with seed 44...\n"
     ]
    },
    {
     "name": "stdout",
     "output_type": "stream",
     "text": [
      "Epoch   1/150 - Train accuracy: 10.300% - Test accuracy: 08.914%\n"
     ]
    },
    {
     "name": "stdout",
     "output_type": "stream",
     "text": [
      "Epoch   2/150 - Train accuracy: 60.961% - Test accuracy: 88.912%\n"
     ]
    },
    {
     "name": "stdout",
     "output_type": "stream",
     "text": [
      "Epoch   3/150 - Train accuracy: 83.226% - Test accuracy: 92.037%\n"
     ]
    },
    {
     "name": "stdout",
     "output_type": "stream",
     "text": [
      "Epoch   4/150 - Train accuracy: 86.733% - Test accuracy: 93.289%\n"
     ]
    },
    {
     "name": "stdout",
     "output_type": "stream",
     "text": [
      "Epoch   5/150 - Train accuracy: 88.959% - Test accuracy: 94.501%\n"
     ]
    },
    {
     "name": "stdout",
     "output_type": "stream",
     "text": [
      "Epoch   6/150 - Train accuracy: 90.855% - Test accuracy: 95.162%\n"
     ]
    },
    {
     "name": "stdout",
     "output_type": "stream",
     "text": [
      "Epoch   7/150 - Train accuracy: 92.041% - Test accuracy: 95.663%\n"
     ]
    },
    {
     "name": "stdout",
     "output_type": "stream",
     "text": [
      "Epoch   8/150 - Train accuracy: 92.825% - Test accuracy: 95.994%\n"
     ]
    },
    {
     "name": "stdout",
     "output_type": "stream",
     "text": [
      "Epoch   9/150 - Train accuracy: 93.485% - Test accuracy: 96.214%\n"
     ]
    },
    {
     "name": "stdout",
     "output_type": "stream",
     "text": [
      "Epoch  10/150 - Train accuracy: 93.945% - Test accuracy: 96.585%\n"
     ]
    },
    {
     "name": "stdout",
     "output_type": "stream",
     "text": [
      "Epoch  11/150 - Train accuracy: 94.522% - Test accuracy: 96.745%\n"
     ]
    },
    {
     "name": "stdout",
     "output_type": "stream",
     "text": [
      "Epoch  12/150 - Train accuracy: 94.816% - Test accuracy: 96.905%\n"
     ]
    },
    {
     "name": "stdout",
     "output_type": "stream",
     "text": [
      "Epoch  13/150 - Train accuracy: 95.069% - Test accuracy: 97.015%\n"
     ]
    },
    {
     "name": "stdout",
     "output_type": "stream",
     "text": [
      "Epoch  14/150 - Train accuracy: 95.351% - Test accuracy: 97.196%\n"
     ]
    },
    {
     "name": "stdout",
     "output_type": "stream",
     "text": [
      "Epoch  15/150 - Train accuracy: 95.548% - Test accuracy: 97.246%\n"
     ]
    },
    {
     "name": "stdout",
     "output_type": "stream",
     "text": [
      "Epoch  16/150 - Train accuracy: 95.843% - Test accuracy: 97.376%\n"
     ]
    },
    {
     "name": "stdout",
     "output_type": "stream",
     "text": [
      "Epoch  17/150 - Train accuracy: 95.739% - Test accuracy: 97.496%\n"
     ]
    },
    {
     "name": "stdout",
     "output_type": "stream",
     "text": [
      "Epoch  18/150 - Train accuracy: 96.180% - Test accuracy: 97.546%\n"
     ]
    },
    {
     "name": "stdout",
     "output_type": "stream",
     "text": [
      "Epoch  19/150 - Train accuracy: 96.043% - Test accuracy: 97.556%\n"
     ]
    },
    {
     "name": "stdout",
     "output_type": "stream",
     "text": [
      "Epoch  20/150 - Train accuracy: 96.316% - Test accuracy: 97.706%\n"
     ]
    },
    {
     "name": "stdout",
     "output_type": "stream",
     "text": [
      "Epoch  21/150 - Train accuracy: 96.531% - Test accuracy: 97.726%\n"
     ]
    },
    {
     "name": "stdout",
     "output_type": "stream",
     "text": [
      "Epoch  22/150 - Train accuracy: 96.565% - Test accuracy: 97.776%\n"
     ]
    },
    {
     "name": "stdout",
     "output_type": "stream",
     "text": [
      "Epoch  23/150 - Train accuracy: 96.595% - Test accuracy: 97.827%\n"
     ]
    },
    {
     "name": "stdout",
     "output_type": "stream",
     "text": [
      "Epoch  24/150 - Train accuracy: 96.673% - Test accuracy: 97.837%\n"
     ]
    },
    {
     "name": "stdout",
     "output_type": "stream",
     "text": [
      "Epoch  25/150 - Train accuracy: 96.780% - Test accuracy: 97.806%\n"
     ]
    },
    {
     "name": "stdout",
     "output_type": "stream",
     "text": [
      "Epoch  26/150 - Train accuracy: 96.710% - Test accuracy: 97.927%\n"
     ]
    },
    {
     "name": "stdout",
     "output_type": "stream",
     "text": [
      "Epoch  27/150 - Train accuracy: 96.877% - Test accuracy: 97.907%\n"
     ]
    },
    {
     "name": "stdout",
     "output_type": "stream",
     "text": [
      "Epoch  28/150 - Train accuracy: 96.833% - Test accuracy: 97.967%\n"
     ]
    },
    {
     "name": "stdout",
     "output_type": "stream",
     "text": [
      "Epoch  29/150 - Train accuracy: 97.065% - Test accuracy: 97.997%\n"
     ]
    },
    {
     "name": "stdout",
     "output_type": "stream",
     "text": [
      "Epoch  30/150 - Train accuracy: 97.008% - Test accuracy: 98.057%\n"
     ]
    },
    {
     "name": "stdout",
     "output_type": "stream",
     "text": [
      "Epoch  31/150 - Train accuracy: 96.963% - Test accuracy: 98.057%\n"
     ]
    },
    {
     "name": "stdout",
     "output_type": "stream",
     "text": [
      "Epoch  32/150 - Train accuracy: 97.138% - Test accuracy: 98.107%\n"
     ]
    },
    {
     "name": "stdout",
     "output_type": "stream",
     "text": [
      "Epoch  33/150 - Train accuracy: 97.314% - Test accuracy: 98.127%\n"
     ]
    },
    {
     "name": "stdout",
     "output_type": "stream",
     "text": [
      "Epoch  34/150 - Train accuracy: 97.315% - Test accuracy: 98.157%\n"
     ]
    },
    {
     "name": "stdout",
     "output_type": "stream",
     "text": [
      "Epoch  35/150 - Train accuracy: 97.299% - Test accuracy: 98.187%\n",
      "----------------------------------------------------------------\n",
      "Reducing learning rate on plateau at epoch 35\n",
      "----------------------------------------------------------------\n"
     ]
    },
    {
     "name": "stdout",
     "output_type": "stream",
     "text": [
      "Epoch  36/150 - Train accuracy: 97.349% - Test accuracy: 98.187%\n"
     ]
    },
    {
     "name": "stdout",
     "output_type": "stream",
     "text": [
      "Epoch  37/150 - Train accuracy: 97.332% - Test accuracy: 98.177%\n"
     ]
    },
    {
     "name": "stdout",
     "output_type": "stream",
     "text": [
      "Epoch  38/150 - Train accuracy: 97.347% - Test accuracy: 98.197%\n"
     ]
    },
    {
     "name": "stdout",
     "output_type": "stream",
     "text": [
      "Epoch  39/150 - Train accuracy: 97.354% - Test accuracy: 98.197%\n"
     ]
    },
    {
     "name": "stdout",
     "output_type": "stream",
     "text": [
      "Epoch  40/150 - Train accuracy: 97.380% - Test accuracy: 98.167%\n"
     ]
    },
    {
     "name": "stdout",
     "output_type": "stream",
     "text": [
      "Epoch  41/150 - Train accuracy: 97.287% - Test accuracy: 98.217%\n"
     ]
    },
    {
     "name": "stdout",
     "output_type": "stream",
     "text": [
      "Epoch  42/150 - Train accuracy: 97.420% - Test accuracy: 98.227%\n"
     ]
    },
    {
     "name": "stdout",
     "output_type": "stream",
     "text": [
      "Epoch  43/150 - Train accuracy: 97.460% - Test accuracy: 98.237%\n"
     ]
    },
    {
     "name": "stdout",
     "output_type": "stream",
     "text": [
      "Epoch  44/150 - Train accuracy: 97.479% - Test accuracy: 98.247%\n"
     ]
    },
    {
     "name": "stdout",
     "output_type": "stream",
     "text": [
      "Epoch  45/150 - Train accuracy: 97.544% - Test accuracy: 98.217%\n"
     ]
    },
    {
     "name": "stdout",
     "output_type": "stream",
     "text": [
      "Epoch  46/150 - Train accuracy: 97.302% - Test accuracy: 98.207%\n"
     ]
    },
    {
     "name": "stdout",
     "output_type": "stream",
     "text": [
      "Epoch  47/150 - Train accuracy: 97.539% - Test accuracy: 98.227%\n"
     ]
    },
    {
     "name": "stdout",
     "output_type": "stream",
     "text": [
      "Epoch  48/150 - Train accuracy: 97.527% - Test accuracy: 98.247%\n"
     ]
    },
    {
     "name": "stdout",
     "output_type": "stream",
     "text": [
      "Epoch  49/150 - Train accuracy: 97.504% - Test accuracy: 98.287%\n"
     ]
    },
    {
     "name": "stdout",
     "output_type": "stream",
     "text": [
      "Epoch  50/150 - Train accuracy: 97.552% - Test accuracy: 98.297%\n",
      "----------------------------------------------------------------\n",
      "Reducing learning rate on plateau at epoch 50\n",
      "----------------------------------------------------------------\n"
     ]
    },
    {
     "name": "stdout",
     "output_type": "stream",
     "text": [
      "Epoch  51/150 - Train accuracy: 97.487% - Test accuracy: 98.287%\n"
     ]
    },
    {
     "name": "stdout",
     "output_type": "stream",
     "text": [
      "Epoch  52/150 - Train accuracy: 97.525% - Test accuracy: 98.277%\n"
     ]
    },
    {
     "name": "stdout",
     "output_type": "stream",
     "text": [
      "Epoch  53/150 - Train accuracy: 97.582% - Test accuracy: 98.277%\n"
     ]
    },
    {
     "name": "stdout",
     "output_type": "stream",
     "text": [
      "Epoch  54/150 - Train accuracy: 97.554% - Test accuracy: 98.287%\n"
     ]
    },
    {
     "name": "stdout",
     "output_type": "stream",
     "text": [
      "Epoch  55/150 - Train accuracy: 97.514% - Test accuracy: 98.257%\n"
     ]
    },
    {
     "name": "stdout",
     "output_type": "stream",
     "text": [
      "Epoch  56/150 - Train accuracy: 97.674% - Test accuracy: 98.297%\n"
     ]
    },
    {
     "name": "stdout",
     "output_type": "stream",
     "text": [
      "Epoch  57/150 - Train accuracy: 97.530% - Test accuracy: 98.287%\n"
     ]
    },
    {
     "name": "stdout",
     "output_type": "stream",
     "text": [
      "Epoch  58/150 - Train accuracy: 97.542% - Test accuracy: 98.287%\n"
     ]
    },
    {
     "name": "stdout",
     "output_type": "stream",
     "text": [
      "Epoch  59/150 - Train accuracy: 97.515% - Test accuracy: 98.287%\n"
     ]
    },
    {
     "name": "stdout",
     "output_type": "stream",
     "text": [
      "Epoch  60/150 - Train accuracy: 97.599% - Test accuracy: 98.307%\n"
     ]
    },
    {
     "name": "stdout",
     "output_type": "stream",
     "text": [
      "Epoch  61/150 - Train accuracy: 97.467% - Test accuracy: 98.287%\n"
     ]
    },
    {
     "name": "stdout",
     "output_type": "stream",
     "text": [
      "Epoch  62/150 - Train accuracy: 97.467% - Test accuracy: 98.277%\n"
     ]
    },
    {
     "name": "stdout",
     "output_type": "stream",
     "text": [
      "Epoch  63/150 - Train accuracy: 97.634% - Test accuracy: 98.287%\n"
     ]
    },
    {
     "name": "stdout",
     "output_type": "stream",
     "text": [
      "Epoch  64/150 - Train accuracy: 97.427% - Test accuracy: 98.287%\n"
     ]
    },
    {
     "name": "stdout",
     "output_type": "stream",
     "text": [
      "Epoch  65/150 - Train accuracy: 97.507% - Test accuracy: 98.287%\n",
      "----------------------------------------------------------------\n",
      "Early stopping at epoch 65\n",
      "----------------------------------------------------------------\n",
      "----------------------------------------------------------------\n",
      "Running experiment with seed 45...\n"
     ]
    },
    {
     "name": "stdout",
     "output_type": "stream",
     "text": [
      "Epoch   1/150 - Train accuracy: 10.571% - Test accuracy: 11.428%\n"
     ]
    },
    {
     "name": "stdout",
     "output_type": "stream",
     "text": [
      "Epoch   2/150 - Train accuracy: 59.685% - Test accuracy: 89.143%\n"
     ]
    },
    {
     "name": "stdout",
     "output_type": "stream",
     "text": [
      "Epoch   3/150 - Train accuracy: 83.408% - Test accuracy: 91.967%\n"
     ]
    },
    {
     "name": "stdout",
     "output_type": "stream",
     "text": [
      "Epoch   4/150 - Train accuracy: 86.418% - Test accuracy: 93.139%\n"
     ]
    },
    {
     "name": "stdout",
     "output_type": "stream",
     "text": [
      "Epoch   5/150 - Train accuracy: 88.527% - Test accuracy: 94.181%\n"
     ]
    },
    {
     "name": "stdout",
     "output_type": "stream",
     "text": [
      "Epoch   6/150 - Train accuracy: 90.635% - Test accuracy: 95.062%\n"
     ]
    },
    {
     "name": "stdout",
     "output_type": "stream",
     "text": [
      "Epoch   7/150 - Train accuracy: 91.859% - Test accuracy: 95.673%\n"
     ]
    },
    {
     "name": "stdout",
     "output_type": "stream",
     "text": [
      "Epoch   8/150 - Train accuracy: 92.853% - Test accuracy: 95.974%\n"
     ]
    },
    {
     "name": "stdout",
     "output_type": "stream",
     "text": [
      "Epoch   9/150 - Train accuracy: 93.276% - Test accuracy: 96.334%\n"
     ]
    },
    {
     "name": "stdout",
     "output_type": "stream",
     "text": [
      "Epoch  10/150 - Train accuracy: 93.838% - Test accuracy: 96.585%\n"
     ]
    },
    {
     "name": "stdout",
     "output_type": "stream",
     "text": [
      "Epoch  11/150 - Train accuracy: 94.509% - Test accuracy: 96.805%\n"
     ]
    },
    {
     "name": "stdout",
     "output_type": "stream",
     "text": [
      "Epoch  12/150 - Train accuracy: 94.822% - Test accuracy: 96.915%\n"
     ]
    },
    {
     "name": "stdout",
     "output_type": "stream",
     "text": [
      "Epoch  13/150 - Train accuracy: 94.917% - Test accuracy: 97.055%\n"
     ]
    },
    {
     "name": "stdout",
     "output_type": "stream",
     "text": [
      "Epoch  14/150 - Train accuracy: 95.358% - Test accuracy: 97.135%\n"
     ]
    },
    {
     "name": "stdout",
     "output_type": "stream",
     "text": [
      "Epoch  15/150 - Train accuracy: 95.553% - Test accuracy: 97.246%\n"
     ]
    },
    {
     "name": "stdout",
     "output_type": "stream",
     "text": [
      "Epoch  16/150 - Train accuracy: 95.654% - Test accuracy: 97.336%\n"
     ]
    },
    {
     "name": "stdout",
     "output_type": "stream",
     "text": [
      "Epoch  17/150 - Train accuracy: 95.741% - Test accuracy: 97.396%\n"
     ]
    },
    {
     "name": "stdout",
     "output_type": "stream",
     "text": [
      "Epoch  18/150 - Train accuracy: 96.055% - Test accuracy: 97.546%\n"
     ]
    },
    {
     "name": "stdout",
     "output_type": "stream",
     "text": [
      "Epoch  19/150 - Train accuracy: 96.090% - Test accuracy: 97.626%\n"
     ]
    },
    {
     "name": "stdout",
     "output_type": "stream",
     "text": [
      "Epoch  20/150 - Train accuracy: 96.285% - Test accuracy: 97.706%\n"
     ]
    },
    {
     "name": "stdout",
     "output_type": "stream",
     "text": [
      "Epoch  21/150 - Train accuracy: 96.328% - Test accuracy: 97.686%\n"
     ]
    },
    {
     "name": "stdout",
     "output_type": "stream",
     "text": [
      "Epoch  22/150 - Train accuracy: 96.311% - Test accuracy: 97.706%\n"
     ]
    },
    {
     "name": "stdout",
     "output_type": "stream",
     "text": [
      "Epoch  23/150 - Train accuracy: 96.415% - Test accuracy: 97.736%\n"
     ]
    },
    {
     "name": "stdout",
     "output_type": "stream",
     "text": [
      "Epoch  24/150 - Train accuracy: 96.620% - Test accuracy: 97.877%\n"
     ]
    },
    {
     "name": "stdout",
     "output_type": "stream",
     "text": [
      "Epoch  25/150 - Train accuracy: 96.647% - Test accuracy: 97.917%\n"
     ]
    },
    {
     "name": "stdout",
     "output_type": "stream",
     "text": [
      "Epoch  26/150 - Train accuracy: 96.673% - Test accuracy: 97.947%\n"
     ]
    },
    {
     "name": "stdout",
     "output_type": "stream",
     "text": [
      "Epoch  27/150 - Train accuracy: 96.922% - Test accuracy: 97.917%\n"
     ]
    },
    {
     "name": "stdout",
     "output_type": "stream",
     "text": [
      "Epoch  28/150 - Train accuracy: 96.917% - Test accuracy: 98.047%\n"
     ]
    },
    {
     "name": "stdout",
     "output_type": "stream",
     "text": [
      "Epoch  29/150 - Train accuracy: 96.957% - Test accuracy: 97.997%\n"
     ]
    },
    {
     "name": "stdout",
     "output_type": "stream",
     "text": [
      "Epoch  30/150 - Train accuracy: 96.992% - Test accuracy: 98.037%\n"
     ]
    },
    {
     "name": "stdout",
     "output_type": "stream",
     "text": [
      "Epoch  31/150 - Train accuracy: 97.007% - Test accuracy: 98.117%\n"
     ]
    },
    {
     "name": "stdout",
     "output_type": "stream",
     "text": [
      "Epoch  32/150 - Train accuracy: 97.073% - Test accuracy: 98.147%\n"
     ]
    },
    {
     "name": "stdout",
     "output_type": "stream",
     "text": [
      "Epoch  33/150 - Train accuracy: 97.100% - Test accuracy: 98.137%\n"
     ]
    },
    {
     "name": "stdout",
     "output_type": "stream",
     "text": [
      "Epoch  34/150 - Train accuracy: 97.282% - Test accuracy: 98.197%\n",
      "----------------------------------------------------------------\n",
      "Reducing learning rate on plateau at epoch 34\n",
      "----------------------------------------------------------------\n"
     ]
    },
    {
     "name": "stdout",
     "output_type": "stream",
     "text": [
      "Epoch  35/150 - Train accuracy: 97.299% - Test accuracy: 98.187%\n"
     ]
    },
    {
     "name": "stdout",
     "output_type": "stream",
     "text": [
      "Epoch  36/150 - Train accuracy: 97.365% - Test accuracy: 98.167%\n"
     ]
    },
    {
     "name": "stdout",
     "output_type": "stream",
     "text": [
      "Epoch  37/150 - Train accuracy: 97.294% - Test accuracy: 98.197%\n"
     ]
    },
    {
     "name": "stdout",
     "output_type": "stream",
     "text": [
      "Epoch  38/150 - Train accuracy: 97.279% - Test accuracy: 98.167%\n"
     ]
    },
    {
     "name": "stdout",
     "output_type": "stream",
     "text": [
      "Epoch  39/150 - Train accuracy: 97.305% - Test accuracy: 98.197%\n"
     ]
    },
    {
     "name": "stdout",
     "output_type": "stream",
     "text": [
      "Epoch  40/150 - Train accuracy: 97.370% - Test accuracy: 98.197%\n"
     ]
    },
    {
     "name": "stdout",
     "output_type": "stream",
     "text": [
      "Epoch  41/150 - Train accuracy: 97.264% - Test accuracy: 98.217%\n"
     ]
    },
    {
     "name": "stdout",
     "output_type": "stream",
     "text": [
      "Epoch  42/150 - Train accuracy: 97.384% - Test accuracy: 98.187%\n"
     ]
    },
    {
     "name": "stdout",
     "output_type": "stream",
     "text": [
      "Epoch  43/150 - Train accuracy: 97.414% - Test accuracy: 98.247%\n"
     ]
    },
    {
     "name": "stdout",
     "output_type": "stream",
     "text": [
      "Epoch  44/150 - Train accuracy: 97.390% - Test accuracy: 98.237%\n"
     ]
    },
    {
     "name": "stdout",
     "output_type": "stream",
     "text": [
      "Epoch  45/150 - Train accuracy: 97.427% - Test accuracy: 98.217%\n"
     ]
    },
    {
     "name": "stdout",
     "output_type": "stream",
     "text": [
      "Epoch  46/150 - Train accuracy: 97.407% - Test accuracy: 98.207%\n"
     ]
    },
    {
     "name": "stdout",
     "output_type": "stream",
     "text": [
      "Epoch  47/150 - Train accuracy: 97.397% - Test accuracy: 98.257%\n"
     ]
    },
    {
     "name": "stdout",
     "output_type": "stream",
     "text": [
      "Epoch  48/150 - Train accuracy: 97.410% - Test accuracy: 98.267%\n"
     ]
    },
    {
     "name": "stdout",
     "output_type": "stream",
     "text": [
      "Epoch  49/150 - Train accuracy: 97.409% - Test accuracy: 98.247%\n",
      "----------------------------------------------------------------\n",
      "Reducing learning rate on plateau at epoch 49\n",
      "----------------------------------------------------------------\n"
     ]
    },
    {
     "name": "stdout",
     "output_type": "stream",
     "text": [
      "Epoch  50/150 - Train accuracy: 97.474% - Test accuracy: 98.257%\n"
     ]
    },
    {
     "name": "stdout",
     "output_type": "stream",
     "text": [
      "Epoch  51/150 - Train accuracy: 97.495% - Test accuracy: 98.227%\n"
     ]
    },
    {
     "name": "stdout",
     "output_type": "stream",
     "text": [
      "Epoch  52/150 - Train accuracy: 97.447% - Test accuracy: 98.257%\n"
     ]
    },
    {
     "name": "stdout",
     "output_type": "stream",
     "text": [
      "Epoch  53/150 - Train accuracy: 97.514% - Test accuracy: 98.267%\n"
     ]
    },
    {
     "name": "stdout",
     "output_type": "stream",
     "text": [
      "Epoch  54/150 - Train accuracy: 97.410% - Test accuracy: 98.267%\n"
     ]
    },
    {
     "name": "stdout",
     "output_type": "stream",
     "text": [
      "Epoch  55/150 - Train accuracy: 97.474% - Test accuracy: 98.297%\n"
     ]
    },
    {
     "name": "stdout",
     "output_type": "stream",
     "text": [
      "Epoch  56/150 - Train accuracy: 97.504% - Test accuracy: 98.307%\n"
     ]
    },
    {
     "name": "stdout",
     "output_type": "stream",
     "text": [
      "Epoch  57/150 - Train accuracy: 97.474% - Test accuracy: 98.287%\n"
     ]
    },
    {
     "name": "stdout",
     "output_type": "stream",
     "text": [
      "Epoch  58/150 - Train accuracy: 97.429% - Test accuracy: 98.287%\n"
     ]
    },
    {
     "name": "stdout",
     "output_type": "stream",
     "text": [
      "Epoch  59/150 - Train accuracy: 97.499% - Test accuracy: 98.277%\n"
     ]
    },
    {
     "name": "stdout",
     "output_type": "stream",
     "text": [
      "Epoch  60/150 - Train accuracy: 97.500% - Test accuracy: 98.287%\n"
     ]
    },
    {
     "name": "stdout",
     "output_type": "stream",
     "text": [
      "Epoch  61/150 - Train accuracy: 97.515% - Test accuracy: 98.287%\n"
     ]
    },
    {
     "name": "stdout",
     "output_type": "stream",
     "text": [
      "Epoch  62/150 - Train accuracy: 97.532% - Test accuracy: 98.297%\n"
     ]
    },
    {
     "name": "stdout",
     "output_type": "stream",
     "text": [
      "Epoch  63/150 - Train accuracy: 97.630% - Test accuracy: 98.307%\n"
     ]
    },
    {
     "name": "stdout",
     "output_type": "stream",
     "text": [
      "Epoch  64/150 - Train accuracy: 97.402% - Test accuracy: 98.287%\n",
      "----------------------------------------------------------------\n",
      "Reducing learning rate on plateau at epoch 64\n",
      "----------------------------------------------------------------\n"
     ]
    },
    {
     "name": "stdout",
     "output_type": "stream",
     "text": [
      "Epoch  65/150 - Train accuracy: 97.534% - Test accuracy: 98.287%\n",
      "----------------------------------------------------------------\n",
      "Early stopping at epoch 65\n",
      "----------------------------------------------------------------\n",
      "----------------------------------------------------------------\n",
      "Running experiment with seed 46...\n"
     ]
    },
    {
     "name": "stdout",
     "output_type": "stream",
     "text": [
      "Epoch   1/150 - Train accuracy: 10.737% - Test accuracy: 14.694%\n"
     ]
    },
    {
     "name": "stdout",
     "output_type": "stream",
     "text": [
      "Epoch   2/150 - Train accuracy: 59.709% - Test accuracy: 88.792%\n"
     ]
    },
    {
     "name": "stdout",
     "output_type": "stream",
     "text": [
      "Epoch   3/150 - Train accuracy: 83.520% - Test accuracy: 91.807%\n"
     ]
    },
    {
     "name": "stdout",
     "output_type": "stream",
     "text": [
      "Epoch   4/150 - Train accuracy: 86.264% - Test accuracy: 93.219%\n"
     ]
    },
    {
     "name": "stdout",
     "output_type": "stream",
     "text": [
      "Epoch   5/150 - Train accuracy: 88.706% - Test accuracy: 94.321%\n"
     ]
    },
    {
     "name": "stdout",
     "output_type": "stream",
     "text": [
      "Epoch   6/150 - Train accuracy: 90.467% - Test accuracy: 95.082%\n"
     ]
    },
    {
     "name": "stdout",
     "output_type": "stream",
     "text": [
      "Epoch   7/150 - Train accuracy: 92.054% - Test accuracy: 95.633%\n"
     ]
    },
    {
     "name": "stdout",
     "output_type": "stream",
     "text": [
      "Epoch   8/150 - Train accuracy: 92.791% - Test accuracy: 95.954%\n"
     ]
    },
    {
     "name": "stdout",
     "output_type": "stream",
     "text": [
      "Epoch   9/150 - Train accuracy: 93.712% - Test accuracy: 96.374%\n"
     ]
    },
    {
     "name": "stdout",
     "output_type": "stream",
     "text": [
      "Epoch  10/150 - Train accuracy: 94.155% - Test accuracy: 96.585%\n"
     ]
    },
    {
     "name": "stdout",
     "output_type": "stream",
     "text": [
      "Epoch  11/150 - Train accuracy: 94.595% - Test accuracy: 96.845%\n"
     ]
    },
    {
     "name": "stdout",
     "output_type": "stream",
     "text": [
      "Epoch  12/150 - Train accuracy: 95.031% - Test accuracy: 96.925%\n"
     ]
    },
    {
     "name": "stdout",
     "output_type": "stream",
     "text": [
      "Epoch  13/150 - Train accuracy: 95.184% - Test accuracy: 97.085%\n"
     ]
    },
    {
     "name": "stdout",
     "output_type": "stream",
     "text": [
      "Epoch  14/150 - Train accuracy: 95.511% - Test accuracy: 97.236%\n"
     ]
    },
    {
     "name": "stdout",
     "output_type": "stream",
     "text": [
      "Epoch  15/150 - Train accuracy: 95.591% - Test accuracy: 97.396%\n"
     ]
    },
    {
     "name": "stdout",
     "output_type": "stream",
     "text": [
      "Epoch  16/150 - Train accuracy: 95.836% - Test accuracy: 97.416%\n"
     ]
    },
    {
     "name": "stdout",
     "output_type": "stream",
     "text": [
      "Epoch  17/150 - Train accuracy: 96.158% - Test accuracy: 97.466%\n"
     ]
    },
    {
     "name": "stdout",
     "output_type": "stream",
     "text": [
      "Epoch  18/150 - Train accuracy: 96.103% - Test accuracy: 97.526%\n"
     ]
    },
    {
     "name": "stdout",
     "output_type": "stream",
     "text": [
      "Epoch  19/150 - Train accuracy: 96.278% - Test accuracy: 97.506%\n"
     ]
    },
    {
     "name": "stdout",
     "output_type": "stream",
     "text": [
      "Epoch  20/150 - Train accuracy: 96.361% - Test accuracy: 97.596%\n"
     ]
    },
    {
     "name": "stdout",
     "output_type": "stream",
     "text": [
      "Epoch  21/150 - Train accuracy: 96.386% - Test accuracy: 97.616%\n"
     ]
    },
    {
     "name": "stdout",
     "output_type": "stream",
     "text": [
      "Epoch  22/150 - Train accuracy: 96.488% - Test accuracy: 97.746%\n"
     ]
    },
    {
     "name": "stdout",
     "output_type": "stream",
     "text": [
      "Epoch  23/150 - Train accuracy: 96.583% - Test accuracy: 97.776%\n"
     ]
    },
    {
     "name": "stdout",
     "output_type": "stream",
     "text": [
      "Epoch  24/150 - Train accuracy: 96.693% - Test accuracy: 97.907%\n"
     ]
    },
    {
     "name": "stdout",
     "output_type": "stream",
     "text": [
      "Epoch  25/150 - Train accuracy: 96.815% - Test accuracy: 97.907%\n"
     ]
    },
    {
     "name": "stdout",
     "output_type": "stream",
     "text": [
      "Epoch  26/150 - Train accuracy: 96.822% - Test accuracy: 97.937%\n"
     ]
    },
    {
     "name": "stdout",
     "output_type": "stream",
     "text": [
      "Epoch  27/150 - Train accuracy: 96.920% - Test accuracy: 97.967%\n"
     ]
    },
    {
     "name": "stdout",
     "output_type": "stream",
     "text": [
      "Epoch  28/150 - Train accuracy: 96.977% - Test accuracy: 97.987%\n"
     ]
    },
    {
     "name": "stdout",
     "output_type": "stream",
     "text": [
      "Epoch  29/150 - Train accuracy: 97.007% - Test accuracy: 98.007%\n"
     ]
    },
    {
     "name": "stdout",
     "output_type": "stream",
     "text": [
      "Epoch  30/150 - Train accuracy: 97.113% - Test accuracy: 98.017%\n"
     ]
    },
    {
     "name": "stdout",
     "output_type": "stream",
     "text": [
      "Epoch  31/150 - Train accuracy: 97.219% - Test accuracy: 97.997%\n"
     ]
    },
    {
     "name": "stdout",
     "output_type": "stream",
     "text": [
      "Epoch  32/150 - Train accuracy: 97.270% - Test accuracy: 98.037%\n"
     ]
    },
    {
     "name": "stdout",
     "output_type": "stream",
     "text": [
      "Epoch  33/150 - Train accuracy: 97.267% - Test accuracy: 98.037%\n"
     ]
    },
    {
     "name": "stdout",
     "output_type": "stream",
     "text": [
      "Epoch  34/150 - Train accuracy: 97.452% - Test accuracy: 98.087%\n"
     ]
    },
    {
     "name": "stdout",
     "output_type": "stream",
     "text": [
      "Epoch  35/150 - Train accuracy: 97.357% - Test accuracy: 98.077%\n",
      "----------------------------------------------------------------\n",
      "Reducing learning rate on plateau at epoch 35\n",
      "----------------------------------------------------------------\n"
     ]
    },
    {
     "name": "stdout",
     "output_type": "stream",
     "text": [
      "Epoch  36/150 - Train accuracy: 97.305% - Test accuracy: 98.077%\n"
     ]
    },
    {
     "name": "stdout",
     "output_type": "stream",
     "text": [
      "Epoch  37/150 - Train accuracy: 97.440% - Test accuracy: 98.087%\n"
     ]
    },
    {
     "name": "stdout",
     "output_type": "stream",
     "text": [
      "Epoch  38/150 - Train accuracy: 97.439% - Test accuracy: 98.097%\n"
     ]
    },
    {
     "name": "stdout",
     "output_type": "stream",
     "text": [
      "Epoch  39/150 - Train accuracy: 97.410% - Test accuracy: 98.117%\n"
     ]
    },
    {
     "name": "stdout",
     "output_type": "stream",
     "text": [
      "Epoch  40/150 - Train accuracy: 97.430% - Test accuracy: 98.127%\n"
     ]
    },
    {
     "name": "stdout",
     "output_type": "stream",
     "text": [
      "Epoch  41/150 - Train accuracy: 97.487% - Test accuracy: 98.137%\n"
     ]
    },
    {
     "name": "stdout",
     "output_type": "stream",
     "text": [
      "Epoch  42/150 - Train accuracy: 97.419% - Test accuracy: 98.127%\n"
     ]
    },
    {
     "name": "stdout",
     "output_type": "stream",
     "text": [
      "Epoch  43/150 - Train accuracy: 97.590% - Test accuracy: 98.167%\n"
     ]
    },
    {
     "name": "stdout",
     "output_type": "stream",
     "text": [
      "Epoch  44/150 - Train accuracy: 97.380% - Test accuracy: 98.147%\n"
     ]
    },
    {
     "name": "stdout",
     "output_type": "stream",
     "text": [
      "Epoch  45/150 - Train accuracy: 97.419% - Test accuracy: 98.157%\n"
     ]
    },
    {
     "name": "stdout",
     "output_type": "stream",
     "text": [
      "Epoch  46/150 - Train accuracy: 97.619% - Test accuracy: 98.197%\n"
     ]
    },
    {
     "name": "stdout",
     "output_type": "stream",
     "text": [
      "Epoch  47/150 - Train accuracy: 97.534% - Test accuracy: 98.177%\n"
     ]
    },
    {
     "name": "stdout",
     "output_type": "stream",
     "text": [
      "Epoch  48/150 - Train accuracy: 97.612% - Test accuracy: 98.197%\n"
     ]
    },
    {
     "name": "stdout",
     "output_type": "stream",
     "text": [
      "Epoch  49/150 - Train accuracy: 97.537% - Test accuracy: 98.207%\n"
     ]
    },
    {
     "name": "stdout",
     "output_type": "stream",
     "text": [
      "Epoch  50/150 - Train accuracy: 97.454% - Test accuracy: 98.207%\n",
      "----------------------------------------------------------------\n",
      "Reducing learning rate on plateau at epoch 50\n",
      "----------------------------------------------------------------\n"
     ]
    },
    {
     "name": "stdout",
     "output_type": "stream",
     "text": [
      "Epoch  51/150 - Train accuracy: 97.570% - Test accuracy: 98.197%\n"
     ]
    },
    {
     "name": "stdout",
     "output_type": "stream",
     "text": [
      "Epoch  52/150 - Train accuracy: 97.527% - Test accuracy: 98.197%\n"
     ]
    },
    {
     "name": "stdout",
     "output_type": "stream",
     "text": [
      "Epoch  53/150 - Train accuracy: 97.565% - Test accuracy: 98.217%\n"
     ]
    },
    {
     "name": "stdout",
     "output_type": "stream",
     "text": [
      "Epoch  54/150 - Train accuracy: 97.570% - Test accuracy: 98.217%\n"
     ]
    },
    {
     "name": "stdout",
     "output_type": "stream",
     "text": [
      "Epoch  55/150 - Train accuracy: 97.632% - Test accuracy: 98.207%\n"
     ]
    },
    {
     "name": "stdout",
     "output_type": "stream",
     "text": [
      "Epoch  56/150 - Train accuracy: 97.579% - Test accuracy: 98.207%\n"
     ]
    },
    {
     "name": "stdout",
     "output_type": "stream",
     "text": [
      "Epoch  57/150 - Train accuracy: 97.522% - Test accuracy: 98.237%\n"
     ]
    },
    {
     "name": "stdout",
     "output_type": "stream",
     "text": [
      "Epoch  58/150 - Train accuracy: 97.629% - Test accuracy: 98.207%\n"
     ]
    },
    {
     "name": "stdout",
     "output_type": "stream",
     "text": [
      "Epoch  59/150 - Train accuracy: 97.532% - Test accuracy: 98.197%\n"
     ]
    },
    {
     "name": "stdout",
     "output_type": "stream",
     "text": [
      "Epoch  60/150 - Train accuracy: 97.694% - Test accuracy: 98.197%\n"
     ]
    },
    {
     "name": "stdout",
     "output_type": "stream",
     "text": [
      "Epoch  61/150 - Train accuracy: 97.582% - Test accuracy: 98.217%\n"
     ]
    },
    {
     "name": "stdout",
     "output_type": "stream",
     "text": [
      "Epoch  62/150 - Train accuracy: 97.645% - Test accuracy: 98.207%\n"
     ]
    },
    {
     "name": "stdout",
     "output_type": "stream",
     "text": [
      "Epoch  63/150 - Train accuracy: 97.519% - Test accuracy: 98.227%\n"
     ]
    },
    {
     "name": "stdout",
     "output_type": "stream",
     "text": [
      "Epoch  64/150 - Train accuracy: 97.614% - Test accuracy: 98.217%\n"
     ]
    },
    {
     "name": "stdout",
     "output_type": "stream",
     "text": [
      "Epoch  65/150 - Train accuracy: 97.600% - Test accuracy: 98.197%\n",
      "----------------------------------------------------------------\n",
      "Early stopping at epoch 65\n",
      "----------------------------------------------------------------\n",
      "----------------------------------------------------------------\n",
      "Running experiment with seed 47...\n"
     ]
    },
    {
     "name": "stdout",
     "output_type": "stream",
     "text": [
      "Epoch   1/150 - Train accuracy: 10.679% - Test accuracy: 20.082%\n"
     ]
    },
    {
     "name": "stdout",
     "output_type": "stream",
     "text": [
      "Epoch   2/150 - Train accuracy: 61.368% - Test accuracy: 89.103%\n"
     ]
    },
    {
     "name": "stdout",
     "output_type": "stream",
     "text": [
      "Epoch   3/150 - Train accuracy: 83.488% - Test accuracy: 91.526%\n"
     ]
    },
    {
     "name": "stdout",
     "output_type": "stream",
     "text": [
      "Epoch   4/150 - Train accuracy: 86.276% - Test accuracy: 93.029%\n"
     ]
    },
    {
     "name": "stdout",
     "output_type": "stream",
     "text": [
      "Epoch   5/150 - Train accuracy: 88.195% - Test accuracy: 94.131%\n"
     ]
    },
    {
     "name": "stdout",
     "output_type": "stream",
     "text": [
      "Epoch   6/150 - Train accuracy: 90.415% - Test accuracy: 94.882%\n"
     ]
    },
    {
     "name": "stdout",
     "output_type": "stream",
     "text": [
      "Epoch   7/150 - Train accuracy: 91.599% - Test accuracy: 95.353%\n"
     ]
    },
    {
     "name": "stdout",
     "output_type": "stream",
     "text": [
      "Epoch   8/150 - Train accuracy: 92.693% - Test accuracy: 96.054%\n"
     ]
    },
    {
     "name": "stdout",
     "output_type": "stream",
     "text": [
      "Epoch   9/150 - Train accuracy: 93.503% - Test accuracy: 96.314%\n"
     ]
    },
    {
     "name": "stdout",
     "output_type": "stream",
     "text": [
      "Epoch  10/150 - Train accuracy: 94.033% - Test accuracy: 96.735%\n"
     ]
    },
    {
     "name": "stdout",
     "output_type": "stream",
     "text": [
      "Epoch  11/150 - Train accuracy: 94.310% - Test accuracy: 96.735%\n"
     ]
    },
    {
     "name": "stdout",
     "output_type": "stream",
     "text": [
      "Epoch  12/150 - Train accuracy: 94.721% - Test accuracy: 96.935%\n"
     ]
    },
    {
     "name": "stdout",
     "output_type": "stream",
     "text": [
      "Epoch  13/150 - Train accuracy: 95.049% - Test accuracy: 97.075%\n"
     ]
    },
    {
     "name": "stdout",
     "output_type": "stream",
     "text": [
      "Epoch  14/150 - Train accuracy: 95.211% - Test accuracy: 97.206%\n"
     ]
    },
    {
     "name": "stdout",
     "output_type": "stream",
     "text": [
      "Epoch  15/150 - Train accuracy: 95.488% - Test accuracy: 97.326%\n"
     ]
    },
    {
     "name": "stdout",
     "output_type": "stream",
     "text": [
      "Epoch  16/150 - Train accuracy: 95.724% - Test accuracy: 97.326%\n"
     ]
    },
    {
     "name": "stdout",
     "output_type": "stream",
     "text": [
      "Epoch  17/150 - Train accuracy: 95.973% - Test accuracy: 97.456%\n"
     ]
    },
    {
     "name": "stdout",
     "output_type": "stream",
     "text": [
      "Epoch  18/150 - Train accuracy: 96.021% - Test accuracy: 97.506%\n"
     ]
    },
    {
     "name": "stdout",
     "output_type": "stream",
     "text": [
      "Epoch  19/150 - Train accuracy: 96.116% - Test accuracy: 97.576%\n"
     ]
    },
    {
     "name": "stdout",
     "output_type": "stream",
     "text": [
      "Epoch  20/150 - Train accuracy: 96.210% - Test accuracy: 97.556%\n"
     ]
    },
    {
     "name": "stdout",
     "output_type": "stream",
     "text": [
      "Epoch  21/150 - Train accuracy: 96.350% - Test accuracy: 97.696%\n"
     ]
    },
    {
     "name": "stdout",
     "output_type": "stream",
     "text": [
      "Epoch  22/150 - Train accuracy: 96.598% - Test accuracy: 97.766%\n"
     ]
    },
    {
     "name": "stdout",
     "output_type": "stream",
     "text": [
      "Epoch  23/150 - Train accuracy: 96.543% - Test accuracy: 97.806%\n"
     ]
    },
    {
     "name": "stdout",
     "output_type": "stream",
     "text": [
      "Epoch  24/150 - Train accuracy: 96.668% - Test accuracy: 97.827%\n"
     ]
    },
    {
     "name": "stdout",
     "output_type": "stream",
     "text": [
      "Epoch  25/150 - Train accuracy: 96.738% - Test accuracy: 97.837%\n"
     ]
    },
    {
     "name": "stdout",
     "output_type": "stream",
     "text": [
      "Epoch  26/150 - Train accuracy: 96.800% - Test accuracy: 97.857%\n"
     ]
    },
    {
     "name": "stdout",
     "output_type": "stream",
     "text": [
      "Epoch  27/150 - Train accuracy: 97.018% - Test accuracy: 97.917%\n"
     ]
    },
    {
     "name": "stdout",
     "output_type": "stream",
     "text": [
      "Epoch  28/150 - Train accuracy: 96.862% - Test accuracy: 97.927%\n"
     ]
    },
    {
     "name": "stdout",
     "output_type": "stream",
     "text": [
      "Epoch  29/150 - Train accuracy: 96.953% - Test accuracy: 97.997%\n"
     ]
    },
    {
     "name": "stdout",
     "output_type": "stream",
     "text": [
      "Epoch  30/150 - Train accuracy: 96.983% - Test accuracy: 97.967%\n"
     ]
    },
    {
     "name": "stdout",
     "output_type": "stream",
     "text": [
      "Epoch  31/150 - Train accuracy: 97.025% - Test accuracy: 98.027%\n"
     ]
    },
    {
     "name": "stdout",
     "output_type": "stream",
     "text": [
      "Epoch  32/150 - Train accuracy: 97.194% - Test accuracy: 98.017%\n"
     ]
    },
    {
     "name": "stdout",
     "output_type": "stream",
     "text": [
      "Epoch  33/150 - Train accuracy: 97.075% - Test accuracy: 97.987%\n"
     ]
    },
    {
     "name": "stdout",
     "output_type": "stream",
     "text": [
      "Epoch  34/150 - Train accuracy: 97.252% - Test accuracy: 98.047%\n"
     ]
    },
    {
     "name": "stdout",
     "output_type": "stream",
     "text": [
      "Epoch  35/150 - Train accuracy: 97.237% - Test accuracy: 98.137%\n"
     ]
    },
    {
     "name": "stdout",
     "output_type": "stream",
     "text": [
      "Epoch  36/150 - Train accuracy: 97.339% - Test accuracy: 98.107%\n"
     ]
    },
    {
     "name": "stdout",
     "output_type": "stream",
     "text": [
      "Epoch  37/150 - Train accuracy: 97.409% - Test accuracy: 98.207%\n",
      "----------------------------------------------------------------\n",
      "Reducing learning rate on plateau at epoch 37\n",
      "----------------------------------------------------------------\n"
     ]
    },
    {
     "name": "stdout",
     "output_type": "stream",
     "text": [
      "Epoch  38/150 - Train accuracy: 97.435% - Test accuracy: 98.177%\n"
     ]
    },
    {
     "name": "stdout",
     "output_type": "stream",
     "text": [
      "Epoch  39/150 - Train accuracy: 97.390% - Test accuracy: 98.177%\n"
     ]
    },
    {
     "name": "stdout",
     "output_type": "stream",
     "text": [
      "Epoch  40/150 - Train accuracy: 97.450% - Test accuracy: 98.197%\n"
     ]
    },
    {
     "name": "stdout",
     "output_type": "stream",
     "text": [
      "Epoch  41/150 - Train accuracy: 97.382% - Test accuracy: 98.147%\n"
     ]
    },
    {
     "name": "stdout",
     "output_type": "stream",
     "text": [
      "Epoch  42/150 - Train accuracy: 97.417% - Test accuracy: 98.237%\n"
     ]
    },
    {
     "name": "stdout",
     "output_type": "stream",
     "text": [
      "Epoch  43/150 - Train accuracy: 97.579% - Test accuracy: 98.237%\n"
     ]
    },
    {
     "name": "stdout",
     "output_type": "stream",
     "text": [
      "Epoch  44/150 - Train accuracy: 97.439% - Test accuracy: 98.197%\n"
     ]
    },
    {
     "name": "stdout",
     "output_type": "stream",
     "text": [
      "Epoch  45/150 - Train accuracy: 97.547% - Test accuracy: 98.287%\n"
     ]
    },
    {
     "name": "stdout",
     "output_type": "stream",
     "text": [
      "Epoch  46/150 - Train accuracy: 97.552% - Test accuracy: 98.227%\n"
     ]
    },
    {
     "name": "stdout",
     "output_type": "stream",
     "text": [
      "Epoch  47/150 - Train accuracy: 97.575% - Test accuracy: 98.257%\n"
     ]
    },
    {
     "name": "stdout",
     "output_type": "stream",
     "text": [
      "Epoch  48/150 - Train accuracy: 97.577% - Test accuracy: 98.297%\n"
     ]
    },
    {
     "name": "stdout",
     "output_type": "stream",
     "text": [
      "Epoch  49/150 - Train accuracy: 97.489% - Test accuracy: 98.267%\n"
     ]
    },
    {
     "name": "stdout",
     "output_type": "stream",
     "text": [
      "Epoch  50/150 - Train accuracy: 97.557% - Test accuracy: 98.317%\n"
     ]
    },
    {
     "name": "stdout",
     "output_type": "stream",
     "text": [
      "Epoch  51/150 - Train accuracy: 97.644% - Test accuracy: 98.277%\n"
     ]
    },
    {
     "name": "stdout",
     "output_type": "stream",
     "text": [
      "Epoch  52/150 - Train accuracy: 97.547% - Test accuracy: 98.317%\n",
      "----------------------------------------------------------------\n",
      "Reducing learning rate on plateau at epoch 52\n",
      "----------------------------------------------------------------\n"
     ]
    },
    {
     "name": "stdout",
     "output_type": "stream",
     "text": [
      "Epoch  53/150 - Train accuracy: 97.549% - Test accuracy: 98.257%\n"
     ]
    },
    {
     "name": "stdout",
     "output_type": "stream",
     "text": [
      "Epoch  54/150 - Train accuracy: 97.624% - Test accuracy: 98.287%\n"
     ]
    },
    {
     "name": "stdout",
     "output_type": "stream",
     "text": [
      "Epoch  55/150 - Train accuracy: 97.645% - Test accuracy: 98.277%\n"
     ]
    },
    {
     "name": "stdout",
     "output_type": "stream",
     "text": [
      "Epoch  56/150 - Train accuracy: 97.657% - Test accuracy: 98.317%\n"
     ]
    },
    {
     "name": "stdout",
     "output_type": "stream",
     "text": [
      "Epoch  57/150 - Train accuracy: 97.635% - Test accuracy: 98.287%\n"
     ]
    },
    {
     "name": "stdout",
     "output_type": "stream",
     "text": [
      "Epoch  58/150 - Train accuracy: 97.555% - Test accuracy: 98.307%\n"
     ]
    },
    {
     "name": "stdout",
     "output_type": "stream",
     "text": [
      "Epoch  59/150 - Train accuracy: 97.687% - Test accuracy: 98.307%\n"
     ]
    },
    {
     "name": "stdout",
     "output_type": "stream",
     "text": [
      "Epoch  60/150 - Train accuracy: 97.567% - Test accuracy: 98.307%\n"
     ]
    },
    {
     "name": "stdout",
     "output_type": "stream",
     "text": [
      "Epoch  61/150 - Train accuracy: 97.600% - Test accuracy: 98.297%\n"
     ]
    },
    {
     "name": "stdout",
     "output_type": "stream",
     "text": [
      "Epoch  62/150 - Train accuracy: 97.577% - Test accuracy: 98.297%\n"
     ]
    },
    {
     "name": "stdout",
     "output_type": "stream",
     "text": [
      "Epoch  63/150 - Train accuracy: 97.655% - Test accuracy: 98.277%\n"
     ]
    },
    {
     "name": "stdout",
     "output_type": "stream",
     "text": [
      "Epoch  64/150 - Train accuracy: 97.662% - Test accuracy: 98.317%\n"
     ]
    },
    {
     "name": "stdout",
     "output_type": "stream",
     "text": [
      "Epoch  65/150 - Train accuracy: 97.589% - Test accuracy: 98.327%\n",
      "----------------------------------------------------------------\n",
      "Early stopping at epoch 65\n",
      "----------------------------------------------------------------\n",
      "----------------------------------------------------------------\n",
      "Running experiment with seed 48...\n"
     ]
    },
    {
     "name": "stdout",
     "output_type": "stream",
     "text": [
      "Epoch   1/150 - Train accuracy: 10.624% - Test accuracy: 11.458%\n"
     ]
    },
    {
     "name": "stdout",
     "output_type": "stream",
     "text": [
      "Epoch   2/150 - Train accuracy: 59.147% - Test accuracy: 89.093%\n"
     ]
    },
    {
     "name": "stdout",
     "output_type": "stream",
     "text": [
      "Epoch   3/150 - Train accuracy: 82.984% - Test accuracy: 91.667%\n"
     ]
    },
    {
     "name": "stdout",
     "output_type": "stream",
     "text": [
      "Epoch   4/150 - Train accuracy: 86.703% - Test accuracy: 93.139%\n"
     ]
    },
    {
     "name": "stdout",
     "output_type": "stream",
     "text": [
      "Epoch   5/150 - Train accuracy: 89.084% - Test accuracy: 93.890%\n"
     ]
    },
    {
     "name": "stdout",
     "output_type": "stream",
     "text": [
      "Epoch   6/150 - Train accuracy: 90.775% - Test accuracy: 95.012%\n"
     ]
    },
    {
     "name": "stdout",
     "output_type": "stream",
     "text": [
      "Epoch   7/150 - Train accuracy: 91.734% - Test accuracy: 95.683%\n"
     ]
    },
    {
     "name": "stdout",
     "output_type": "stream",
     "text": [
      "Epoch   8/150 - Train accuracy: 92.773% - Test accuracy: 96.104%\n"
     ]
    },
    {
     "name": "stdout",
     "output_type": "stream",
     "text": [
      "Epoch   9/150 - Train accuracy: 93.358% - Test accuracy: 96.434%\n"
     ]
    },
    {
     "name": "stdout",
     "output_type": "stream",
     "text": [
      "Epoch  10/150 - Train accuracy: 94.018% - Test accuracy: 96.605%\n"
     ]
    },
    {
     "name": "stdout",
     "output_type": "stream",
     "text": [
      "Epoch  11/150 - Train accuracy: 94.480% - Test accuracy: 96.835%\n"
     ]
    },
    {
     "name": "stdout",
     "output_type": "stream",
     "text": [
      "Epoch  12/150 - Train accuracy: 94.719% - Test accuracy: 97.025%\n"
     ]
    },
    {
     "name": "stdout",
     "output_type": "stream",
     "text": [
      "Epoch  13/150 - Train accuracy: 95.142% - Test accuracy: 97.125%\n"
     ]
    },
    {
     "name": "stdout",
     "output_type": "stream",
     "text": [
      "Epoch  14/150 - Train accuracy: 95.396% - Test accuracy: 97.216%\n"
     ]
    },
    {
     "name": "stdout",
     "output_type": "stream",
     "text": [
      "Epoch  15/150 - Train accuracy: 95.543% - Test accuracy: 97.346%\n"
     ]
    },
    {
     "name": "stdout",
     "output_type": "stream",
     "text": [
      "Epoch  16/150 - Train accuracy: 95.738% - Test accuracy: 97.406%\n"
     ]
    },
    {
     "name": "stdout",
     "output_type": "stream",
     "text": [
      "Epoch  17/150 - Train accuracy: 95.970% - Test accuracy: 97.576%\n"
     ]
    },
    {
     "name": "stdout",
     "output_type": "stream",
     "text": [
      "Epoch  18/150 - Train accuracy: 95.938% - Test accuracy: 97.536%\n"
     ]
    },
    {
     "name": "stdout",
     "output_type": "stream",
     "text": [
      "Epoch  19/150 - Train accuracy: 96.291% - Test accuracy: 97.576%\n"
     ]
    },
    {
     "name": "stdout",
     "output_type": "stream",
     "text": [
      "Epoch  20/150 - Train accuracy: 96.265% - Test accuracy: 97.656%\n"
     ]
    },
    {
     "name": "stdout",
     "output_type": "stream",
     "text": [
      "Epoch  21/150 - Train accuracy: 96.306% - Test accuracy: 97.686%\n"
     ]
    },
    {
     "name": "stdout",
     "output_type": "stream",
     "text": [
      "Epoch  22/150 - Train accuracy: 96.430% - Test accuracy: 97.716%\n"
     ]
    },
    {
     "name": "stdout",
     "output_type": "stream",
     "text": [
      "Epoch  23/150 - Train accuracy: 96.648% - Test accuracy: 97.756%\n"
     ]
    },
    {
     "name": "stdout",
     "output_type": "stream",
     "text": [
      "Epoch  24/150 - Train accuracy: 96.600% - Test accuracy: 97.817%\n"
     ]
    },
    {
     "name": "stdout",
     "output_type": "stream",
     "text": [
      "Epoch  25/150 - Train accuracy: 96.682% - Test accuracy: 97.817%\n"
     ]
    },
    {
     "name": "stdout",
     "output_type": "stream",
     "text": [
      "Epoch  26/150 - Train accuracy: 96.782% - Test accuracy: 97.806%\n"
     ]
    },
    {
     "name": "stdout",
     "output_type": "stream",
     "text": [
      "Epoch  27/150 - Train accuracy: 96.920% - Test accuracy: 97.937%\n"
     ]
    },
    {
     "name": "stdout",
     "output_type": "stream",
     "text": [
      "Epoch  28/150 - Train accuracy: 96.937% - Test accuracy: 97.957%\n"
     ]
    },
    {
     "name": "stdout",
     "output_type": "stream",
     "text": [
      "Epoch  29/150 - Train accuracy: 96.970% - Test accuracy: 97.987%\n"
     ]
    },
    {
     "name": "stdout",
     "output_type": "stream",
     "text": [
      "Epoch  30/150 - Train accuracy: 97.048% - Test accuracy: 98.037%\n"
     ]
    },
    {
     "name": "stdout",
     "output_type": "stream",
     "text": [
      "Epoch  31/150 - Train accuracy: 97.110% - Test accuracy: 98.027%\n"
     ]
    },
    {
     "name": "stdout",
     "output_type": "stream",
     "text": [
      "Epoch  32/150 - Train accuracy: 97.168% - Test accuracy: 98.027%\n"
     ]
    },
    {
     "name": "stdout",
     "output_type": "stream",
     "text": [
      "Epoch  33/150 - Train accuracy: 97.195% - Test accuracy: 98.077%\n"
     ]
    },
    {
     "name": "stdout",
     "output_type": "stream",
     "text": [
      "Epoch  34/150 - Train accuracy: 97.304% - Test accuracy: 98.157%\n"
     ]
    },
    {
     "name": "stdout",
     "output_type": "stream",
     "text": [
      "Epoch  35/150 - Train accuracy: 97.292% - Test accuracy: 98.157%\n",
      "----------------------------------------------------------------\n",
      "Reducing learning rate on plateau at epoch 35\n",
      "----------------------------------------------------------------\n"
     ]
    },
    {
     "name": "stdout",
     "output_type": "stream",
     "text": [
      "Epoch  36/150 - Train accuracy: 97.367% - Test accuracy: 98.177%\n"
     ]
    },
    {
     "name": "stdout",
     "output_type": "stream",
     "text": [
      "Epoch  37/150 - Train accuracy: 97.332% - Test accuracy: 98.097%\n"
     ]
    },
    {
     "name": "stdout",
     "output_type": "stream",
     "text": [
      "Epoch  38/150 - Train accuracy: 97.524% - Test accuracy: 98.117%\n"
     ]
    },
    {
     "name": "stdout",
     "output_type": "stream",
     "text": [
      "Epoch  39/150 - Train accuracy: 97.439% - Test accuracy: 98.167%\n"
     ]
    },
    {
     "name": "stdout",
     "output_type": "stream",
     "text": [
      "Epoch  40/150 - Train accuracy: 97.382% - Test accuracy: 98.147%\n"
     ]
    },
    {
     "name": "stdout",
     "output_type": "stream",
     "text": [
      "Epoch  41/150 - Train accuracy: 97.297% - Test accuracy: 98.127%\n"
     ]
    },
    {
     "name": "stdout",
     "output_type": "stream",
     "text": [
      "Epoch  42/150 - Train accuracy: 97.467% - Test accuracy: 98.147%\n"
     ]
    },
    {
     "name": "stdout",
     "output_type": "stream",
     "text": [
      "Epoch  43/150 - Train accuracy: 97.342% - Test accuracy: 98.197%\n"
     ]
    },
    {
     "name": "stdout",
     "output_type": "stream",
     "text": [
      "Epoch  44/150 - Train accuracy: 97.480% - Test accuracy: 98.147%\n"
     ]
    },
    {
     "name": "stdout",
     "output_type": "stream",
     "text": [
      "Epoch  45/150 - Train accuracy: 97.480% - Test accuracy: 98.157%\n"
     ]
    },
    {
     "name": "stdout",
     "output_type": "stream",
     "text": [
      "Epoch  46/150 - Train accuracy: 97.579% - Test accuracy: 98.217%\n"
     ]
    },
    {
     "name": "stdout",
     "output_type": "stream",
     "text": [
      "Epoch  47/150 - Train accuracy: 97.555% - Test accuracy: 98.207%\n"
     ]
    },
    {
     "name": "stdout",
     "output_type": "stream",
     "text": [
      "Epoch  48/150 - Train accuracy: 97.502% - Test accuracy: 98.177%\n"
     ]
    },
    {
     "name": "stdout",
     "output_type": "stream",
     "text": [
      "Epoch  49/150 - Train accuracy: 97.452% - Test accuracy: 98.197%\n"
     ]
    },
    {
     "name": "stdout",
     "output_type": "stream",
     "text": [
      "Epoch  50/150 - Train accuracy: 97.637% - Test accuracy: 98.187%\n",
      "----------------------------------------------------------------\n",
      "Reducing learning rate on plateau at epoch 50\n",
      "----------------------------------------------------------------\n"
     ]
    },
    {
     "name": "stdout",
     "output_type": "stream",
     "text": [
      "Epoch  51/150 - Train accuracy: 97.582% - Test accuracy: 98.187%\n"
     ]
    },
    {
     "name": "stdout",
     "output_type": "stream",
     "text": [
      "Epoch  52/150 - Train accuracy: 97.565% - Test accuracy: 98.197%\n"
     ]
    },
    {
     "name": "stdout",
     "output_type": "stream",
     "text": [
      "Epoch  53/150 - Train accuracy: 97.672% - Test accuracy: 98.207%\n"
     ]
    },
    {
     "name": "stdout",
     "output_type": "stream",
     "text": [
      "Epoch  54/150 - Train accuracy: 97.552% - Test accuracy: 98.217%\n"
     ]
    },
    {
     "name": "stdout",
     "output_type": "stream",
     "text": [
      "Epoch  55/150 - Train accuracy: 97.457% - Test accuracy: 98.227%\n"
     ]
    },
    {
     "name": "stdout",
     "output_type": "stream",
     "text": [
      "Epoch  56/150 - Train accuracy: 97.495% - Test accuracy: 98.197%\n"
     ]
    },
    {
     "name": "stdout",
     "output_type": "stream",
     "text": [
      "Epoch  57/150 - Train accuracy: 97.609% - Test accuracy: 98.227%\n"
     ]
    },
    {
     "name": "stdout",
     "output_type": "stream",
     "text": [
      "Epoch  58/150 - Train accuracy: 97.539% - Test accuracy: 98.207%\n"
     ]
    },
    {
     "name": "stdout",
     "output_type": "stream",
     "text": [
      "Epoch  59/150 - Train accuracy: 97.655% - Test accuracy: 98.227%\n"
     ]
    },
    {
     "name": "stdout",
     "output_type": "stream",
     "text": [
      "Epoch  60/150 - Train accuracy: 97.520% - Test accuracy: 98.237%\n"
     ]
    },
    {
     "name": "stdout",
     "output_type": "stream",
     "text": [
      "Epoch  61/150 - Train accuracy: 97.592% - Test accuracy: 98.217%\n"
     ]
    },
    {
     "name": "stdout",
     "output_type": "stream",
     "text": [
      "Epoch  62/150 - Train accuracy: 97.574% - Test accuracy: 98.227%\n"
     ]
    },
    {
     "name": "stdout",
     "output_type": "stream",
     "text": [
      "Epoch  63/150 - Train accuracy: 97.580% - Test accuracy: 98.227%\n"
     ]
    },
    {
     "name": "stdout",
     "output_type": "stream",
     "text": [
      "Epoch  64/150 - Train accuracy: 97.567% - Test accuracy: 98.197%\n"
     ]
    },
    {
     "name": "stdout",
     "output_type": "stream",
     "text": [
      "Epoch  65/150 - Train accuracy: 97.602% - Test accuracy: 98.207%\n",
      "----------------------------------------------------------------\n",
      "Early stopping at epoch 65\n",
      "----------------------------------------------------------------\n",
      "----------------------------------------------------------------\n",
      "Running experiment with seed 49...\n"
     ]
    },
    {
     "name": "stdout",
     "output_type": "stream",
     "text": [
      "Epoch   1/150 - Train accuracy: 10.692% - Test accuracy: 26.102%\n"
     ]
    },
    {
     "name": "stdout",
     "output_type": "stream",
     "text": [
      "Epoch   2/150 - Train accuracy: 61.079% - Test accuracy: 89.193%\n"
     ]
    },
    {
     "name": "stdout",
     "output_type": "stream",
     "text": [
      "Epoch   3/150 - Train accuracy: 83.121% - Test accuracy: 91.827%\n"
     ]
    },
    {
     "name": "stdout",
     "output_type": "stream",
     "text": [
      "Epoch   4/150 - Train accuracy: 86.740% - Test accuracy: 93.309%\n"
     ]
    },
    {
     "name": "stdout",
     "output_type": "stream",
     "text": [
      "Epoch   5/150 - Train accuracy: 88.797% - Test accuracy: 94.211%\n"
     ]
    },
    {
     "name": "stdout",
     "output_type": "stream",
     "text": [
      "Epoch   6/150 - Train accuracy: 90.427% - Test accuracy: 95.062%\n"
     ]
    },
    {
     "name": "stdout",
     "output_type": "stream",
     "text": [
      "Epoch   7/150 - Train accuracy: 91.904% - Test accuracy: 95.593%\n"
     ]
    },
    {
     "name": "stdout",
     "output_type": "stream",
     "text": [
      "Epoch   8/150 - Train accuracy: 92.478% - Test accuracy: 96.074%\n"
     ]
    },
    {
     "name": "stdout",
     "output_type": "stream",
     "text": [
      "Epoch   9/150 - Train accuracy: 93.345% - Test accuracy: 96.334%\n"
     ]
    },
    {
     "name": "stdout",
     "output_type": "stream",
     "text": [
      "Epoch  10/150 - Train accuracy: 93.938% - Test accuracy: 96.595%\n"
     ]
    },
    {
     "name": "stdout",
     "output_type": "stream",
     "text": [
      "Epoch  11/150 - Train accuracy: 94.532% - Test accuracy: 96.795%\n"
     ]
    },
    {
     "name": "stdout",
     "output_type": "stream",
     "text": [
      "Epoch  12/150 - Train accuracy: 94.972% - Test accuracy: 96.895%\n"
     ]
    },
    {
     "name": "stdout",
     "output_type": "stream",
     "text": [
      "Epoch  13/150 - Train accuracy: 95.011% - Test accuracy: 96.975%\n"
     ]
    },
    {
     "name": "stdout",
     "output_type": "stream",
     "text": [
      "Epoch  14/150 - Train accuracy: 95.312% - Test accuracy: 97.165%\n"
     ]
    },
    {
     "name": "stdout",
     "output_type": "stream",
     "text": [
      "Epoch  15/150 - Train accuracy: 95.629% - Test accuracy: 97.326%\n"
     ]
    },
    {
     "name": "stdout",
     "output_type": "stream",
     "text": [
      "Epoch  16/150 - Train accuracy: 95.684% - Test accuracy: 97.356%\n"
     ]
    },
    {
     "name": "stdout",
     "output_type": "stream",
     "text": [
      "Epoch  17/150 - Train accuracy: 95.933% - Test accuracy: 97.426%\n"
     ]
    },
    {
     "name": "stdout",
     "output_type": "stream",
     "text": [
      "Epoch  18/150 - Train accuracy: 95.988% - Test accuracy: 97.526%\n"
     ]
    },
    {
     "name": "stdout",
     "output_type": "stream",
     "text": [
      "Epoch  19/150 - Train accuracy: 96.170% - Test accuracy: 97.556%\n"
     ]
    },
    {
     "name": "stdout",
     "output_type": "stream",
     "text": [
      "Epoch  20/150 - Train accuracy: 96.235% - Test accuracy: 97.646%\n"
     ]
    },
    {
     "name": "stdout",
     "output_type": "stream",
     "text": [
      "Epoch  21/150 - Train accuracy: 96.466% - Test accuracy: 97.686%\n"
     ]
    },
    {
     "name": "stdout",
     "output_type": "stream",
     "text": [
      "Epoch  22/150 - Train accuracy: 96.403% - Test accuracy: 97.756%\n"
     ]
    },
    {
     "name": "stdout",
     "output_type": "stream",
     "text": [
      "Epoch  23/150 - Train accuracy: 96.550% - Test accuracy: 97.776%\n"
     ]
    },
    {
     "name": "stdout",
     "output_type": "stream",
     "text": [
      "Epoch  24/150 - Train accuracy: 96.645% - Test accuracy: 97.766%\n"
     ]
    },
    {
     "name": "stdout",
     "output_type": "stream",
     "text": [
      "Epoch  25/150 - Train accuracy: 96.658% - Test accuracy: 97.917%\n"
     ]
    },
    {
     "name": "stdout",
     "output_type": "stream",
     "text": [
      "Epoch  26/150 - Train accuracy: 96.748% - Test accuracy: 97.877%\n"
     ]
    },
    {
     "name": "stdout",
     "output_type": "stream",
     "text": [
      "Epoch  27/150 - Train accuracy: 96.905% - Test accuracy: 97.897%\n"
     ]
    },
    {
     "name": "stdout",
     "output_type": "stream",
     "text": [
      "Epoch  28/150 - Train accuracy: 96.967% - Test accuracy: 97.957%\n"
     ]
    },
    {
     "name": "stdout",
     "output_type": "stream",
     "text": [
      "Epoch  29/150 - Train accuracy: 96.978% - Test accuracy: 97.997%\n"
     ]
    },
    {
     "name": "stdout",
     "output_type": "stream",
     "text": [
      "Epoch  30/150 - Train accuracy: 97.048% - Test accuracy: 97.927%\n"
     ]
    },
    {
     "name": "stdout",
     "output_type": "stream",
     "text": [
      "Epoch  31/150 - Train accuracy: 97.145% - Test accuracy: 98.047%\n"
     ]
    },
    {
     "name": "stdout",
     "output_type": "stream",
     "text": [
      "Epoch  32/150 - Train accuracy: 97.083% - Test accuracy: 98.107%\n"
     ]
    },
    {
     "name": "stdout",
     "output_type": "stream",
     "text": [
      "Epoch  33/150 - Train accuracy: 97.239% - Test accuracy: 98.107%\n"
     ]
    },
    {
     "name": "stdout",
     "output_type": "stream",
     "text": [
      "Epoch  34/150 - Train accuracy: 97.205% - Test accuracy: 98.197%\n"
     ]
    },
    {
     "name": "stdout",
     "output_type": "stream",
     "text": [
      "Epoch  35/150 - Train accuracy: 97.360% - Test accuracy: 98.167%\n",
      "----------------------------------------------------------------\n",
      "Reducing learning rate on plateau at epoch 35\n",
      "----------------------------------------------------------------\n"
     ]
    },
    {
     "name": "stdout",
     "output_type": "stream",
     "text": [
      "Epoch  36/150 - Train accuracy: 97.362% - Test accuracy: 98.157%\n"
     ]
    },
    {
     "name": "stdout",
     "output_type": "stream",
     "text": [
      "Epoch  37/150 - Train accuracy: 97.329% - Test accuracy: 98.157%\n"
     ]
    },
    {
     "name": "stdout",
     "output_type": "stream",
     "text": [
      "Epoch  38/150 - Train accuracy: 97.497% - Test accuracy: 98.157%\n"
     ]
    },
    {
     "name": "stdout",
     "output_type": "stream",
     "text": [
      "Epoch  39/150 - Train accuracy: 97.377% - Test accuracy: 98.147%\n"
     ]
    },
    {
     "name": "stdout",
     "output_type": "stream",
     "text": [
      "Epoch  40/150 - Train accuracy: 97.390% - Test accuracy: 98.257%\n"
     ]
    },
    {
     "name": "stdout",
     "output_type": "stream",
     "text": [
      "Epoch  41/150 - Train accuracy: 97.429% - Test accuracy: 98.187%\n"
     ]
    },
    {
     "name": "stdout",
     "output_type": "stream",
     "text": [
      "Epoch  42/150 - Train accuracy: 97.374% - Test accuracy: 98.197%\n"
     ]
    },
    {
     "name": "stdout",
     "output_type": "stream",
     "text": [
      "Epoch  43/150 - Train accuracy: 97.477% - Test accuracy: 98.237%\n"
     ]
    },
    {
     "name": "stdout",
     "output_type": "stream",
     "text": [
      "Epoch  44/150 - Train accuracy: 97.400% - Test accuracy: 98.187%\n"
     ]
    },
    {
     "name": "stdout",
     "output_type": "stream",
     "text": [
      "Epoch  45/150 - Train accuracy: 97.580% - Test accuracy: 98.157%\n"
     ]
    },
    {
     "name": "stdout",
     "output_type": "stream",
     "text": [
      "Epoch  46/150 - Train accuracy: 97.575% - Test accuracy: 98.227%\n"
     ]
    },
    {
     "name": "stdout",
     "output_type": "stream",
     "text": [
      "Epoch  47/150 - Train accuracy: 97.404% - Test accuracy: 98.227%\n"
     ]
    },
    {
     "name": "stdout",
     "output_type": "stream",
     "text": [
      "Epoch  48/150 - Train accuracy: 97.599% - Test accuracy: 98.187%\n"
     ]
    },
    {
     "name": "stdout",
     "output_type": "stream",
     "text": [
      "Epoch  49/150 - Train accuracy: 97.520% - Test accuracy: 98.187%\n"
     ]
    },
    {
     "name": "stdout",
     "output_type": "stream",
     "text": [
      "Epoch  50/150 - Train accuracy: 97.582% - Test accuracy: 98.257%\n",
      "----------------------------------------------------------------\n",
      "Reducing learning rate on plateau at epoch 50\n",
      "----------------------------------------------------------------\n"
     ]
    },
    {
     "name": "stdout",
     "output_type": "stream",
     "text": [
      "Epoch  51/150 - Train accuracy: 97.535% - Test accuracy: 98.237%\n"
     ]
    },
    {
     "name": "stdout",
     "output_type": "stream",
     "text": [
      "Epoch  52/150 - Train accuracy: 97.559% - Test accuracy: 98.267%\n"
     ]
    },
    {
     "name": "stdout",
     "output_type": "stream",
     "text": [
      "Epoch  53/150 - Train accuracy: 97.554% - Test accuracy: 98.237%\n"
     ]
    },
    {
     "name": "stdout",
     "output_type": "stream",
     "text": [
      "Epoch  54/150 - Train accuracy: 97.449% - Test accuracy: 98.237%\n"
     ]
    },
    {
     "name": "stdout",
     "output_type": "stream",
     "text": [
      "Epoch  55/150 - Train accuracy: 97.615% - Test accuracy: 98.247%\n"
     ]
    },
    {
     "name": "stdout",
     "output_type": "stream",
     "text": [
      "Epoch  56/150 - Train accuracy: 97.544% - Test accuracy: 98.237%\n"
     ]
    },
    {
     "name": "stdout",
     "output_type": "stream",
     "text": [
      "Epoch  57/150 - Train accuracy: 97.579% - Test accuracy: 98.237%\n"
     ]
    },
    {
     "name": "stdout",
     "output_type": "stream",
     "text": [
      "Epoch  58/150 - Train accuracy: 97.499% - Test accuracy: 98.247%\n"
     ]
    },
    {
     "name": "stdout",
     "output_type": "stream",
     "text": [
      "Epoch  59/150 - Train accuracy: 97.594% - Test accuracy: 98.247%\n"
     ]
    },
    {
     "name": "stdout",
     "output_type": "stream",
     "text": [
      "Epoch  60/150 - Train accuracy: 97.630% - Test accuracy: 98.237%\n"
     ]
    },
    {
     "name": "stdout",
     "output_type": "stream",
     "text": [
      "Epoch  61/150 - Train accuracy: 97.507% - Test accuracy: 98.247%\n"
     ]
    },
    {
     "name": "stdout",
     "output_type": "stream",
     "text": [
      "Epoch  62/150 - Train accuracy: 97.579% - Test accuracy: 98.267%\n"
     ]
    },
    {
     "name": "stdout",
     "output_type": "stream",
     "text": [
      "Epoch  63/150 - Train accuracy: 97.652% - Test accuracy: 98.257%\n"
     ]
    },
    {
     "name": "stdout",
     "output_type": "stream",
     "text": [
      "Epoch  64/150 - Train accuracy: 97.594% - Test accuracy: 98.247%\n"
     ]
    },
    {
     "name": "stdout",
     "output_type": "stream",
     "text": [
      "Epoch  65/150 - Train accuracy: 97.700% - Test accuracy: 98.237%\n",
      "----------------------------------------------------------------\n",
      "Early stopping at epoch 65\n",
      "----------------------------------------------------------------\n",
      "----------------------------------------------------------------\n",
      "Running experiment with seed 50...\n"
     ]
    },
    {
     "name": "stdout",
     "output_type": "stream",
     "text": [
      "Epoch   1/150 - Train accuracy: 10.285% - Test accuracy: 10.286%\n"
     ]
    },
    {
     "name": "stdout",
     "output_type": "stream",
     "text": [
      "Epoch   2/150 - Train accuracy: 58.613% - Test accuracy: 87.770%\n"
     ]
    },
    {
     "name": "stdout",
     "output_type": "stream",
     "text": [
      "Epoch   3/150 - Train accuracy: 83.535% - Test accuracy: 92.117%\n"
     ]
    },
    {
     "name": "stdout",
     "output_type": "stream",
     "text": [
      "Epoch   4/150 - Train accuracy: 86.421% - Test accuracy: 93.129%\n"
     ]
    },
    {
     "name": "stdout",
     "output_type": "stream",
     "text": [
      "Epoch   5/150 - Train accuracy: 88.911% - Test accuracy: 94.411%\n"
     ]
    },
    {
     "name": "stdout",
     "output_type": "stream",
     "text": [
      "Epoch   6/150 - Train accuracy: 90.412% - Test accuracy: 94.982%\n"
     ]
    },
    {
     "name": "stdout",
     "output_type": "stream",
     "text": [
      "Epoch   7/150 - Train accuracy: 91.742% - Test accuracy: 95.603%\n"
     ]
    },
    {
     "name": "stdout",
     "output_type": "stream",
     "text": [
      "Epoch   8/150 - Train accuracy: 92.988% - Test accuracy: 96.074%\n"
     ]
    },
    {
     "name": "stdout",
     "output_type": "stream",
     "text": [
      "Epoch   9/150 - Train accuracy: 93.385% - Test accuracy: 96.384%\n"
     ]
    },
    {
     "name": "stdout",
     "output_type": "stream",
     "text": [
      "Epoch  10/150 - Train accuracy: 93.823% - Test accuracy: 96.675%\n"
     ]
    },
    {
     "name": "stdout",
     "output_type": "stream",
     "text": [
      "Epoch  11/150 - Train accuracy: 94.192% - Test accuracy: 96.795%\n"
     ]
    },
    {
     "name": "stdout",
     "output_type": "stream",
     "text": [
      "Epoch  12/150 - Train accuracy: 94.594% - Test accuracy: 96.995%\n"
     ]
    },
    {
     "name": "stdout",
     "output_type": "stream",
     "text": [
      "Epoch  13/150 - Train accuracy: 95.027% - Test accuracy: 97.125%\n"
     ]
    },
    {
     "name": "stdout",
     "output_type": "stream",
     "text": [
      "Epoch  14/150 - Train accuracy: 95.267% - Test accuracy: 97.256%\n"
     ]
    },
    {
     "name": "stdout",
     "output_type": "stream",
     "text": [
      "Epoch  15/150 - Train accuracy: 95.524% - Test accuracy: 97.366%\n"
     ]
    },
    {
     "name": "stdout",
     "output_type": "stream",
     "text": [
      "Epoch  16/150 - Train accuracy: 95.798% - Test accuracy: 97.296%\n"
     ]
    },
    {
     "name": "stdout",
     "output_type": "stream",
     "text": [
      "Epoch  17/150 - Train accuracy: 95.871% - Test accuracy: 97.446%\n"
     ]
    },
    {
     "name": "stdout",
     "output_type": "stream",
     "text": [
      "Epoch  18/150 - Train accuracy: 96.005% - Test accuracy: 97.536%\n"
     ]
    },
    {
     "name": "stdout",
     "output_type": "stream",
     "text": [
      "Epoch  19/150 - Train accuracy: 96.150% - Test accuracy: 97.626%\n"
     ]
    },
    {
     "name": "stdout",
     "output_type": "stream",
     "text": [
      "Epoch  20/150 - Train accuracy: 96.303% - Test accuracy: 97.606%\n"
     ]
    },
    {
     "name": "stdout",
     "output_type": "stream",
     "text": [
      "Epoch  21/150 - Train accuracy: 96.498% - Test accuracy: 97.676%\n"
     ]
    },
    {
     "name": "stdout",
     "output_type": "stream",
     "text": [
      "Epoch  22/150 - Train accuracy: 96.391% - Test accuracy: 97.776%\n"
     ]
    },
    {
     "name": "stdout",
     "output_type": "stream",
     "text": [
      "Epoch  23/150 - Train accuracy: 96.563% - Test accuracy: 97.766%\n"
     ]
    },
    {
     "name": "stdout",
     "output_type": "stream",
     "text": [
      "Epoch  24/150 - Train accuracy: 96.607% - Test accuracy: 97.817%\n"
     ]
    },
    {
     "name": "stdout",
     "output_type": "stream",
     "text": [
      "Epoch  25/150 - Train accuracy: 96.740% - Test accuracy: 97.817%\n"
     ]
    },
    {
     "name": "stdout",
     "output_type": "stream",
     "text": [
      "Epoch  26/150 - Train accuracy: 96.815% - Test accuracy: 97.907%\n"
     ]
    },
    {
     "name": "stdout",
     "output_type": "stream",
     "text": [
      "Epoch  27/150 - Train accuracy: 96.957% - Test accuracy: 97.837%\n"
     ]
    },
    {
     "name": "stdout",
     "output_type": "stream",
     "text": [
      "Epoch  28/150 - Train accuracy: 96.890% - Test accuracy: 97.927%\n"
     ]
    },
    {
     "name": "stdout",
     "output_type": "stream",
     "text": [
      "Epoch  29/150 - Train accuracy: 96.948% - Test accuracy: 97.997%\n"
     ]
    },
    {
     "name": "stdout",
     "output_type": "stream",
     "text": [
      "Epoch  30/150 - Train accuracy: 97.138% - Test accuracy: 98.017%\n"
     ]
    },
    {
     "name": "stdout",
     "output_type": "stream",
     "text": [
      "Epoch  31/150 - Train accuracy: 97.118% - Test accuracy: 98.017%\n"
     ]
    },
    {
     "name": "stdout",
     "output_type": "stream",
     "text": [
      "Epoch  32/150 - Train accuracy: 97.130% - Test accuracy: 98.087%\n"
     ]
    },
    {
     "name": "stdout",
     "output_type": "stream",
     "text": [
      "Epoch  33/150 - Train accuracy: 97.237% - Test accuracy: 98.027%\n"
     ]
    },
    {
     "name": "stdout",
     "output_type": "stream",
     "text": [
      "Epoch  34/150 - Train accuracy: 97.204% - Test accuracy: 98.157%\n"
     ]
    },
    {
     "name": "stdout",
     "output_type": "stream",
     "text": [
      "Epoch  35/150 - Train accuracy: 97.330% - Test accuracy: 98.167%\n"
     ]
    },
    {
     "name": "stdout",
     "output_type": "stream",
     "text": [
      "Epoch  36/150 - Train accuracy: 97.465% - Test accuracy: 98.297%\n",
      "----------------------------------------------------------------\n",
      "Reducing learning rate on plateau at epoch 36\n",
      "----------------------------------------------------------------\n"
     ]
    },
    {
     "name": "stdout",
     "output_type": "stream",
     "text": [
      "Epoch  37/150 - Train accuracy: 97.442% - Test accuracy: 98.207%\n"
     ]
    },
    {
     "name": "stdout",
     "output_type": "stream",
     "text": [
      "Epoch  38/150 - Train accuracy: 97.407% - Test accuracy: 98.247%\n"
     ]
    },
    {
     "name": "stdout",
     "output_type": "stream",
     "text": [
      "Epoch  39/150 - Train accuracy: 97.354% - Test accuracy: 98.227%\n"
     ]
    },
    {
     "name": "stdout",
     "output_type": "stream",
     "text": [
      "Epoch  40/150 - Train accuracy: 97.389% - Test accuracy: 98.217%\n"
     ]
    },
    {
     "name": "stdout",
     "output_type": "stream",
     "text": [
      "Epoch  41/150 - Train accuracy: 97.379% - Test accuracy: 98.197%\n"
     ]
    },
    {
     "name": "stdout",
     "output_type": "stream",
     "text": [
      "Epoch  42/150 - Train accuracy: 97.572% - Test accuracy: 98.197%\n"
     ]
    },
    {
     "name": "stdout",
     "output_type": "stream",
     "text": [
      "Epoch  43/150 - Train accuracy: 97.467% - Test accuracy: 98.207%\n"
     ]
    },
    {
     "name": "stdout",
     "output_type": "stream",
     "text": [
      "Epoch  44/150 - Train accuracy: 97.547% - Test accuracy: 98.237%\n"
     ]
    },
    {
     "name": "stdout",
     "output_type": "stream",
     "text": [
      "Epoch  45/150 - Train accuracy: 97.480% - Test accuracy: 98.227%\n"
     ]
    },
    {
     "name": "stdout",
     "output_type": "stream",
     "text": [
      "Epoch  46/150 - Train accuracy: 97.510% - Test accuracy: 98.247%\n"
     ]
    },
    {
     "name": "stdout",
     "output_type": "stream",
     "text": [
      "Epoch  47/150 - Train accuracy: 97.595% - Test accuracy: 98.197%\n"
     ]
    },
    {
     "name": "stdout",
     "output_type": "stream",
     "text": [
      "Epoch  48/150 - Train accuracy: 97.575% - Test accuracy: 98.247%\n"
     ]
    },
    {
     "name": "stdout",
     "output_type": "stream",
     "text": [
      "Epoch  49/150 - Train accuracy: 97.525% - Test accuracy: 98.227%\n"
     ]
    },
    {
     "name": "stdout",
     "output_type": "stream",
     "text": [
      "Epoch  50/150 - Train accuracy: 97.587% - Test accuracy: 98.267%\n"
     ]
    },
    {
     "name": "stdout",
     "output_type": "stream",
     "text": [
      "Epoch  51/150 - Train accuracy: 97.574% - Test accuracy: 98.337%\n",
      "----------------------------------------------------------------\n",
      "Reducing learning rate on plateau at epoch 51\n",
      "----------------------------------------------------------------\n"
     ]
    },
    {
     "name": "stdout",
     "output_type": "stream",
     "text": [
      "Epoch  52/150 - Train accuracy: 97.539% - Test accuracy: 98.277%\n"
     ]
    },
    {
     "name": "stdout",
     "output_type": "stream",
     "text": [
      "Epoch  53/150 - Train accuracy: 97.500% - Test accuracy: 98.257%\n"
     ]
    },
    {
     "name": "stdout",
     "output_type": "stream",
     "text": [
      "Epoch  54/150 - Train accuracy: 97.640% - Test accuracy: 98.287%\n"
     ]
    },
    {
     "name": "stdout",
     "output_type": "stream",
     "text": [
      "Epoch  55/150 - Train accuracy: 97.612% - Test accuracy: 98.277%\n"
     ]
    },
    {
     "name": "stdout",
     "output_type": "stream",
     "text": [
      "Epoch  56/150 - Train accuracy: 97.619% - Test accuracy: 98.287%\n"
     ]
    },
    {
     "name": "stdout",
     "output_type": "stream",
     "text": [
      "Epoch  57/150 - Train accuracy: 97.669% - Test accuracy: 98.277%\n"
     ]
    },
    {
     "name": "stdout",
     "output_type": "stream",
     "text": [
      "Epoch  58/150 - Train accuracy: 97.594% - Test accuracy: 98.337%\n"
     ]
    },
    {
     "name": "stdout",
     "output_type": "stream",
     "text": [
      "Epoch  59/150 - Train accuracy: 97.600% - Test accuracy: 98.297%\n"
     ]
    },
    {
     "name": "stdout",
     "output_type": "stream",
     "text": [
      "Epoch  60/150 - Train accuracy: 97.590% - Test accuracy: 98.297%\n"
     ]
    },
    {
     "name": "stdout",
     "output_type": "stream",
     "text": [
      "Epoch  61/150 - Train accuracy: 97.599% - Test accuracy: 98.297%\n"
     ]
    },
    {
     "name": "stdout",
     "output_type": "stream",
     "text": [
      "Epoch  62/150 - Train accuracy: 97.634% - Test accuracy: 98.307%\n"
     ]
    },
    {
     "name": "stdout",
     "output_type": "stream",
     "text": [
      "Epoch  63/150 - Train accuracy: 97.645% - Test accuracy: 98.297%\n"
     ]
    },
    {
     "name": "stdout",
     "output_type": "stream",
     "text": [
      "Epoch  64/150 - Train accuracy: 97.664% - Test accuracy: 98.297%\n"
     ]
    },
    {
     "name": "stdout",
     "output_type": "stream",
     "text": [
      "Epoch  65/150 - Train accuracy: 97.670% - Test accuracy: 98.297%\n",
      "----------------------------------------------------------------\n",
      "Early stopping at epoch 65\n",
      "----------------------------------------------------------------\n",
      "----------------------------------------------------------------\n",
      "Running experiment with seed 51...\n"
     ]
    },
    {
     "name": "stdout",
     "output_type": "stream",
     "text": [
      "Epoch   1/150 - Train accuracy: 10.344% - Test accuracy: 10.096%\n"
     ]
    },
    {
     "name": "stdout",
     "output_type": "stream",
     "text": [
      "Epoch   2/150 - Train accuracy: 61.016% - Test accuracy: 88.822%\n"
     ]
    },
    {
     "name": "stdout",
     "output_type": "stream",
     "text": [
      "Epoch   3/150 - Train accuracy: 83.244% - Test accuracy: 91.857%\n"
     ]
    },
    {
     "name": "stdout",
     "output_type": "stream",
     "text": [
      "Epoch   4/150 - Train accuracy: 86.326% - Test accuracy: 92.969%\n"
     ]
    },
    {
     "name": "stdout",
     "output_type": "stream",
     "text": [
      "Epoch   5/150 - Train accuracy: 88.059% - Test accuracy: 94.241%\n"
     ]
    },
    {
     "name": "stdout",
     "output_type": "stream",
     "text": [
      "Epoch   6/150 - Train accuracy: 90.630% - Test accuracy: 94.952%\n"
     ]
    },
    {
     "name": "stdout",
     "output_type": "stream",
     "text": [
      "Epoch   7/150 - Train accuracy: 91.477% - Test accuracy: 95.483%\n"
     ]
    },
    {
     "name": "stdout",
     "output_type": "stream",
     "text": [
      "Epoch   8/150 - Train accuracy: 92.693% - Test accuracy: 95.903%\n"
     ]
    },
    {
     "name": "stdout",
     "output_type": "stream",
     "text": [
      "Epoch   9/150 - Train accuracy: 93.607% - Test accuracy: 96.304%\n"
     ]
    },
    {
     "name": "stdout",
     "output_type": "stream",
     "text": [
      "Epoch  10/150 - Train accuracy: 93.957% - Test accuracy: 96.635%\n"
     ]
    },
    {
     "name": "stdout",
     "output_type": "stream",
     "text": [
      "Epoch  11/150 - Train accuracy: 94.510% - Test accuracy: 96.855%\n"
     ]
    },
    {
     "name": "stdout",
     "output_type": "stream",
     "text": [
      "Epoch  12/150 - Train accuracy: 94.634% - Test accuracy: 96.975%\n"
     ]
    },
    {
     "name": "stdout",
     "output_type": "stream",
     "text": [
      "Epoch  13/150 - Train accuracy: 95.057% - Test accuracy: 97.145%\n"
     ]
    },
    {
     "name": "stdout",
     "output_type": "stream",
     "text": [
      "Epoch  14/150 - Train accuracy: 95.324% - Test accuracy: 97.266%\n"
     ]
    },
    {
     "name": "stdout",
     "output_type": "stream",
     "text": [
      "Epoch  15/150 - Train accuracy: 95.433% - Test accuracy: 97.175%\n"
     ]
    },
    {
     "name": "stdout",
     "output_type": "stream",
     "text": [
      "Epoch  16/150 - Train accuracy: 95.609% - Test accuracy: 97.336%\n"
     ]
    },
    {
     "name": "stdout",
     "output_type": "stream",
     "text": [
      "Epoch  17/150 - Train accuracy: 95.759% - Test accuracy: 97.516%\n"
     ]
    },
    {
     "name": "stdout",
     "output_type": "stream",
     "text": [
      "Epoch  18/150 - Train accuracy: 95.901% - Test accuracy: 97.626%\n"
     ]
    },
    {
     "name": "stdout",
     "output_type": "stream",
     "text": [
      "Epoch  19/150 - Train accuracy: 96.036% - Test accuracy: 97.606%\n"
     ]
    },
    {
     "name": "stdout",
     "output_type": "stream",
     "text": [
      "Epoch  20/150 - Train accuracy: 96.250% - Test accuracy: 97.666%\n"
     ]
    },
    {
     "name": "stdout",
     "output_type": "stream",
     "text": [
      "Epoch  21/150 - Train accuracy: 96.456% - Test accuracy: 97.706%\n"
     ]
    },
    {
     "name": "stdout",
     "output_type": "stream",
     "text": [
      "Epoch  22/150 - Train accuracy: 96.511% - Test accuracy: 97.766%\n"
     ]
    },
    {
     "name": "stdout",
     "output_type": "stream",
     "text": [
      "Epoch  23/150 - Train accuracy: 96.540% - Test accuracy: 97.857%\n"
     ]
    },
    {
     "name": "stdout",
     "output_type": "stream",
     "text": [
      "Epoch  24/150 - Train accuracy: 96.623% - Test accuracy: 97.857%\n"
     ]
    },
    {
     "name": "stdout",
     "output_type": "stream",
     "text": [
      "Epoch  25/150 - Train accuracy: 96.660% - Test accuracy: 97.837%\n"
     ]
    },
    {
     "name": "stdout",
     "output_type": "stream",
     "text": [
      "Epoch  26/150 - Train accuracy: 96.717% - Test accuracy: 97.987%\n"
     ]
    },
    {
     "name": "stdout",
     "output_type": "stream",
     "text": [
      "Epoch  27/150 - Train accuracy: 96.855% - Test accuracy: 97.957%\n"
     ]
    },
    {
     "name": "stdout",
     "output_type": "stream",
     "text": [
      "Epoch  28/150 - Train accuracy: 96.907% - Test accuracy: 97.937%\n"
     ]
    },
    {
     "name": "stdout",
     "output_type": "stream",
     "text": [
      "Epoch  29/150 - Train accuracy: 96.902% - Test accuracy: 98.017%\n"
     ]
    },
    {
     "name": "stdout",
     "output_type": "stream",
     "text": [
      "Epoch  30/150 - Train accuracy: 97.022% - Test accuracy: 98.027%\n"
     ]
    },
    {
     "name": "stdout",
     "output_type": "stream",
     "text": [
      "Epoch  31/150 - Train accuracy: 97.010% - Test accuracy: 98.067%\n"
     ]
    },
    {
     "name": "stdout",
     "output_type": "stream",
     "text": [
      "Epoch  32/150 - Train accuracy: 97.240% - Test accuracy: 97.987%\n"
     ]
    },
    {
     "name": "stdout",
     "output_type": "stream",
     "text": [
      "Epoch  33/150 - Train accuracy: 97.167% - Test accuracy: 98.157%\n"
     ]
    },
    {
     "name": "stdout",
     "output_type": "stream",
     "text": [
      "Epoch  34/150 - Train accuracy: 97.199% - Test accuracy: 98.047%\n"
     ]
    },
    {
     "name": "stdout",
     "output_type": "stream",
     "text": [
      "Epoch  35/150 - Train accuracy: 97.287% - Test accuracy: 98.177%\n",
      "----------------------------------------------------------------\n",
      "Reducing learning rate on plateau at epoch 35\n",
      "----------------------------------------------------------------\n"
     ]
    },
    {
     "name": "stdout",
     "output_type": "stream",
     "text": [
      "Epoch  36/150 - Train accuracy: 97.340% - Test accuracy: 98.117%\n"
     ]
    },
    {
     "name": "stdout",
     "output_type": "stream",
     "text": [
      "Epoch  37/150 - Train accuracy: 97.357% - Test accuracy: 98.197%\n"
     ]
    },
    {
     "name": "stdout",
     "output_type": "stream",
     "text": [
      "Epoch  38/150 - Train accuracy: 97.342% - Test accuracy: 98.167%\n"
     ]
    },
    {
     "name": "stdout",
     "output_type": "stream",
     "text": [
      "Epoch  39/150 - Train accuracy: 97.317% - Test accuracy: 98.187%\n"
     ]
    },
    {
     "name": "stdout",
     "output_type": "stream",
     "text": [
      "Epoch  40/150 - Train accuracy: 97.369% - Test accuracy: 98.187%\n"
     ]
    },
    {
     "name": "stdout",
     "output_type": "stream",
     "text": [
      "Epoch  41/150 - Train accuracy: 97.347% - Test accuracy: 98.197%\n"
     ]
    },
    {
     "name": "stdout",
     "output_type": "stream",
     "text": [
      "Epoch  42/150 - Train accuracy: 97.477% - Test accuracy: 98.227%\n"
     ]
    },
    {
     "name": "stdout",
     "output_type": "stream",
     "text": [
      "Epoch  43/150 - Train accuracy: 97.370% - Test accuracy: 98.147%\n"
     ]
    },
    {
     "name": "stdout",
     "output_type": "stream",
     "text": [
      "Epoch  44/150 - Train accuracy: 97.482% - Test accuracy: 98.217%\n"
     ]
    },
    {
     "name": "stdout",
     "output_type": "stream",
     "text": [
      "Epoch  45/150 - Train accuracy: 97.405% - Test accuracy: 98.237%\n"
     ]
    },
    {
     "name": "stdout",
     "output_type": "stream",
     "text": [
      "Epoch  46/150 - Train accuracy: 97.499% - Test accuracy: 98.197%\n"
     ]
    },
    {
     "name": "stdout",
     "output_type": "stream",
     "text": [
      "Epoch  47/150 - Train accuracy: 97.475% - Test accuracy: 98.227%\n"
     ]
    },
    {
     "name": "stdout",
     "output_type": "stream",
     "text": [
      "Epoch  48/150 - Train accuracy: 97.410% - Test accuracy: 98.207%\n"
     ]
    },
    {
     "name": "stdout",
     "output_type": "stream",
     "text": [
      "Epoch  49/150 - Train accuracy: 97.450% - Test accuracy: 98.267%\n"
     ]
    },
    {
     "name": "stdout",
     "output_type": "stream",
     "text": [
      "Epoch  50/150 - Train accuracy: 97.509% - Test accuracy: 98.247%\n",
      "----------------------------------------------------------------\n",
      "Reducing learning rate on plateau at epoch 50\n",
      "----------------------------------------------------------------\n"
     ]
    },
    {
     "name": "stdout",
     "output_type": "stream",
     "text": [
      "Epoch  51/150 - Train accuracy: 97.477% - Test accuracy: 98.227%\n"
     ]
    },
    {
     "name": "stdout",
     "output_type": "stream",
     "text": [
      "Epoch  52/150 - Train accuracy: 97.594% - Test accuracy: 98.237%\n"
     ]
    },
    {
     "name": "stdout",
     "output_type": "stream",
     "text": [
      "Epoch  53/150 - Train accuracy: 97.619% - Test accuracy: 98.207%\n"
     ]
    },
    {
     "name": "stdout",
     "output_type": "stream",
     "text": [
      "Epoch  54/150 - Train accuracy: 97.402% - Test accuracy: 98.257%\n"
     ]
    },
    {
     "name": "stdout",
     "output_type": "stream",
     "text": [
      "Epoch  55/150 - Train accuracy: 97.575% - Test accuracy: 98.247%\n"
     ]
    },
    {
     "name": "stdout",
     "output_type": "stream",
     "text": [
      "Epoch  56/150 - Train accuracy: 97.470% - Test accuracy: 98.237%\n"
     ]
    },
    {
     "name": "stdout",
     "output_type": "stream",
     "text": [
      "Epoch  57/150 - Train accuracy: 97.517% - Test accuracy: 98.227%\n"
     ]
    },
    {
     "name": "stdout",
     "output_type": "stream",
     "text": [
      "Epoch  58/150 - Train accuracy: 97.584% - Test accuracy: 98.207%\n"
     ]
    },
    {
     "name": "stdout",
     "output_type": "stream",
     "text": [
      "Epoch  59/150 - Train accuracy: 97.560% - Test accuracy: 98.237%\n"
     ]
    },
    {
     "name": "stdout",
     "output_type": "stream",
     "text": [
      "Epoch  60/150 - Train accuracy: 97.497% - Test accuracy: 98.227%\n"
     ]
    },
    {
     "name": "stdout",
     "output_type": "stream",
     "text": [
      "Epoch  61/150 - Train accuracy: 97.512% - Test accuracy: 98.207%\n"
     ]
    },
    {
     "name": "stdout",
     "output_type": "stream",
     "text": [
      "Epoch  62/150 - Train accuracy: 97.469% - Test accuracy: 98.227%\n"
     ]
    },
    {
     "name": "stdout",
     "output_type": "stream",
     "text": [
      "Epoch  63/150 - Train accuracy: 97.564% - Test accuracy: 98.237%\n"
     ]
    },
    {
     "name": "stdout",
     "output_type": "stream",
     "text": [
      "Epoch  64/150 - Train accuracy: 97.625% - Test accuracy: 98.247%\n"
     ]
    },
    {
     "name": "stdout",
     "output_type": "stream",
     "text": [
      "Epoch  65/150 - Train accuracy: 97.585% - Test accuracy: 98.217%\n",
      "----------------------------------------------------------------\n",
      "Early stopping at epoch 65\n",
      "----------------------------------------------------------------\n"
     ]
    }
   ],
   "source": [
    "N_EXPERIMENTS = 10\n",
    "for i in range(N_EXPERIMENTS):\n",
    "    run_experiment(config)\n",
    "    config[\"seed\"] += 1"
   ]
  },
  {
   "cell_type": "markdown",
   "id": "a2c2e9a81e8f2a4f",
   "metadata": {},
   "source": [
    "## Aggregated results"
   ]
  },
  {
   "cell_type": "code",
   "execution_count": 14,
   "id": "b3c9022e5a0a5b7a",
   "metadata": {
    "ExecuteTime": {
     "end_time": "2024-05-15T12:31:50.017488Z",
     "start_time": "2024-05-15T12:31:49.999311Z"
    },
    "execution": {
     "iopub.execute_input": "2024-05-17T17:23:17.685401Z",
     "iopub.status.busy": "2024-05-17T17:23:17.684511Z",
     "iopub.status.idle": "2024-05-17T17:23:17.688136Z",
     "shell.execute_reply": "2024-05-17T17:23:17.687454Z"
    }
   },
   "outputs": [],
   "source": [
    "with open('results.csv', mode='r') as file:\n",
    "    results = np.array(list(csv.reader(file)), dtype=np.float32)"
   ]
  },
  {
   "cell_type": "code",
   "execution_count": 15,
   "id": "b87694d71ae859d1",
   "metadata": {
    "ExecuteTime": {
     "end_time": "2024-05-15T12:31:50.023015Z",
     "start_time": "2024-05-15T12:31:50.018601Z"
    },
    "execution": {
     "iopub.execute_input": "2024-05-17T17:23:17.690293Z",
     "iopub.status.busy": "2024-05-17T17:23:17.689846Z",
     "iopub.status.idle": "2024-05-17T17:23:17.693511Z",
     "shell.execute_reply": "2024-05-17T17:23:17.692899Z"
    }
   },
   "outputs": [],
   "source": [
    "# Compute mean and standard deviation\n",
    "mean_train_acc = np.mean(results[:,1])\n",
    "std_train_acc = np.std(results[:,1])\n",
    "mean_test_acc = np.mean(results[:,2])\n",
    "std_test_acc = np.std(results[:,2])"
   ]
  },
  {
   "cell_type": "code",
   "execution_count": 16,
   "id": "5f60c5c5cbdedb8e",
   "metadata": {
    "ExecuteTime": {
     "end_time": "2024-05-15T12:31:50.029034Z",
     "start_time": "2024-05-15T12:31:50.024135Z"
    },
    "execution": {
     "iopub.execute_input": "2024-05-17T17:23:17.695288Z",
     "iopub.status.busy": "2024-05-17T17:23:17.695042Z",
     "iopub.status.idle": "2024-05-17T17:23:17.698356Z",
     "shell.execute_reply": "2024-05-17T17:23:17.697720Z"
    }
   },
   "outputs": [
    {
     "name": "stdout",
     "output_type": "stream",
     "text": [
      "Mean results with 95% confidence interval:\n",
      "- Train accuracy: 97.51% ± 0.18%\n",
      "-  Test accuracy: 98.28% ± 0.08%\n"
     ]
    }
   ],
   "source": [
    "print(\"Mean results with 95% confidence interval:\")\n",
    "print(f\"- Train accuracy: {mean_train_acc:.2%} ± {std_train_acc * 2:.2%}\")\n",
    "print(f\"-  Test accuracy: {mean_test_acc:.2%} ± {std_test_acc * 2:.2%}\")"
   ]
  }
 ],
 "metadata": {
  "kernelspec": {
   "display_name": "Python 3",
   "language": "python",
   "name": "python3"
  },
  "language_info": {
   "codemirror_mode": {
    "name": "ipython",
    "version": 3
   },
   "file_extension": ".py",
   "mimetype": "text/x-python",
   "name": "python",
   "nbconvert_exporter": "python",
   "pygments_lexer": "ipython3",
   "version": "3.11.0rc1"
  }
 },
 "nbformat": 4,
 "nbformat_minor": 5
}
