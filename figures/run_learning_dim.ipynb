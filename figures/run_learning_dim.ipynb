{
 "cells": [
  {
   "cell_type": "code",
   "execution_count": 1,
   "id": "1ea662a0",
   "metadata": {
    "execution": {
     "iopub.execute_input": "2024-05-21T13:45:55.285689Z",
     "iopub.status.busy": "2024-05-21T13:45:55.285144Z",
     "iopub.status.idle": "2024-05-21T13:45:55.620614Z",
     "shell.execute_reply": "2024-05-21T13:45:55.619355Z"
    }
   },
   "outputs": [],
   "source": [
    "import numpy as np\n",
    "import cupy as cp\n",
    "import pathlib\n",
    "import csv\n",
    "import sys"
   ]
  },
  {
   "cell_type": "code",
   "execution_count": 2,
   "id": "049f9f15",
   "metadata": {
    "execution": {
     "iopub.execute_input": "2024-05-21T13:45:55.626358Z",
     "iopub.status.busy": "2024-05-21T13:45:55.626088Z",
     "iopub.status.idle": "2024-05-21T13:45:55.632104Z",
     "shell.execute_reply": "2024-05-21T13:45:55.630670Z"
    }
   },
   "outputs": [],
   "source": [
    "sys.path.append(str(pathlib.Path('../').resolve()))"
   ]
  },
  {
   "cell_type": "code",
   "execution_count": 3,
   "id": "7654aa0c",
   "metadata": {
    "execution": {
     "iopub.execute_input": "2024-05-21T13:45:55.637184Z",
     "iopub.status.busy": "2024-05-21T13:45:55.636968Z",
     "iopub.status.idle": "2024-05-21T13:45:58.220018Z",
     "shell.execute_reply": "2024-05-21T13:45:58.218481Z"
    }
   },
   "outputs": [],
   "source": [
    "from lib.experiments import train_test_experiment, build_CNN, build_augmentation_pipeline\n",
    "from lib.utils.enums import NonLinearity, Initialization, Dataset, OptimizerName\n",
    "from lib.utils.data import load_integer_dataset\n",
    "from lib.utils.misc import to_cpu"
   ]
  },
  {
   "cell_type": "markdown",
   "id": "2ada0ac9",
   "metadata": {},
   "source": [
    "## Experiments config"
   ]
  },
  {
   "cell_type": "code",
   "execution_count": 4,
   "id": "342ed6c6",
   "metadata": {
    "execution": {
     "iopub.execute_input": "2024-05-21T13:45:58.225663Z",
     "iopub.status.busy": "2024-05-21T13:45:58.225370Z",
     "iopub.status.idle": "2024-05-21T13:45:58.232191Z",
     "shell.execute_reply": "2024-05-21T13:45:58.230791Z"
    }
   },
   "outputs": [],
   "source": [
    "architecture = [\n",
    "    ('Conv2d', 128, 3, 1, 1),\n",
    "    ('Conv2d', 256, 3, 1, 1),\n",
    "    ('MaxPool2d', 2, 2),\n",
    "    ('Conv2d', 256, 3, 1, 1),\n",
    "    ('Conv2d', 512, 3, 1, 1),\n",
    "    ('MaxPool2d', 2, 2),\n",
    "    ('Conv2d', 512, 3, 1, 1),\n",
    "    ('MaxPool2d', 2, 2),\n",
    "    ('Conv2d', 512, 3, 1, 1),\n",
    "    ('MaxPool2d', 2, 2),\n",
    "]\n",
    "num_fc_layers = 2\n",
    "num_fc_hidden = [1024]"
   ]
  },
  {
   "cell_type": "code",
   "execution_count": 5,
   "id": "7dce7458",
   "metadata": {
    "execution": {
     "iopub.execute_input": "2024-05-21T13:45:58.236966Z",
     "iopub.status.busy": "2024-05-21T13:45:58.236748Z",
     "iopub.status.idle": "2024-05-21T13:45:58.242187Z",
     "shell.execute_reply": "2024-05-21T13:45:58.240717Z"
    }
   },
   "outputs": [],
   "source": [
    "dataset_config = dict(\n",
    "    dataset=Dataset.CIFAR10.name,\n",
    "    subsample_ratio=1,\n",
    "    ohe_values=(0, 32),\n",
    "    data_augmentation=False,\n",
    "    normalize=True,\n",
    ")"
   ]
  },
  {
   "cell_type": "code",
   "execution_count": 6,
   "id": "ee2102b5",
   "metadata": {
    "execution": {
     "iopub.execute_input": "2024-05-21T13:45:58.247292Z",
     "iopub.status.busy": "2024-05-21T13:45:58.247052Z",
     "iopub.status.idle": "2024-05-21T13:45:58.253486Z",
     "shell.execute_reply": "2024-05-21T13:45:58.252122Z"
    }
   },
   "outputs": [],
   "source": [
    "network_config = dict(\n",
    "    architecture=architecture,\n",
    "    num_fc_layers=num_fc_layers,\n",
    "    num_fc_hidden=num_fc_hidden,\n",
    "    non_linearity=NonLinearity.NITRO_LEAKY_RELU.name,\n",
    "    init=Initialization.UNIFORM_KAIMING_LEAKY_RELU.name,\n",
    "    pred_decoder_dim=None,\n",
    "    fe_dropout_rate=0.0,\n",
    "    fc_dropout_rate=0.0,\n",
    "    seed=42,\n",
    "    dtype='int32',\n",
    "    device='cuda',\n",
    "    local_loss='pred',\n",
    "    pooling_type='max',\n",
    "    bias=False,\n",
    "    debug=False,\n",
    ")"
   ]
  },
  {
   "cell_type": "code",
   "execution_count": 7,
   "id": "7e766cce",
   "metadata": {
    "execution": {
     "iopub.execute_input": "2024-05-21T13:45:58.258721Z",
     "iopub.status.busy": "2024-05-21T13:45:58.258415Z",
     "iopub.status.idle": "2024-05-21T13:45:58.265608Z",
     "shell.execute_reply": "2024-05-21T13:45:58.263800Z"
    }
   },
   "outputs": [],
   "source": [
    "training_config = dict(\n",
    "    batch_size=64,\n",
    "    num_epochs=50,\n",
    "    lr_inv=512,\n",
    "    lr_amp_factor=640,\n",
    "    fwd_decay_inv=0,\n",
    "    subnet_decay_inv=0,\n",
    "    optimizer=OptimizerName.INTEGER_SGD.name,\n",
    ")"
   ]
  },
  {
   "cell_type": "code",
   "execution_count": 8,
   "id": "c07e4f6a",
   "metadata": {
    "execution": {
     "iopub.execute_input": "2024-05-21T13:45:58.271611Z",
     "iopub.status.busy": "2024-05-21T13:45:58.271066Z",
     "iopub.status.idle": "2024-05-21T13:45:58.277875Z",
     "shell.execute_reply": "2024-05-21T13:45:58.276380Z"
    }
   },
   "outputs": [],
   "source": [
    "config = dataset_config | network_config | training_config"
   ]
  },
  {
   "cell_type": "code",
   "execution_count": 9,
   "id": "9b131778",
   "metadata": {
    "execution": {
     "iopub.execute_input": "2024-05-21T13:45:58.284279Z",
     "iopub.status.busy": "2024-05-21T13:45:58.283755Z",
     "iopub.status.idle": "2024-05-21T13:45:58.299619Z",
     "shell.execute_reply": "2024-05-21T13:45:58.297870Z"
    }
   },
   "outputs": [],
   "source": [
    "def run_experiment(exp_config):\n",
    "    print(f\"{'-' * 64}\")\n",
    "    print(f\"Running experiment with learning_dim = {exp_config['pred_decoder_dim']}\")\n",
    "    # Setup reproducibility\n",
    "    np.random.seed(exp_config[\"seed\"])\n",
    "    cp.random.seed(exp_config[\"seed\"])\n",
    "    \n",
    "    # Load the dataset\n",
    "    data = load_integer_dataset(exp_config, ohe_values=exp_config[\"ohe_values\"], val_dim=0, show_images=False, show_log=False, data_path='../.data')\n",
    "    X_tr, _, X_test, y_tr, _, y_test = data\n",
    "\n",
    "    # Setup data augmentation\n",
    "    augmentation_pipeline = build_augmentation_pipeline(exp_config)\n",
    "\n",
    "    # Build and train the model\n",
    "    m = build_CNN(exp_config, X_tr=X_tr, y_tr=y_tr)    \n",
    "    best_train_acc, best_test_acc = train_test_experiment(\n",
    "        m, exp_config, X_tr=X_tr, X_te=X_test, y_tr=y_tr, y_te=y_test,\n",
    "        augmentation_pipeline=augmentation_pipeline,\n",
    "        show_local_accuracies=False, show_progress_bar=False\n",
    "    )\n",
    "\n",
    "    # Append the results to a CSV file\n",
    "    with open('./learning_dim.csv', mode='a', newline='') as f:\n",
    "        writer = csv.writer(f)\n",
    "        writer.writerow([exp_config[\"pred_decoder_dim\"], best_train_acc, best_test_acc])"
   ]
  },
  {
   "cell_type": "code",
   "execution_count": 10,
   "id": "7578fb0d",
   "metadata": {
    "execution": {
     "iopub.execute_input": "2024-05-21T13:45:58.305806Z",
     "iopub.status.busy": "2024-05-21T13:45:58.305285Z",
     "iopub.status.idle": "2024-05-21T13:45:58.313296Z",
     "shell.execute_reply": "2024-05-21T13:45:58.311523Z"
    }
   },
   "outputs": [],
   "source": [
    "learning_dims = [512, 1024, 2048, 4096, 8192]"
   ]
  },
  {
   "cell_type": "code",
   "execution_count": 11,
   "id": "1e83f6e3",
   "metadata": {
    "execution": {
     "iopub.execute_input": "2024-05-21T13:45:58.319373Z",
     "iopub.status.busy": "2024-05-21T13:45:58.318844Z",
     "iopub.status.idle": "2024-05-21T22:47:07.504208Z",
     "shell.execute_reply": "2024-05-21T22:47:07.502022Z"
    }
   },
   "outputs": [
    {
     "name": "stdout",
     "output_type": "stream",
     "text": [
      "----------------------------------------------------------------\n",
      "Running experiment with learning_dim = 512\n"
     ]
    },
    {
     "name": "stdout",
     "output_type": "stream",
     "text": [
      "Files already downloaded and verified\n"
     ]
    },
    {
     "name": "stdout",
     "output_type": "stream",
     "text": [
      "Files already downloaded and verified\n"
     ]
    },
    {
     "name": "stdout",
     "output_type": "stream",
     "text": [
      "Epoch   1/50  - Train accuracy: 10.059% - Test accuracy: 09.986%\n"
     ]
    },
    {
     "name": "stdout",
     "output_type": "stream",
     "text": [
      "Epoch   2/50  - Train accuracy: 10.141% - Test accuracy: 10.006%\n"
     ]
    },
    {
     "name": "stdout",
     "output_type": "stream",
     "text": [
      "Epoch   3/50  - Train accuracy: 10.083% - Test accuracy: 10.016%\n"
     ]
    },
    {
     "name": "stdout",
     "output_type": "stream",
     "text": [
      "Epoch   4/50  - Train accuracy: 09.855% - Test accuracy: 09.996%\n"
     ]
    },
    {
     "name": "stdout",
     "output_type": "stream",
     "text": [
      "Epoch   5/50  - Train accuracy: 10.171% - Test accuracy: 12.009%\n"
     ]
    },
    {
     "name": "stdout",
     "output_type": "stream",
     "text": [
      "Epoch   6/50  - Train accuracy: 10.699% - Test accuracy: 17.228%\n"
     ]
    },
    {
     "name": "stdout",
     "output_type": "stream",
     "text": [
      "Epoch   7/50  - Train accuracy: 14.661% - Test accuracy: 18.770%\n"
     ]
    },
    {
     "name": "stdout",
     "output_type": "stream",
     "text": [
      "Epoch   8/50  - Train accuracy: 18.636% - Test accuracy: 19.381%\n"
     ]
    },
    {
     "name": "stdout",
     "output_type": "stream",
     "text": [
      "Epoch   9/50  - Train accuracy: 21.721% - Test accuracy: 27.694%\n"
     ]
    },
    {
     "name": "stdout",
     "output_type": "stream",
     "text": [
      "Epoch  10/50  - Train accuracy: 29.471% - Test accuracy: 35.066%\n"
     ]
    },
    {
     "name": "stdout",
     "output_type": "stream",
     "text": [
      "Epoch  11/50  - Train accuracy: 33.405% - Test accuracy: 35.827%\n"
     ]
    },
    {
     "name": "stdout",
     "output_type": "stream",
     "text": [
      "Epoch  12/50  - Train accuracy: 35.741% - Test accuracy: 37.480%\n"
     ]
    },
    {
     "name": "stdout",
     "output_type": "stream",
     "text": [
      "Epoch  13/50  - Train accuracy: 37.346% - Test accuracy: 38.702%\n"
     ]
    },
    {
     "name": "stdout",
     "output_type": "stream",
     "text": [
      "Epoch  14/50  - Train accuracy: 39.609% - Test accuracy: 41.657%\n"
     ]
    },
    {
     "name": "stdout",
     "output_type": "stream",
     "text": [
      "Epoch  15/50  - Train accuracy: 42.179% - Test accuracy: 45.182%\n"
     ]
    },
    {
     "name": "stdout",
     "output_type": "stream",
     "text": [
      "Epoch  16/50  - Train accuracy: 43.812% - Test accuracy: 45.853%\n"
     ]
    },
    {
     "name": "stdout",
     "output_type": "stream",
     "text": [
      "Epoch  17/50  - Train accuracy: 46.177% - Test accuracy: 48.267%\n"
     ]
    },
    {
     "name": "stdout",
     "output_type": "stream",
     "text": [
      "Epoch  18/50  - Train accuracy: 47.427% - Test accuracy: 49.960%\n"
     ]
    },
    {
     "name": "stdout",
     "output_type": "stream",
     "text": [
      "Epoch  19/50  - Train accuracy: 48.892% - Test accuracy: 48.458%\n"
     ]
    },
    {
     "name": "stdout",
     "output_type": "stream",
     "text": [
      "Epoch  20/50  - Train accuracy: 50.174% - Test accuracy: 48.227%\n"
     ]
    },
    {
     "name": "stdout",
     "output_type": "stream",
     "text": [
      "Epoch  21/50  - Train accuracy: 51.338% - Test accuracy: 54.898%\n"
     ]
    },
    {
     "name": "stdout",
     "output_type": "stream",
     "text": [
      "Epoch  22/50  - Train accuracy: 52.967% - Test accuracy: 54.878%\n"
     ]
    },
    {
     "name": "stdout",
     "output_type": "stream",
     "text": [
      "Epoch  23/50  - Train accuracy: 53.911% - Test accuracy: 56.170%\n"
     ]
    },
    {
     "name": "stdout",
     "output_type": "stream",
     "text": [
      "Epoch  24/50  - Train accuracy: 55.318% - Test accuracy: 57.212%\n"
     ]
    },
    {
     "name": "stdout",
     "output_type": "stream",
     "text": [
      "Epoch  25/50  - Train accuracy: 56.364% - Test accuracy: 56.410%\n"
     ]
    },
    {
     "name": "stdout",
     "output_type": "stream",
     "text": [
      "Epoch  26/50  - Train accuracy: 57.220% - Test accuracy: 59.155%\n"
     ]
    },
    {
     "name": "stdout",
     "output_type": "stream",
     "text": [
      "Epoch  27/50  - Train accuracy: 58.311% - Test accuracy: 57.843%\n"
     ]
    },
    {
     "name": "stdout",
     "output_type": "stream",
     "text": [
      "Epoch  28/50  - Train accuracy: 59.099% - Test accuracy: 59.696%\n"
     ]
    },
    {
     "name": "stdout",
     "output_type": "stream",
     "text": [
      "Epoch  29/50  - Train accuracy: 59.951% - Test accuracy: 56.961%\n"
     ]
    },
    {
     "name": "stdout",
     "output_type": "stream",
     "text": [
      "Epoch  30/50  - Train accuracy: 60.972% - Test accuracy: 59.866%\n"
     ]
    },
    {
     "name": "stdout",
     "output_type": "stream",
     "text": [
      "Epoch  31/50  - Train accuracy: 61.308% - Test accuracy: 61.158%\n"
     ]
    },
    {
     "name": "stdout",
     "output_type": "stream",
     "text": [
      "Epoch  32/50  - Train accuracy: 61.932% - Test accuracy: 57.973%\n"
     ]
    },
    {
     "name": "stdout",
     "output_type": "stream",
     "text": [
      "Epoch  33/50  - Train accuracy: 62.572% - Test accuracy: 63.151%\n"
     ]
    },
    {
     "name": "stdout",
     "output_type": "stream",
     "text": [
      "Epoch  34/50  - Train accuracy: 63.084% - Test accuracy: 64.633%\n"
     ]
    },
    {
     "name": "stdout",
     "output_type": "stream",
     "text": [
      "Epoch  35/50  - Train accuracy: 63.820% - Test accuracy: 66.176%\n"
     ]
    },
    {
     "name": "stdout",
     "output_type": "stream",
     "text": [
      "Epoch  36/50  - Train accuracy: 63.956% - Test accuracy: 64.734%\n"
     ]
    },
    {
     "name": "stdout",
     "output_type": "stream",
     "text": [
      "Epoch  37/50  - Train accuracy: 65.065% - Test accuracy: 65.304%\n"
     ]
    },
    {
     "name": "stdout",
     "output_type": "stream",
     "text": [
      "Epoch  38/50  - Train accuracy: 65.503% - Test accuracy: 65.184%\n"
     ]
    },
    {
     "name": "stdout",
     "output_type": "stream",
     "text": [
      "Epoch  39/50  - Train accuracy: 65.621% - Test accuracy: 65.905%\n"
     ]
    },
    {
     "name": "stdout",
     "output_type": "stream",
     "text": [
      "Epoch  40/50  - Train accuracy: 66.525% - Test accuracy: 66.046%\n"
     ]
    },
    {
     "name": "stdout",
     "output_type": "stream",
     "text": [
      "Epoch  41/50  - Train accuracy: 66.787% - Test accuracy: 66.316%\n"
     ]
    },
    {
     "name": "stdout",
     "output_type": "stream",
     "text": [
      "Epoch  42/50  - Train accuracy: 67.432% - Test accuracy: 65.264%\n"
     ]
    },
    {
     "name": "stdout",
     "output_type": "stream",
     "text": [
      "Epoch  43/50  - Train accuracy: 67.822% - Test accuracy: 64.062%\n"
     ]
    },
    {
     "name": "stdout",
     "output_type": "stream",
     "text": [
      "Epoch  44/50  - Train accuracy: 68.276% - Test accuracy: 69.461%\n"
     ]
    },
    {
     "name": "stdout",
     "output_type": "stream",
     "text": [
      "Epoch  45/50  - Train accuracy: 68.636% - Test accuracy: 67.959%\n"
     ]
    },
    {
     "name": "stdout",
     "output_type": "stream",
     "text": [
      "Epoch  46/50  - Train accuracy: 68.866% - Test accuracy: 62.089%\n"
     ]
    },
    {
     "name": "stdout",
     "output_type": "stream",
     "text": [
      "Epoch  47/50  - Train accuracy: 69.112% - Test accuracy: 69.331%\n"
     ]
    },
    {
     "name": "stdout",
     "output_type": "stream",
     "text": [
      "Epoch  48/50  - Train accuracy: 69.690% - Test accuracy: 69.251%\n"
     ]
    },
    {
     "name": "stdout",
     "output_type": "stream",
     "text": [
      "Epoch  49/50  - Train accuracy: 69.888% - Test accuracy: 69.321%\n"
     ]
    },
    {
     "name": "stdout",
     "output_type": "stream",
     "text": [
      "Epoch  50/50  - Train accuracy: 70.138% - Test accuracy: 62.800%\n"
     ]
    },
    {
     "name": "stdout",
     "output_type": "stream",
     "text": [
      "----------------------------------------------------------------\n",
      "Running experiment with learning_dim = 1024\n"
     ]
    },
    {
     "name": "stdout",
     "output_type": "stream",
     "text": [
      "Files already downloaded and verified\n"
     ]
    },
    {
     "name": "stdout",
     "output_type": "stream",
     "text": [
      "Files already downloaded and verified\n"
     ]
    },
    {
     "name": "stdout",
     "output_type": "stream",
     "text": [
      "Epoch   1/50  - Train accuracy: 10.069% - Test accuracy: 09.986%\n"
     ]
    },
    {
     "name": "stdout",
     "output_type": "stream",
     "text": [
      "Epoch   2/50  - Train accuracy: 10.257% - Test accuracy: 10.006%\n"
     ]
    },
    {
     "name": "stdout",
     "output_type": "stream",
     "text": [
      "Epoch   3/50  - Train accuracy: 17.914% - Test accuracy: 18.860%\n"
     ]
    },
    {
     "name": "stdout",
     "output_type": "stream",
     "text": [
      "Epoch   4/50  - Train accuracy: 25.028% - Test accuracy: 29.006%\n"
     ]
    },
    {
     "name": "stdout",
     "output_type": "stream",
     "text": [
      "Epoch   5/50  - Train accuracy: 34.509% - Test accuracy: 37.440%\n"
     ]
    },
    {
     "name": "stdout",
     "output_type": "stream",
     "text": [
      "Epoch   6/50  - Train accuracy: 39.613% - Test accuracy: 40.375%\n"
     ]
    },
    {
     "name": "stdout",
     "output_type": "stream",
     "text": [
      "Epoch   7/50  - Train accuracy: 44.408% - Test accuracy: 45.383%\n"
     ]
    },
    {
     "name": "stdout",
     "output_type": "stream",
     "text": [
      "Epoch   8/50  - Train accuracy: 47.819% - Test accuracy: 51.472%\n"
     ]
    },
    {
     "name": "stdout",
     "output_type": "stream",
     "text": [
      "Epoch   9/50  - Train accuracy: 50.490% - Test accuracy: 49.279%\n"
     ]
    },
    {
     "name": "stdout",
     "output_type": "stream",
     "text": [
      "Epoch  10/50  - Train accuracy: 52.777% - Test accuracy: 51.903%\n"
     ]
    },
    {
     "name": "stdout",
     "output_type": "stream",
     "text": [
      "Epoch  11/50  - Train accuracy: 54.708% - Test accuracy: 55.879%\n"
     ]
    },
    {
     "name": "stdout",
     "output_type": "stream",
     "text": [
      "Epoch  12/50  - Train accuracy: 57.072% - Test accuracy: 56.490%\n"
     ]
    },
    {
     "name": "stdout",
     "output_type": "stream",
     "text": [
      "Epoch  13/50  - Train accuracy: 58.789% - Test accuracy: 58.814%\n"
     ]
    },
    {
     "name": "stdout",
     "output_type": "stream",
     "text": [
      "Epoch  14/50  - Train accuracy: 60.183% - Test accuracy: 61.208%\n"
     ]
    },
    {
     "name": "stdout",
     "output_type": "stream",
     "text": [
      "Epoch  15/50  - Train accuracy: 61.580% - Test accuracy: 63.472%\n"
     ]
    },
    {
     "name": "stdout",
     "output_type": "stream",
     "text": [
      "Epoch  16/50  - Train accuracy: 62.930% - Test accuracy: 61.528%\n"
     ]
    },
    {
     "name": "stdout",
     "output_type": "stream",
     "text": [
      "Epoch  17/50  - Train accuracy: 63.866% - Test accuracy: 65.375%\n"
     ]
    },
    {
     "name": "stdout",
     "output_type": "stream",
     "text": [
      "Epoch  18/50  - Train accuracy: 65.345% - Test accuracy: 66.016%\n"
     ]
    },
    {
     "name": "stdout",
     "output_type": "stream",
     "text": [
      "Epoch  19/50  - Train accuracy: 66.043% - Test accuracy: 62.670%\n"
     ]
    },
    {
     "name": "stdout",
     "output_type": "stream",
     "text": [
      "Epoch  20/50  - Train accuracy: 67.015% - Test accuracy: 67.188%\n"
     ]
    },
    {
     "name": "stdout",
     "output_type": "stream",
     "text": [
      "Epoch  21/50  - Train accuracy: 67.584% - Test accuracy: 68.670%\n"
     ]
    },
    {
     "name": "stdout",
     "output_type": "stream",
     "text": [
      "Epoch  22/50  - Train accuracy: 68.676% - Test accuracy: 68.219%\n"
     ]
    },
    {
     "name": "stdout",
     "output_type": "stream",
     "text": [
      "Epoch  23/50  - Train accuracy: 69.336% - Test accuracy: 69.341%\n"
     ]
    },
    {
     "name": "stdout",
     "output_type": "stream",
     "text": [
      "Epoch  24/50  - Train accuracy: 70.032% - Test accuracy: 68.019%\n"
     ]
    },
    {
     "name": "stdout",
     "output_type": "stream",
     "text": [
      "Epoch  25/50  - Train accuracy: 70.485% - Test accuracy: 69.411%\n"
     ]
    },
    {
     "name": "stdout",
     "output_type": "stream",
     "text": [
      "Epoch  26/50  - Train accuracy: 71.329% - Test accuracy: 70.974%\n"
     ]
    },
    {
     "name": "stdout",
     "output_type": "stream",
     "text": [
      "Epoch  27/50  - Train accuracy: 71.707% - Test accuracy: 70.823%\n"
     ]
    },
    {
     "name": "stdout",
     "output_type": "stream",
     "text": [
      "Epoch  28/50  - Train accuracy: 72.569% - Test accuracy: 72.216%\n"
     ]
    },
    {
     "name": "stdout",
     "output_type": "stream",
     "text": [
      "Epoch  29/50  - Train accuracy: 72.909% - Test accuracy: 68.189%\n"
     ]
    },
    {
     "name": "stdout",
     "output_type": "stream",
     "text": [
      "Epoch  30/50  - Train accuracy: 73.095% - Test accuracy: 72.676%\n"
     ]
    },
    {
     "name": "stdout",
     "output_type": "stream",
     "text": [
      "Epoch  31/50  - Train accuracy: 74.098% - Test accuracy: 70.343%\n"
     ]
    },
    {
     "name": "stdout",
     "output_type": "stream",
     "text": [
      "Epoch  32/50  - Train accuracy: 74.244% - Test accuracy: 68.079%\n"
     ]
    },
    {
     "name": "stdout",
     "output_type": "stream",
     "text": [
      "Epoch  33/50  - Train accuracy: 74.676% - Test accuracy: 72.716%\n"
     ]
    },
    {
     "name": "stdout",
     "output_type": "stream",
     "text": [
      "Epoch  34/50  - Train accuracy: 75.464% - Test accuracy: 73.498%\n"
     ]
    },
    {
     "name": "stdout",
     "output_type": "stream",
     "text": [
      "Epoch  35/50  - Train accuracy: 75.472% - Test accuracy: 73.227%\n"
     ]
    },
    {
     "name": "stdout",
     "output_type": "stream",
     "text": [
      "Epoch  36/50  - Train accuracy: 75.962% - Test accuracy: 74.339%\n"
     ]
    },
    {
     "name": "stdout",
     "output_type": "stream",
     "text": [
      "Epoch  37/50  - Train accuracy: 76.769% - Test accuracy: 74.900%\n"
     ]
    },
    {
     "name": "stdout",
     "output_type": "stream",
     "text": [
      "Epoch  38/50  - Train accuracy: 76.931% - Test accuracy: 75.220%\n"
     ]
    },
    {
     "name": "stdout",
     "output_type": "stream",
     "text": [
      "Epoch  39/50  - Train accuracy: 77.165% - Test accuracy: 74.499%\n"
     ]
    },
    {
     "name": "stdout",
     "output_type": "stream",
     "text": [
      "Epoch  40/50  - Train accuracy: 77.893% - Test accuracy: 75.160%\n"
     ]
    },
    {
     "name": "stdout",
     "output_type": "stream",
     "text": [
      "Epoch  41/50  - Train accuracy: 78.147% - Test accuracy: 73.878%\n"
     ]
    },
    {
     "name": "stdout",
     "output_type": "stream",
     "text": [
      "Epoch  42/50  - Train accuracy: 78.413% - Test accuracy: 72.817%\n"
     ]
    },
    {
     "name": "stdout",
     "output_type": "stream",
     "text": [
      "Epoch  43/50  - Train accuracy: 78.893% - Test accuracy: 72.817%\n"
     ]
    },
    {
     "name": "stdout",
     "output_type": "stream",
     "text": [
      "Epoch  44/50  - Train accuracy: 79.243% - Test accuracy: 76.072%\n"
     ]
    },
    {
     "name": "stdout",
     "output_type": "stream",
     "text": [
      "Epoch  45/50  - Train accuracy: 79.643% - Test accuracy: 76.402%\n"
     ]
    },
    {
     "name": "stdout",
     "output_type": "stream",
     "text": [
      "Epoch  46/50  - Train accuracy: 79.952% - Test accuracy: 70.964%\n"
     ]
    },
    {
     "name": "stdout",
     "output_type": "stream",
     "text": [
      "Epoch  47/50  - Train accuracy: 80.368% - Test accuracy: 77.474%\n"
     ]
    },
    {
     "name": "stdout",
     "output_type": "stream",
     "text": [
      "Epoch  48/50  - Train accuracy: 80.832% - Test accuracy: 76.552%\n"
     ]
    },
    {
     "name": "stdout",
     "output_type": "stream",
     "text": [
      "Epoch  49/50  - Train accuracy: 80.754% - Test accuracy: 76.352%\n"
     ]
    },
    {
     "name": "stdout",
     "output_type": "stream",
     "text": [
      "Epoch  50/50  - Train accuracy: 81.426% - Test accuracy: 74.890%\n"
     ]
    },
    {
     "name": "stdout",
     "output_type": "stream",
     "text": [
      "----------------------------------------------------------------\n",
      "Running experiment with learning_dim = 2048\n"
     ]
    },
    {
     "name": "stdout",
     "output_type": "stream",
     "text": [
      "Files already downloaded and verified\n"
     ]
    },
    {
     "name": "stdout",
     "output_type": "stream",
     "text": [
      "Files already downloaded and verified\n"
     ]
    },
    {
     "name": "stdout",
     "output_type": "stream",
     "text": [
      "Epoch   1/50  - Train accuracy: 10.049% - Test accuracy: 09.986%\n"
     ]
    },
    {
     "name": "stdout",
     "output_type": "stream",
     "text": [
      "Epoch   2/50  - Train accuracy: 18.384% - Test accuracy: 22.276%\n"
     ]
    },
    {
     "name": "stdout",
     "output_type": "stream",
     "text": [
      "Epoch   3/50  - Train accuracy: 30.974% - Test accuracy: 36.949%\n"
     ]
    },
    {
     "name": "stdout",
     "output_type": "stream",
     "text": [
      "Epoch   4/50  - Train accuracy: 43.646% - Test accuracy: 46.715%\n"
     ]
    },
    {
     "name": "stdout",
     "output_type": "stream",
     "text": [
      "Epoch   5/50  - Train accuracy: 50.010% - Test accuracy: 50.741%\n"
     ]
    },
    {
     "name": "stdout",
     "output_type": "stream",
     "text": [
      "Epoch   6/50  - Train accuracy: 54.990% - Test accuracy: 55.929%\n"
     ]
    },
    {
     "name": "stdout",
     "output_type": "stream",
     "text": [
      "Epoch   7/50  - Train accuracy: 58.961% - Test accuracy: 59.605%\n"
     ]
    },
    {
     "name": "stdout",
     "output_type": "stream",
     "text": [
      "Epoch   8/50  - Train accuracy: 62.310% - Test accuracy: 64.744%\n"
     ]
    },
    {
     "name": "stdout",
     "output_type": "stream",
     "text": [
      "Epoch   9/50  - Train accuracy: 65.257% - Test accuracy: 60.236%\n"
     ]
    },
    {
     "name": "stdout",
     "output_type": "stream",
     "text": [
      "Epoch  10/50  - Train accuracy: 67.163% - Test accuracy: 68.089%\n"
     ]
    },
    {
     "name": "stdout",
     "output_type": "stream",
     "text": [
      "Epoch  11/50  - Train accuracy: 69.056% - Test accuracy: 67.137%\n"
     ]
    },
    {
     "name": "stdout",
     "output_type": "stream",
     "text": [
      "Epoch  12/50  - Train accuracy: 70.901% - Test accuracy: 71.094%\n"
     ]
    },
    {
     "name": "stdout",
     "output_type": "stream",
     "text": [
      "Epoch  13/50  - Train accuracy: 71.853% - Test accuracy: 70.933%\n"
     ]
    },
    {
     "name": "stdout",
     "output_type": "stream",
     "text": [
      "Epoch  14/50  - Train accuracy: 73.047% - Test accuracy: 72.746%\n"
     ]
    },
    {
     "name": "stdout",
     "output_type": "stream",
     "text": [
      "Epoch  15/50  - Train accuracy: 74.772% - Test accuracy: 72.446%\n"
     ]
    },
    {
     "name": "stdout",
     "output_type": "stream",
     "text": [
      "Epoch  16/50  - Train accuracy: 75.736% - Test accuracy: 73.067%\n"
     ]
    },
    {
     "name": "stdout",
     "output_type": "stream",
     "text": [
      "Epoch  17/50  - Train accuracy: 76.811% - Test accuracy: 75.270%\n"
     ]
    },
    {
     "name": "stdout",
     "output_type": "stream",
     "text": [
      "Epoch  18/50  - Train accuracy: 77.895% - Test accuracy: 75.441%\n"
     ]
    },
    {
     "name": "stdout",
     "output_type": "stream",
     "text": [
      "Epoch  19/50  - Train accuracy: 78.787% - Test accuracy: 75.481%\n"
     ]
    },
    {
     "name": "stdout",
     "output_type": "stream",
     "text": [
      "Epoch  20/50  - Train accuracy: 79.822% - Test accuracy: 76.573%\n"
     ]
    },
    {
     "name": "stdout",
     "output_type": "stream",
     "text": [
      "Epoch  21/50  - Train accuracy: 80.620% - Test accuracy: 77.434%\n"
     ]
    },
    {
     "name": "stdout",
     "output_type": "stream",
     "text": [
      "Epoch  22/50  - Train accuracy: 81.518% - Test accuracy: 77.314%\n"
     ]
    },
    {
     "name": "stdout",
     "output_type": "stream",
     "text": [
      "Epoch  23/50  - Train accuracy: 82.096% - Test accuracy: 78.626%\n"
     ]
    },
    {
     "name": "stdout",
     "output_type": "stream",
     "text": [
      "Epoch  24/50  - Train accuracy: 83.067% - Test accuracy: 78.135%\n"
     ]
    },
    {
     "name": "stdout",
     "output_type": "stream",
     "text": [
      "Epoch  25/50  - Train accuracy: 83.665% - Test accuracy: 76.913%\n"
     ]
    },
    {
     "name": "stdout",
     "output_type": "stream",
     "text": [
      "Epoch  26/50  - Train accuracy: 84.449% - Test accuracy: 78.335%\n"
     ]
    },
    {
     "name": "stdout",
     "output_type": "stream",
     "text": [
      "Epoch  27/50  - Train accuracy: 85.269% - Test accuracy: 76.883%\n"
     ]
    },
    {
     "name": "stdout",
     "output_type": "stream",
     "text": [
      "Epoch  28/50  - Train accuracy: 85.897% - Test accuracy: 79.667%\n"
     ]
    },
    {
     "name": "stdout",
     "output_type": "stream",
     "text": [
      "Epoch  29/50  - Train accuracy: 86.730% - Test accuracy: 78.656%\n"
     ]
    },
    {
     "name": "stdout",
     "output_type": "stream",
     "text": [
      "Epoch  30/50  - Train accuracy: 87.550% - Test accuracy: 78.766%\n"
     ]
    },
    {
     "name": "stdout",
     "output_type": "stream",
     "text": [
      "Epoch  31/50  - Train accuracy: 87.968% - Test accuracy: 76.773%\n"
     ]
    },
    {
     "name": "stdout",
     "output_type": "stream",
     "text": [
      "Epoch  32/50  - Train accuracy: 88.722% - Test accuracy: 79.597%\n"
     ]
    },
    {
     "name": "stdout",
     "output_type": "stream",
     "text": [
      "Epoch  33/50  - Train accuracy: 89.485% - Test accuracy: 80.238%\n"
     ]
    },
    {
     "name": "stdout",
     "output_type": "stream",
     "text": [
      "Epoch  34/50  - Train accuracy: 89.911% - Test accuracy: 80.298%\n"
     ]
    },
    {
     "name": "stdout",
     "output_type": "stream",
     "text": [
      "Epoch  35/50  - Train accuracy: 90.181% - Test accuracy: 79.868%\n"
     ]
    },
    {
     "name": "stdout",
     "output_type": "stream",
     "text": [
      "Epoch  36/50  - Train accuracy: 91.015% - Test accuracy: 80.709%\n"
     ]
    },
    {
     "name": "stdout",
     "output_type": "stream",
     "text": [
      "Epoch  37/50  - Train accuracy: 91.769% - Test accuracy: 80.459%\n"
     ]
    },
    {
     "name": "stdout",
     "output_type": "stream",
     "text": [
      "Epoch  38/50  - Train accuracy: 92.268% - Test accuracy: 81.230%\n"
     ]
    },
    {
     "name": "stdout",
     "output_type": "stream",
     "text": [
      "Epoch  39/50  - Train accuracy: 92.588% - Test accuracy: 81.400%\n"
     ]
    },
    {
     "name": "stdout",
     "output_type": "stream",
     "text": [
      "Epoch  40/50  - Train accuracy: 93.052% - Test accuracy: 80.699%\n"
     ]
    },
    {
     "name": "stdout",
     "output_type": "stream",
     "text": [
      "Epoch  41/50  - Train accuracy: 93.600% - Test accuracy: 81.050%\n"
     ]
    },
    {
     "name": "stdout",
     "output_type": "stream",
     "text": [
      "Epoch  42/50  - Train accuracy: 94.106% - Test accuracy: 79.788%\n"
     ]
    },
    {
     "name": "stdout",
     "output_type": "stream",
     "text": [
      "Epoch  43/50  - Train accuracy: 94.340% - Test accuracy: 79.267%\n"
     ]
    },
    {
     "name": "stdout",
     "output_type": "stream",
     "text": [
      "Epoch  44/50  - Train accuracy: 94.784% - Test accuracy: 80.859%\n"
     ]
    },
    {
     "name": "stdout",
     "output_type": "stream",
     "text": [
      "Epoch  45/50  - Train accuracy: 95.383% - Test accuracy: 81.450%\n"
     ]
    },
    {
     "name": "stdout",
     "output_type": "stream",
     "text": [
      "Epoch  46/50  - Train accuracy: 95.513% - Test accuracy: 78.886%\n"
     ]
    },
    {
     "name": "stdout",
     "output_type": "stream",
     "text": [
      "Epoch  47/50  - Train accuracy: 95.971% - Test accuracy: 81.180%\n"
     ]
    },
    {
     "name": "stdout",
     "output_type": "stream",
     "text": [
      "Epoch  48/50  - Train accuracy: 96.047% - Test accuracy: 81.480%\n"
     ]
    },
    {
     "name": "stdout",
     "output_type": "stream",
     "text": [
      "Epoch  49/50  - Train accuracy: 96.463% - Test accuracy: 81.651%\n"
     ]
    },
    {
     "name": "stdout",
     "output_type": "stream",
     "text": [
      "Epoch  50/50  - Train accuracy: 96.797% - Test accuracy: 79.367%\n"
     ]
    },
    {
     "name": "stdout",
     "output_type": "stream",
     "text": [
      "----------------------------------------------------------------\n",
      "Running experiment with learning_dim = 4096\n"
     ]
    },
    {
     "name": "stdout",
     "output_type": "stream",
     "text": [
      "Files already downloaded and verified\n"
     ]
    },
    {
     "name": "stdout",
     "output_type": "stream",
     "text": [
      "Files already downloaded and verified\n"
     ]
    },
    {
     "name": "stdout",
     "output_type": "stream",
     "text": [
      "Epoch   1/50  - Train accuracy: 11.544% - Test accuracy: 19.071%\n"
     ]
    },
    {
     "name": "stdout",
     "output_type": "stream",
     "text": [
      "Epoch   2/50  - Train accuracy: 28.973% - Test accuracy: 38.772%\n"
     ]
    },
    {
     "name": "stdout",
     "output_type": "stream",
     "text": [
      "Epoch   3/50  - Train accuracy: 44.594% - Test accuracy: 49.359%\n"
     ]
    },
    {
     "name": "stdout",
     "output_type": "stream",
     "text": [
      "Epoch   4/50  - Train accuracy: 53.251% - Test accuracy: 55.809%\n"
     ]
    },
    {
     "name": "stdout",
     "output_type": "stream",
     "text": [
      "Epoch   5/50  - Train accuracy: 59.641% - Test accuracy: 61.078%\n"
     ]
    },
    {
     "name": "stdout",
     "output_type": "stream",
     "text": [
      "Epoch   6/50  - Train accuracy: 63.854% - Test accuracy: 64.814%\n"
     ]
    },
    {
     "name": "stdout",
     "output_type": "stream",
     "text": [
      "Epoch   7/50  - Train accuracy: 66.745% - Test accuracy: 64.944%\n"
     ]
    },
    {
     "name": "stdout",
     "output_type": "stream",
     "text": [
      "Epoch   8/50  - Train accuracy: 69.478% - Test accuracy: 70.813%\n"
     ]
    },
    {
     "name": "stdout",
     "output_type": "stream",
     "text": [
      "Epoch   9/50  - Train accuracy: 71.639% - Test accuracy: 68.680%\n"
     ]
    },
    {
     "name": "stdout",
     "output_type": "stream",
     "text": [
      "Epoch  10/50  - Train accuracy: 73.369% - Test accuracy: 73.518%\n"
     ]
    },
    {
     "name": "stdout",
     "output_type": "stream",
     "text": [
      "Epoch  11/50  - Train accuracy: 74.994% - Test accuracy: 72.606%\n"
     ]
    },
    {
     "name": "stdout",
     "output_type": "stream",
     "text": [
      "Epoch  12/50  - Train accuracy: 76.426% - Test accuracy: 74.870%\n"
     ]
    },
    {
     "name": "stdout",
     "output_type": "stream",
     "text": [
      "Epoch  13/50  - Train accuracy: 77.553% - Test accuracy: 74.990%\n"
     ]
    },
    {
     "name": "stdout",
     "output_type": "stream",
     "text": [
      "Epoch  14/50  - Train accuracy: 78.783% - Test accuracy: 77.183%\n"
     ]
    },
    {
     "name": "stdout",
     "output_type": "stream",
     "text": [
      "Epoch  15/50  - Train accuracy: 79.820% - Test accuracy: 76.302%\n"
     ]
    },
    {
     "name": "stdout",
     "output_type": "stream",
     "text": [
      "Epoch  16/50  - Train accuracy: 81.108% - Test accuracy: 77.384%\n"
     ]
    },
    {
     "name": "stdout",
     "output_type": "stream",
     "text": [
      "Epoch  17/50  - Train accuracy: 82.146% - Test accuracy: 76.713%\n"
     ]
    },
    {
     "name": "stdout",
     "output_type": "stream",
     "text": [
      "Epoch  18/50  - Train accuracy: 83.049% - Test accuracy: 78.015%\n"
     ]
    },
    {
     "name": "stdout",
     "output_type": "stream",
     "text": [
      "Epoch  19/50  - Train accuracy: 83.921% - Test accuracy: 78.956%\n"
     ]
    },
    {
     "name": "stdout",
     "output_type": "stream",
     "text": [
      "Epoch  20/50  - Train accuracy: 84.753% - Test accuracy: 78.556%\n"
     ]
    },
    {
     "name": "stdout",
     "output_type": "stream",
     "text": [
      "Epoch  21/50  - Train accuracy: 85.485% - Test accuracy: 80.779%\n"
     ]
    },
    {
     "name": "stdout",
     "output_type": "stream",
     "text": [
      "Epoch  22/50  - Train accuracy: 86.412% - Test accuracy: 80.078%\n"
     ]
    },
    {
     "name": "stdout",
     "output_type": "stream",
     "text": [
      "Epoch  23/50  - Train accuracy: 87.140% - Test accuracy: 80.869%\n"
     ]
    },
    {
     "name": "stdout",
     "output_type": "stream",
     "text": [
      "Epoch  24/50  - Train accuracy: 88.112% - Test accuracy: 78.746%\n"
     ]
    },
    {
     "name": "stdout",
     "output_type": "stream",
     "text": [
      "Epoch  25/50  - Train accuracy: 88.416% - Test accuracy: 78.335%\n"
     ]
    },
    {
     "name": "stdout",
     "output_type": "stream",
     "text": [
      "Epoch  26/50  - Train accuracy: 89.117% - Test accuracy: 79.778%\n"
     ]
    },
    {
     "name": "stdout",
     "output_type": "stream",
     "text": [
      "Epoch  27/50  - Train accuracy: 89.843% - Test accuracy: 78.986%\n"
     ]
    },
    {
     "name": "stdout",
     "output_type": "stream",
     "text": [
      "Epoch  28/50  - Train accuracy: 90.763% - Test accuracy: 80.429%\n"
     ]
    },
    {
     "name": "stdout",
     "output_type": "stream",
     "text": [
      "Epoch  29/50  - Train accuracy: 91.265% - Test accuracy: 79.177%\n"
     ]
    },
    {
     "name": "stdout",
     "output_type": "stream",
     "text": [
      "Epoch  30/50  - Train accuracy: 91.633% - Test accuracy: 79.637%\n"
     ]
    },
    {
     "name": "stdout",
     "output_type": "stream",
     "text": [
      "Epoch  31/50  - Train accuracy: 92.198% - Test accuracy: 80.389%\n"
     ]
    },
    {
     "name": "stdout",
     "output_type": "stream",
     "text": [
      "Epoch  32/50  - Train accuracy: 92.636% - Test accuracy: 79.527%\n"
     ]
    },
    {
     "name": "stdout",
     "output_type": "stream",
     "text": [
      "Epoch  33/50  - Train accuracy: 93.372% - Test accuracy: 79.197%\n"
     ]
    },
    {
     "name": "stdout",
     "output_type": "stream",
     "text": [
      "Epoch  34/50  - Train accuracy: 93.898% - Test accuracy: 79.908%\n"
     ]
    },
    {
     "name": "stdout",
     "output_type": "stream",
     "text": [
      "Epoch  35/50  - Train accuracy: 94.158% - Test accuracy: 79.768%\n"
     ]
    },
    {
     "name": "stdout",
     "output_type": "stream",
     "text": [
      "Epoch  36/50  - Train accuracy: 94.456% - Test accuracy: 80.128%\n",
      "----------------------------------------------------------------\n",
      "Reducing learning rate on plateau at epoch 36\n",
      "----------------------------------------------------------------\n"
     ]
    },
    {
     "name": "stdout",
     "output_type": "stream",
     "text": [
      "Epoch  37/50  - Train accuracy: 98.063% - Test accuracy: 83.444%\n"
     ]
    },
    {
     "name": "stdout",
     "output_type": "stream",
     "text": [
      "Epoch  38/50  - Train accuracy: 98.470% - Test accuracy: 83.514%\n"
     ]
    },
    {
     "name": "stdout",
     "output_type": "stream",
     "text": [
      "Epoch  39/50  - Train accuracy: 98.588% - Test accuracy: 83.964%\n"
     ]
    },
    {
     "name": "stdout",
     "output_type": "stream",
     "text": [
      "Epoch  40/50  - Train accuracy: 98.858% - Test accuracy: 83.504%\n"
     ]
    },
    {
     "name": "stdout",
     "output_type": "stream",
     "text": [
      "Epoch  41/50  - Train accuracy: 98.892% - Test accuracy: 83.964%\n"
     ]
    },
    {
     "name": "stdout",
     "output_type": "stream",
     "text": [
      "Epoch  42/50  - Train accuracy: 99.026% - Test accuracy: 83.884%\n"
     ]
    },
    {
     "name": "stdout",
     "output_type": "stream",
     "text": [
      "Epoch  43/50  - Train accuracy: 99.042% - Test accuracy: 83.433%\n"
     ]
    },
    {
     "name": "stdout",
     "output_type": "stream",
     "text": [
      "Epoch  44/50  - Train accuracy: 99.088% - Test accuracy: 83.704%\n"
     ]
    },
    {
     "name": "stdout",
     "output_type": "stream",
     "text": [
      "Epoch  45/50  - Train accuracy: 99.256% - Test accuracy: 83.804%\n"
     ]
    },
    {
     "name": "stdout",
     "output_type": "stream",
     "text": [
      "Epoch  46/50  - Train accuracy: 99.222% - Test accuracy: 83.343%\n"
     ]
    },
    {
     "name": "stdout",
     "output_type": "stream",
     "text": [
      "Epoch  47/50  - Train accuracy: 99.312% - Test accuracy: 83.804%\n"
     ]
    },
    {
     "name": "stdout",
     "output_type": "stream",
     "text": [
      "Epoch  48/50  - Train accuracy: 99.362% - Test accuracy: 84.044%\n"
     ]
    },
    {
     "name": "stdout",
     "output_type": "stream",
     "text": [
      "Epoch  49/50  - Train accuracy: 99.366% - Test accuracy: 83.894%\n"
     ]
    },
    {
     "name": "stdout",
     "output_type": "stream",
     "text": [
      "Epoch  50/50  - Train accuracy: 99.444% - Test accuracy: 84.065%\n"
     ]
    },
    {
     "name": "stdout",
     "output_type": "stream",
     "text": [
      "----------------------------------------------------------------\n",
      "Running experiment with learning_dim = 8192\n"
     ]
    },
    {
     "name": "stdout",
     "output_type": "stream",
     "text": [
      "Files already downloaded and verified\n"
     ]
    },
    {
     "name": "stdout",
     "output_type": "stream",
     "text": [
      "Files already downloaded and verified\n"
     ]
    },
    {
     "name": "stdout",
     "output_type": "stream",
     "text": [
      "Epoch   1/50  - Train accuracy: 15.077% - Test accuracy: 24.259%\n"
     ]
    },
    {
     "name": "stdout",
     "output_type": "stream",
     "text": [
      "Epoch   2/50  - Train accuracy: 36.918% - Test accuracy: 47.837%\n"
     ]
    },
    {
     "name": "stdout",
     "output_type": "stream",
     "text": [
      "Epoch   3/50  - Train accuracy: 49.222% - Test accuracy: 50.851%\n"
     ]
    },
    {
     "name": "stdout",
     "output_type": "stream",
     "text": [
      "Epoch   4/50  - Train accuracy: 56.938% - Test accuracy: 58.814%\n"
     ]
    },
    {
     "name": "stdout",
     "output_type": "stream",
     "text": [
      "Epoch   5/50  - Train accuracy: 62.360% - Test accuracy: 62.480%\n"
     ]
    },
    {
     "name": "stdout",
     "output_type": "stream",
     "text": [
      "Epoch   6/50  - Train accuracy: 66.305% - Test accuracy: 67.378%\n"
     ]
    },
    {
     "name": "stdout",
     "output_type": "stream",
     "text": [
      "Epoch   7/50  - Train accuracy: 68.910% - Test accuracy: 66.296%\n"
     ]
    },
    {
     "name": "stdout",
     "output_type": "stream",
     "text": [
      "Epoch   8/50  - Train accuracy: 71.217% - Test accuracy: 71.775%\n"
     ]
    },
    {
     "name": "stdout",
     "output_type": "stream",
     "text": [
      "Epoch   9/50  - Train accuracy: 73.145% - Test accuracy: 71.615%\n"
     ]
    },
    {
     "name": "stdout",
     "output_type": "stream",
     "text": [
      "Epoch  10/50  - Train accuracy: 74.984% - Test accuracy: 74.038%\n"
     ]
    },
    {
     "name": "stdout",
     "output_type": "stream",
     "text": [
      "Epoch  11/50  - Train accuracy: 76.947% - Test accuracy: 74.309%\n"
     ]
    },
    {
     "name": "stdout",
     "output_type": "stream",
     "text": [
      "Epoch  12/50  - Train accuracy: 78.103% - Test accuracy: 74.179%\n"
     ]
    },
    {
     "name": "stdout",
     "output_type": "stream",
     "text": [
      "Epoch  13/50  - Train accuracy: 79.201% - Test accuracy: 74.770%\n"
     ]
    },
    {
     "name": "stdout",
     "output_type": "stream",
     "text": [
      "Epoch  14/50  - Train accuracy: 80.518% - Test accuracy: 78.265%\n"
     ]
    },
    {
     "name": "stdout",
     "output_type": "stream",
     "text": [
      "Epoch  15/50  - Train accuracy: 81.702% - Test accuracy: 76.202%\n"
     ]
    },
    {
     "name": "stdout",
     "output_type": "stream",
     "text": [
      "Epoch  16/50  - Train accuracy: 82.885% - Test accuracy: 77.414%\n"
     ]
    },
    {
     "name": "stdout",
     "output_type": "stream",
     "text": [
      "Epoch  17/50  - Train accuracy: 84.009% - Test accuracy: 77.574%\n"
     ]
    },
    {
     "name": "stdout",
     "output_type": "stream",
     "text": [
      "Epoch  18/50  - Train accuracy: 84.845% - Test accuracy: 77.754%\n"
     ]
    },
    {
     "name": "stdout",
     "output_type": "stream",
     "text": [
      "Epoch  19/50  - Train accuracy: 85.873% - Test accuracy: 77.053%\n"
     ]
    },
    {
     "name": "stdout",
     "output_type": "stream",
     "text": [
      "Epoch  20/50  - Train accuracy: 86.656% - Test accuracy: 76.923%\n"
     ]
    },
    {
     "name": "stdout",
     "output_type": "stream",
     "text": [
      "Epoch  21/50  - Train accuracy: 87.628% - Test accuracy: 80.098%\n"
     ]
    },
    {
     "name": "stdout",
     "output_type": "stream",
     "text": [
      "Epoch  22/50  - Train accuracy: 88.436% - Test accuracy: 79.347%\n"
     ]
    },
    {
     "name": "stdout",
     "output_type": "stream",
     "text": [
      "Epoch  23/50  - Train accuracy: 89.155% - Test accuracy: 79.387%\n"
     ]
    },
    {
     "name": "stdout",
     "output_type": "stream",
     "text": [
      "Epoch  24/50  - Train accuracy: 89.921% - Test accuracy: 78.566%\n"
     ]
    },
    {
     "name": "stdout",
     "output_type": "stream",
     "text": [
      "Epoch  25/50  - Train accuracy: 90.669% - Test accuracy: 77.744%\n"
     ]
    },
    {
     "name": "stdout",
     "output_type": "stream",
     "text": [
      "Epoch  26/50  - Train accuracy: 91.417% - Test accuracy: 78.646%\n"
     ]
    },
    {
     "name": "stdout",
     "output_type": "stream",
     "text": [
      "Epoch  27/50  - Train accuracy: 92.133% - Test accuracy: 79.287%\n"
     ]
    },
    {
     "name": "stdout",
     "output_type": "stream",
     "text": [
      "Epoch  28/50  - Train accuracy: 92.662% - Test accuracy: 78.766%\n"
     ]
    },
    {
     "name": "stdout",
     "output_type": "stream",
     "text": [
      "Epoch  29/50  - Train accuracy: 93.180% - Test accuracy: 79.016%\n"
     ]
    },
    {
     "name": "stdout",
     "output_type": "stream",
     "text": [
      "Epoch  30/50  - Train accuracy: 93.566% - Test accuracy: 78.626%\n"
     ]
    },
    {
     "name": "stdout",
     "output_type": "stream",
     "text": [
      "Epoch  31/50  - Train accuracy: 94.184% - Test accuracy: 78.626%\n"
     ]
    },
    {
     "name": "stdout",
     "output_type": "stream",
     "text": [
      "Epoch  32/50  - Train accuracy: 94.454% - Test accuracy: 78.826%\n"
     ]
    },
    {
     "name": "stdout",
     "output_type": "stream",
     "text": [
      "Epoch  33/50  - Train accuracy: 94.872% - Test accuracy: 79.607%\n"
     ]
    },
    {
     "name": "stdout",
     "output_type": "stream",
     "text": [
      "Epoch  34/50  - Train accuracy: 95.327% - Test accuracy: 78.706%\n"
     ]
    },
    {
     "name": "stdout",
     "output_type": "stream",
     "text": [
      "Epoch  35/50  - Train accuracy: 95.721% - Test accuracy: 77.504%\n"
     ]
    },
    {
     "name": "stdout",
     "output_type": "stream",
     "text": [
      "Epoch  36/50  - Train accuracy: 96.097% - Test accuracy: 78.806%\n",
      "----------------------------------------------------------------\n",
      "Reducing learning rate on plateau at epoch 36\n",
      "----------------------------------------------------------------\n"
     ]
    },
    {
     "name": "stdout",
     "output_type": "stream",
     "text": [
      "Epoch  37/50  - Train accuracy: 98.838% - Test accuracy: 81.861%\n"
     ]
    },
    {
     "name": "stdout",
     "output_type": "stream",
     "text": [
      "Epoch  38/50  - Train accuracy: 99.102% - Test accuracy: 81.701%\n"
     ]
    },
    {
     "name": "stdout",
     "output_type": "stream",
     "text": [
      "Epoch  39/50  - Train accuracy: 99.218% - Test accuracy: 81.530%\n"
     ]
    },
    {
     "name": "stdout",
     "output_type": "stream",
     "text": [
      "Epoch  40/50  - Train accuracy: 99.290% - Test accuracy: 81.701%\n"
     ]
    },
    {
     "name": "stdout",
     "output_type": "stream",
     "text": [
      "Epoch  41/50  - Train accuracy: 99.386% - Test accuracy: 81.841%\n"
     ]
    },
    {
     "name": "stdout",
     "output_type": "stream",
     "text": [
      "Epoch  42/50  - Train accuracy: 99.450% - Test accuracy: 81.811%\n"
     ]
    },
    {
     "name": "stdout",
     "output_type": "stream",
     "text": [
      "Epoch  43/50  - Train accuracy: 99.484% - Test accuracy: 81.911%\n"
     ]
    },
    {
     "name": "stdout",
     "output_type": "stream",
     "text": [
      "Epoch  44/50  - Train accuracy: 99.552% - Test accuracy: 81.841%\n"
     ]
    },
    {
     "name": "stdout",
     "output_type": "stream",
     "text": [
      "Epoch  45/50  - Train accuracy: 99.604% - Test accuracy: 81.831%\n"
     ]
    },
    {
     "name": "stdout",
     "output_type": "stream",
     "text": [
      "Epoch  46/50  - Train accuracy: 99.604% - Test accuracy: 81.941%\n"
     ]
    },
    {
     "name": "stdout",
     "output_type": "stream",
     "text": [
      "Epoch  47/50  - Train accuracy: 99.654% - Test accuracy: 81.861%\n"
     ]
    },
    {
     "name": "stdout",
     "output_type": "stream",
     "text": [
      "Epoch  48/50  - Train accuracy: 99.698% - Test accuracy: 81.781%\n"
     ]
    },
    {
     "name": "stdout",
     "output_type": "stream",
     "text": [
      "Epoch  49/50  - Train accuracy: 99.708% - Test accuracy: 82.101%\n"
     ]
    },
    {
     "name": "stdout",
     "output_type": "stream",
     "text": [
      "Epoch  50/50  - Train accuracy: 99.766% - Test accuracy: 81.380%\n"
     ]
    }
   ],
   "source": [
    "for learning_dim in learning_dims:\n",
    "    config[\"pred_decoder_dim\"] = learning_dim \n",
    "    run_experiment(config)"
   ]
  }
 ],
 "metadata": {
  "kernelspec": {
   "display_name": "Python 3",
   "language": "python",
   "name": "python3"
  },
  "language_info": {
   "codemirror_mode": {
    "name": "ipython",
    "version": 3
   },
   "file_extension": ".py",
   "mimetype": "text/x-python",
   "name": "python",
   "nbconvert_exporter": "python",
   "pygments_lexer": "ipython3",
   "version": "3.11.0"
  }
 },
 "nbformat": 4,
 "nbformat_minor": 5
}
