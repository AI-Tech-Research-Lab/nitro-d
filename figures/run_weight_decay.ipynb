{
 "cells": [
  {
   "cell_type": "code",
   "execution_count": null,
   "id": "9c7fc6a0",
   "metadata": {
    "execution": {
     "iopub.execute_input": "2024-05-21T22:47:11.606328Z",
     "iopub.status.busy": "2024-05-21T22:47:11.605783Z",
     "iopub.status.idle": "2024-05-21T22:47:11.953472Z",
     "shell.execute_reply": "2024-05-21T22:47:11.951641Z"
    }
   },
   "outputs": [],
   "source": [
    "import numpy as np\n",
    "import cupy as cp\n",
    "import pathlib\n",
    "import csv\n",
    "import sys"
   ]
  },
  {
   "cell_type": "code",
   "execution_count": 2,
   "id": "246a6d0d",
   "metadata": {
    "execution": {
     "iopub.execute_input": "2024-05-21T22:47:11.959059Z",
     "iopub.status.busy": "2024-05-21T22:47:11.958788Z",
     "iopub.status.idle": "2024-05-21T22:47:11.964145Z",
     "shell.execute_reply": "2024-05-21T22:47:11.962762Z"
    }
   },
   "outputs": [],
   "source": [
    "sys.path.append(str(pathlib.Path('../').resolve()))"
   ]
  },
  {
   "cell_type": "code",
   "execution_count": 3,
   "id": "06bdf5f5",
   "metadata": {
    "execution": {
     "iopub.execute_input": "2024-05-21T22:47:11.969022Z",
     "iopub.status.busy": "2024-05-21T22:47:11.968805Z",
     "iopub.status.idle": "2024-05-21T22:47:14.580377Z",
     "shell.execute_reply": "2024-05-21T22:47:14.579119Z"
    }
   },
   "outputs": [],
   "source": [
    "from lib.experiments import train_test_experiment, build_CNN, build_augmentation_pipeline\n",
    "from lib.utils.enums import NonLinearity, Initialization, Dataset, OptimizerName\n",
    "from lib.utils.data import load_integer_dataset\n",
    "from lib.utils.misc import to_cpu"
   ]
  },
  {
   "cell_type": "markdown",
   "id": "f995322a",
   "metadata": {},
   "source": [
    "## Experiments config"
   ]
  },
  {
   "cell_type": "code",
   "execution_count": 4,
   "id": "28982ce3",
   "metadata": {
    "execution": {
     "iopub.execute_input": "2024-05-21T22:47:14.586472Z",
     "iopub.status.busy": "2024-05-21T22:47:14.586052Z",
     "iopub.status.idle": "2024-05-21T22:47:14.593358Z",
     "shell.execute_reply": "2024-05-21T22:47:14.592035Z"
    }
   },
   "outputs": [],
   "source": [
    "architecture = [\n",
    "    ('Conv2d', 128, 3, 1, 1),\n",
    "    ('Conv2d', 256, 3, 1, 1),\n",
    "    ('MaxPool2d', 2, 2),\n",
    "    ('Conv2d', 256, 3, 1, 1),\n",
    "    ('Conv2d', 512, 3, 1, 1),\n",
    "    ('MaxPool2d', 2, 2),\n",
    "    ('Conv2d', 512, 3, 1, 1),\n",
    "    ('MaxPool2d', 2, 2),\n",
    "    ('Conv2d', 512, 3, 1, 1),\n",
    "    ('MaxPool2d', 2, 2),\n",
    "]\n",
    "num_fc_layers = 2\n",
    "num_fc_hidden = [1024]"
   ]
  },
  {
   "cell_type": "code",
   "execution_count": 5,
   "id": "ece94a15",
   "metadata": {
    "execution": {
     "iopub.execute_input": "2024-05-21T22:47:14.598341Z",
     "iopub.status.busy": "2024-05-21T22:47:14.598126Z",
     "iopub.status.idle": "2024-05-21T22:47:14.603720Z",
     "shell.execute_reply": "2024-05-21T22:47:14.602214Z"
    }
   },
   "outputs": [],
   "source": [
    "dataset_config = dict(\n",
    "    dataset=Dataset.CIFAR10.name,\n",
    "    subsample_ratio=0.5,\n",
    "    ohe_values=(0, 32),\n",
    "    data_augmentation=False,\n",
    "    normalize=True,\n",
    ")"
   ]
  },
  {
   "cell_type": "code",
   "execution_count": 6,
   "id": "4b4f2af7",
   "metadata": {
    "execution": {
     "iopub.execute_input": "2024-05-21T22:47:14.608729Z",
     "iopub.status.busy": "2024-05-21T22:47:14.608504Z",
     "iopub.status.idle": "2024-05-21T22:47:14.614672Z",
     "shell.execute_reply": "2024-05-21T22:47:14.613210Z"
    }
   },
   "outputs": [],
   "source": [
    "network_config = dict(\n",
    "    architecture=architecture,\n",
    "    num_fc_layers=num_fc_layers,\n",
    "    num_fc_hidden=num_fc_hidden,\n",
    "    non_linearity=NonLinearity.NITRO_LEAKY_RELU.name,\n",
    "    init=Initialization.UNIFORM_KAIMING_LEAKY_RELU.name,\n",
    "    pred_decoder_dim=4096,\n",
    "    fe_dropout_rate=0.0,\n",
    "    fc_dropout_rate=0.0,\n",
    "    seed=42,\n",
    "    dtype='int32',\n",
    "    device='cuda',\n",
    "    local_loss='pred',\n",
    "    pooling_type='max',\n",
    "    bias=False,\n",
    "    debug=False,\n",
    ")"
   ]
  },
  {
   "cell_type": "code",
   "execution_count": null,
   "id": "f422b4a7",
   "metadata": {
    "execution": {
     "iopub.execute_input": "2024-05-21T22:47:14.620033Z",
     "iopub.status.busy": "2024-05-21T22:47:14.619745Z",
     "iopub.status.idle": "2024-05-21T22:47:14.625612Z",
     "shell.execute_reply": "2024-05-21T22:47:14.624099Z"
    }
   },
   "outputs": [],
   "source": [
    "training_config = dict(\n",
    "    batch_size=64,\n",
    "    num_epochs=30,\n",
    "    lr_inv=512,\n",
    "    lr_amp_factor=640,\n",
    "    fwd_decay_inv=0,\n",
    "    subnet_decay_inv=0,\n",
    "    optimizer=OptimizerName.INTEGER_SGD.name,\n",
    ")"
   ]
  },
  {
   "cell_type": "code",
   "execution_count": 8,
   "id": "3c08a50a",
   "metadata": {
    "execution": {
     "iopub.execute_input": "2024-05-21T22:47:14.631194Z",
     "iopub.status.busy": "2024-05-21T22:47:14.630797Z",
     "iopub.status.idle": "2024-05-21T22:47:14.637102Z",
     "shell.execute_reply": "2024-05-21T22:47:14.635604Z"
    }
   },
   "outputs": [],
   "source": [
    "config = dataset_config | network_config | training_config"
   ]
  },
  {
   "cell_type": "code",
   "execution_count": 9,
   "id": "9d3cac30e4ff1be6",
   "metadata": {
    "collapsed": false,
    "execution": {
     "iopub.execute_input": "2024-05-21T22:47:14.643520Z",
     "iopub.status.busy": "2024-05-21T22:47:14.642941Z",
     "iopub.status.idle": "2024-05-21T22:47:14.660653Z",
     "shell.execute_reply": "2024-05-21T22:47:14.659096Z"
    }
   },
   "outputs": [],
   "source": [
    "def run_experiment(exp_config):\n",
    "    print(f\"{'-' * 64}\")\n",
    "    print(f\"Running experiment with fwd_decay_inv = {exp_config['fwd_decay_inv']} and lrn_decay_inv={exp_config['subnet_decay_inv']}\")\n",
    "    # Setup reproducibility\n",
    "    np.random.seed(exp_config[\"seed\"])\n",
    "    cp.random.seed(exp_config[\"seed\"])\n",
    "    \n",
    "    # Load the dataset\n",
    "    data = load_integer_dataset(exp_config, ohe_values=exp_config[\"ohe_values\"], val_dim=0, show_images=False, show_log=False, data_path='../.data')\n",
    "    X_tr, _, X_test, y_tr, _, y_test = data\n",
    "\n",
    "    # Setup data augmentation\n",
    "    augmentation_pipeline = build_augmentation_pipeline(exp_config)\n",
    "\n",
    "    # Build and train the model\n",
    "    m = build_CNN(exp_config, X_tr=X_tr, y_tr=y_tr)    \n",
    "    best_train_acc, best_test_acc = train_test_experiment(\n",
    "        m, exp_config, X_tr=X_tr, X_te=X_test, y_tr=y_tr, y_te=y_test,\n",
    "        augmentation_pipeline=augmentation_pipeline,\n",
    "        show_local_accuracies=False, show_progress_bar=False\n",
    "    )\n",
    "\n",
    "    # Compute the mean weight for each layer\n",
    "    weights_norm = []\n",
    "    for layer in m.get_layers_with_parameters():\n",
    "        mean_value = np.mean(np.abs(layer.weights))\n",
    "        weights_norm.append(to_cpu(mean_value))\n",
    "\n",
    "    # Append the results to a CSV file\n",
    "    with open('./weight_decay.csv', mode='a', newline='') as f:\n",
    "        writer = csv.writer(f)\n",
    "        writer.writerow([exp_config[\"fwd_decay_inv\"], exp_config[\"subnet_decay_inv\"], best_train_acc, best_test_acc, *weights_norm])"
   ]
  },
  {
   "cell_type": "code",
   "execution_count": 10,
   "id": "b2b442f224bb4944",
   "metadata": {
    "collapsed": false,
    "execution": {
     "iopub.execute_input": "2024-05-21T22:47:14.666296Z",
     "iopub.status.busy": "2024-05-21T22:47:14.665918Z",
     "iopub.status.idle": "2024-05-21T22:47:14.673271Z",
     "shell.execute_reply": "2024-05-21T22:47:14.671535Z"
    }
   },
   "outputs": [],
   "source": [
    "fwd_decay_values = [0, 20_000, 15_000, 10_000, 5000]\n",
    "subnet_decay_values = [0, 3000, 1000, 500]"
   ]
  },
  {
   "cell_type": "code",
   "execution_count": 11,
   "id": "4e8e8aaffcf53f7f",
   "metadata": {
    "collapsed": false,
    "execution": {
     "iopub.execute_input": "2024-05-21T22:47:14.679314Z",
     "iopub.status.busy": "2024-05-21T22:47:14.678805Z",
     "iopub.status.idle": "2024-05-22T07:23:38.750135Z",
     "shell.execute_reply": "2024-05-22T07:23:38.747985Z"
    }
   },
   "outputs": [
    {
     "name": "stdout",
     "output_type": "stream",
     "text": [
      "----------------------------------------------------------------\n",
      "Running experiment with fwd_decay_inv = 0 and lrn_decay_inv=0\n"
     ]
    },
    {
     "name": "stdout",
     "output_type": "stream",
     "text": [
      "Files already downloaded and verified\n"
     ]
    },
    {
     "name": "stdout",
     "output_type": "stream",
     "text": [
      "Files already downloaded and verified\n"
     ]
    },
    {
     "name": "stdout",
     "output_type": "stream",
     "text": [
      "Epoch   1/30  - Train accuracy: 09.940% - Test accuracy: 09.986%\n"
     ]
    },
    {
     "name": "stdout",
     "output_type": "stream",
     "text": [
      "Epoch   2/30  - Train accuracy: 13.574% - Test accuracy: 18.770%\n"
     ]
    },
    {
     "name": "stdout",
     "output_type": "stream",
     "text": [
      "Epoch   3/30  - Train accuracy: 24.026% - Test accuracy: 28.516%\n"
     ]
    },
    {
     "name": "stdout",
     "output_type": "stream",
     "text": [
      "Epoch   4/30  - Train accuracy: 33.393% - Test accuracy: 38.201%\n"
     ]
    },
    {
     "name": "stdout",
     "output_type": "stream",
     "text": [
      "Epoch   5/30  - Train accuracy: 41.963% - Test accuracy: 45.923%\n"
     ]
    },
    {
     "name": "stdout",
     "output_type": "stream",
     "text": [
      "Epoch   6/30  - Train accuracy: 48.029% - Test accuracy: 48.498%\n"
     ]
    },
    {
     "name": "stdout",
     "output_type": "stream",
     "text": [
      "Epoch   7/30  - Train accuracy: 51.807% - Test accuracy: 52.875%\n"
     ]
    },
    {
     "name": "stdout",
     "output_type": "stream",
     "text": [
      "Epoch   8/30  - Train accuracy: 55.381% - Test accuracy: 55.258%\n"
     ]
    },
    {
     "name": "stdout",
     "output_type": "stream",
     "text": [
      "Epoch   9/30  - Train accuracy: 59.026% - Test accuracy: 58.834%\n"
     ]
    },
    {
     "name": "stdout",
     "output_type": "stream",
     "text": [
      "Epoch  10/30  - Train accuracy: 61.899% - Test accuracy: 63.952%\n"
     ]
    },
    {
     "name": "stdout",
     "output_type": "stream",
     "text": [
      "Epoch  11/30  - Train accuracy: 63.634% - Test accuracy: 61.729%\n"
     ]
    },
    {
     "name": "stdout",
     "output_type": "stream",
     "text": [
      "Epoch  12/30  - Train accuracy: 65.929% - Test accuracy: 65.635%\n"
     ]
    },
    {
     "name": "stdout",
     "output_type": "stream",
     "text": [
      "Epoch  13/30  - Train accuracy: 67.536% - Test accuracy: 66.967%\n"
     ]
    },
    {
     "name": "stdout",
     "output_type": "stream",
     "text": [
      "Epoch  14/30  - Train accuracy: 69.323% - Test accuracy: 68.860%\n"
     ]
    },
    {
     "name": "stdout",
     "output_type": "stream",
     "text": [
      "Epoch  15/30  - Train accuracy: 70.649% - Test accuracy: 63.802%\n"
     ]
    },
    {
     "name": "stdout",
     "output_type": "stream",
     "text": [
      "Epoch  16/30  - Train accuracy: 71.462% - Test accuracy: 69.301%\n"
     ]
    },
    {
     "name": "stdout",
     "output_type": "stream",
     "text": [
      "Epoch  17/30  - Train accuracy: 73.209% - Test accuracy: 70.573%\n"
     ]
    },
    {
     "name": "stdout",
     "output_type": "stream",
     "text": [
      "Epoch  18/30  - Train accuracy: 74.407% - Test accuracy: 70.613%\n"
     ]
    },
    {
     "name": "stdout",
     "output_type": "stream",
     "text": [
      "Epoch  19/30  - Train accuracy: 75.381% - Test accuracy: 73.438%\n"
     ]
    },
    {
     "name": "stdout",
     "output_type": "stream",
     "text": [
      "Epoch  20/30  - Train accuracy: 76.751% - Test accuracy: 73.067%\n"
     ]
    },
    {
     "name": "stdout",
     "output_type": "stream",
     "text": [
      "Epoch  21/30  - Train accuracy: 77.640% - Test accuracy: 71.054%\n"
     ]
    },
    {
     "name": "stdout",
     "output_type": "stream",
     "text": [
      "Epoch  22/30  - Train accuracy: 78.546% - Test accuracy: 71.565%\n"
     ]
    },
    {
     "name": "stdout",
     "output_type": "stream",
     "text": [
      "Epoch  23/30  - Train accuracy: 79.335% - Test accuracy: 75.260%\n"
     ]
    },
    {
     "name": "stdout",
     "output_type": "stream",
     "text": [
      "Epoch  24/30  - Train accuracy: 80.625% - Test accuracy: 73.898%\n"
     ]
    },
    {
     "name": "stdout",
     "output_type": "stream",
     "text": [
      "Epoch  25/30  - Train accuracy: 81.550% - Test accuracy: 72.686%\n"
     ]
    },
    {
     "name": "stdout",
     "output_type": "stream",
     "text": [
      "Epoch  26/30  - Train accuracy: 82.272% - Test accuracy: 74.069%\n"
     ]
    },
    {
     "name": "stdout",
     "output_type": "stream",
     "text": [
      "Epoch  27/30  - Train accuracy: 83.293% - Test accuracy: 76.152%\n"
     ]
    },
    {
     "name": "stdout",
     "output_type": "stream",
     "text": [
      "Epoch  28/30  - Train accuracy: 84.075% - Test accuracy: 76.142%\n"
     ]
    },
    {
     "name": "stdout",
     "output_type": "stream",
     "text": [
      "Epoch  29/30  - Train accuracy: 85.280% - Test accuracy: 76.603%\n"
     ]
    },
    {
     "name": "stdout",
     "output_type": "stream",
     "text": [
      "Epoch  30/30  - Train accuracy: 85.701% - Test accuracy: 76.302%\n"
     ]
    },
    {
     "name": "stdout",
     "output_type": "stream",
     "text": [
      "----------------------------------------------------------------\n",
      "Running experiment with fwd_decay_inv = 0 and lrn_decay_inv=3000\n"
     ]
    },
    {
     "name": "stdout",
     "output_type": "stream",
     "text": [
      "Files already downloaded and verified\n"
     ]
    },
    {
     "name": "stdout",
     "output_type": "stream",
     "text": [
      "Files already downloaded and verified\n"
     ]
    },
    {
     "name": "stdout",
     "output_type": "stream",
     "text": [
      "Epoch   1/30  - Train accuracy: 09.940% - Test accuracy: 09.986%\n"
     ]
    },
    {
     "name": "stdout",
     "output_type": "stream",
     "text": [
      "Epoch   2/30  - Train accuracy: 13.574% - Test accuracy: 18.770%\n"
     ]
    },
    {
     "name": "stdout",
     "output_type": "stream",
     "text": [
      "Epoch   3/30  - Train accuracy: 24.002% - Test accuracy: 28.405%\n"
     ]
    },
    {
     "name": "stdout",
     "output_type": "stream",
     "text": [
      "Epoch   4/30  - Train accuracy: 33.401% - Test accuracy: 38.391%\n"
     ]
    },
    {
     "name": "stdout",
     "output_type": "stream",
     "text": [
      "Epoch   5/30  - Train accuracy: 41.907% - Test accuracy: 46.244%\n"
     ]
    },
    {
     "name": "stdout",
     "output_type": "stream",
     "text": [
      "Epoch   6/30  - Train accuracy: 47.993% - Test accuracy: 48.748%\n"
     ]
    },
    {
     "name": "stdout",
     "output_type": "stream",
     "text": [
      "Epoch   7/30  - Train accuracy: 52.043% - Test accuracy: 53.185%\n"
     ]
    },
    {
     "name": "stdout",
     "output_type": "stream",
     "text": [
      "Epoch   8/30  - Train accuracy: 55.325% - Test accuracy: 54.768%\n"
     ]
    },
    {
     "name": "stdout",
     "output_type": "stream",
     "text": [
      "Epoch   9/30  - Train accuracy: 59.010% - Test accuracy: 58.093%\n"
     ]
    },
    {
     "name": "stdout",
     "output_type": "stream",
     "text": [
      "Epoch  10/30  - Train accuracy: 61.995% - Test accuracy: 62.710%\n"
     ]
    },
    {
     "name": "stdout",
     "output_type": "stream",
     "text": [
      "Epoch  11/30  - Train accuracy: 63.534% - Test accuracy: 62.019%\n"
     ]
    },
    {
     "name": "stdout",
     "output_type": "stream",
     "text": [
      "Epoch  12/30  - Train accuracy: 65.697% - Test accuracy: 65.625%\n"
     ]
    },
    {
     "name": "stdout",
     "output_type": "stream",
     "text": [
      "Epoch  13/30  - Train accuracy: 67.364% - Test accuracy: 67.879%\n"
     ]
    },
    {
     "name": "stdout",
     "output_type": "stream",
     "text": [
      "Epoch  14/30  - Train accuracy: 69.379% - Test accuracy: 68.790%\n"
     ]
    },
    {
     "name": "stdout",
     "output_type": "stream",
     "text": [
      "Epoch  15/30  - Train accuracy: 70.809% - Test accuracy: 64.483%\n"
     ]
    },
    {
     "name": "stdout",
     "output_type": "stream",
     "text": [
      "Epoch  16/30  - Train accuracy: 71.538% - Test accuracy: 69.571%\n"
     ]
    },
    {
     "name": "stdout",
     "output_type": "stream",
     "text": [
      "Epoch  17/30  - Train accuracy: 72.921% - Test accuracy: 71.114%\n"
     ]
    },
    {
     "name": "stdout",
     "output_type": "stream",
     "text": [
      "Epoch  18/30  - Train accuracy: 74.243% - Test accuracy: 71.304%\n"
     ]
    },
    {
     "name": "stdout",
     "output_type": "stream",
     "text": [
      "Epoch  19/30  - Train accuracy: 75.549% - Test accuracy: 73.558%\n"
     ]
    },
    {
     "name": "stdout",
     "output_type": "stream",
     "text": [
      "Epoch  20/30  - Train accuracy: 76.530% - Test accuracy: 73.107%\n"
     ]
    },
    {
     "name": "stdout",
     "output_type": "stream",
     "text": [
      "Epoch  21/30  - Train accuracy: 77.504% - Test accuracy: 71.665%\n"
     ]
    },
    {
     "name": "stdout",
     "output_type": "stream",
     "text": [
      "Epoch  22/30  - Train accuracy: 78.209% - Test accuracy: 72.857%\n"
     ]
    },
    {
     "name": "stdout",
     "output_type": "stream",
     "text": [
      "Epoch  23/30  - Train accuracy: 79.391% - Test accuracy: 73.968%\n"
     ]
    },
    {
     "name": "stdout",
     "output_type": "stream",
     "text": [
      "Epoch  24/30  - Train accuracy: 80.457% - Test accuracy: 74.289%\n"
     ]
    },
    {
     "name": "stdout",
     "output_type": "stream",
     "text": [
      "Epoch  25/30  - Train accuracy: 81.286% - Test accuracy: 73.357%\n"
     ]
    },
    {
     "name": "stdout",
     "output_type": "stream",
     "text": [
      "Epoch  26/30  - Train accuracy: 82.131% - Test accuracy: 73.938%\n"
     ]
    },
    {
     "name": "stdout",
     "output_type": "stream",
     "text": [
      "Epoch  27/30  - Train accuracy: 83.117% - Test accuracy: 75.621%\n"
     ]
    },
    {
     "name": "stdout",
     "output_type": "stream",
     "text": [
      "Epoch  28/30  - Train accuracy: 83.794% - Test accuracy: 76.312%\n"
     ]
    },
    {
     "name": "stdout",
     "output_type": "stream",
     "text": [
      "Epoch  29/30  - Train accuracy: 84.675% - Test accuracy: 76.973%\n"
     ]
    },
    {
     "name": "stdout",
     "output_type": "stream",
     "text": [
      "Epoch  30/30  - Train accuracy: 85.232% - Test accuracy: 74.679%\n"
     ]
    },
    {
     "name": "stdout",
     "output_type": "stream",
     "text": [
      "----------------------------------------------------------------\n",
      "Running experiment with fwd_decay_inv = 0 and lrn_decay_inv=1000\n"
     ]
    },
    {
     "name": "stdout",
     "output_type": "stream",
     "text": [
      "Files already downloaded and verified\n"
     ]
    },
    {
     "name": "stdout",
     "output_type": "stream",
     "text": [
      "Files already downloaded and verified\n"
     ]
    },
    {
     "name": "stdout",
     "output_type": "stream",
     "text": [
      "Epoch   1/30  - Train accuracy: 09.932% - Test accuracy: 09.986%\n"
     ]
    },
    {
     "name": "stdout",
     "output_type": "stream",
     "text": [
      "Epoch   2/30  - Train accuracy: 13.393% - Test accuracy: 19.341%\n"
     ]
    },
    {
     "name": "stdout",
     "output_type": "stream",
     "text": [
      "Epoch   3/30  - Train accuracy: 23.842% - Test accuracy: 28.786%\n"
     ]
    },
    {
     "name": "stdout",
     "output_type": "stream",
     "text": [
      "Epoch   4/30  - Train accuracy: 33.598% - Test accuracy: 39.012%\n"
     ]
    },
    {
     "name": "stdout",
     "output_type": "stream",
     "text": [
      "Epoch   5/30  - Train accuracy: 42.208% - Test accuracy: 46.384%\n"
     ]
    },
    {
     "name": "stdout",
     "output_type": "stream",
     "text": [
      "Epoch   6/30  - Train accuracy: 48.333% - Test accuracy: 48.978%\n"
     ]
    },
    {
     "name": "stdout",
     "output_type": "stream",
     "text": [
      "Epoch   7/30  - Train accuracy: 52.480% - Test accuracy: 53.626%\n"
     ]
    },
    {
     "name": "stdout",
     "output_type": "stream",
     "text": [
      "Epoch   8/30  - Train accuracy: 55.937% - Test accuracy: 55.739%\n"
     ]
    },
    {
     "name": "stdout",
     "output_type": "stream",
     "text": [
      "Epoch   9/30  - Train accuracy: 59.143% - Test accuracy: 58.504%\n"
     ]
    },
    {
     "name": "stdout",
     "output_type": "stream",
     "text": [
      "Epoch  10/30  - Train accuracy: 61.859% - Test accuracy: 63.662%\n"
     ]
    },
    {
     "name": "stdout",
     "output_type": "stream",
     "text": [
      "Epoch  11/30  - Train accuracy: 63.654% - Test accuracy: 61.508%\n"
     ]
    },
    {
     "name": "stdout",
     "output_type": "stream",
     "text": [
      "Epoch  12/30  - Train accuracy: 65.777% - Test accuracy: 66.386%\n"
     ]
    },
    {
     "name": "stdout",
     "output_type": "stream",
     "text": [
      "Epoch  13/30  - Train accuracy: 67.476% - Test accuracy: 66.797%\n"
     ]
    },
    {
     "name": "stdout",
     "output_type": "stream",
     "text": [
      "Epoch  14/30  - Train accuracy: 69.359% - Test accuracy: 68.710%\n"
     ]
    },
    {
     "name": "stdout",
     "output_type": "stream",
     "text": [
      "Epoch  15/30  - Train accuracy: 70.733% - Test accuracy: 65.505%\n"
     ]
    },
    {
     "name": "stdout",
     "output_type": "stream",
     "text": [
      "Epoch  16/30  - Train accuracy: 71.534% - Test accuracy: 70.483%\n"
     ]
    },
    {
     "name": "stdout",
     "output_type": "stream",
     "text": [
      "Epoch  17/30  - Train accuracy: 73.065% - Test accuracy: 70.333%\n"
     ]
    },
    {
     "name": "stdout",
     "output_type": "stream",
     "text": [
      "Epoch  18/30  - Train accuracy: 74.299% - Test accuracy: 71.524%\n"
     ]
    },
    {
     "name": "stdout",
     "output_type": "stream",
     "text": [
      "Epoch  19/30  - Train accuracy: 75.417% - Test accuracy: 72.937%\n"
     ]
    },
    {
     "name": "stdout",
     "output_type": "stream",
     "text": [
      "Epoch  20/30  - Train accuracy: 76.583% - Test accuracy: 73.698%\n"
     ]
    },
    {
     "name": "stdout",
     "output_type": "stream",
     "text": [
      "Epoch  21/30  - Train accuracy: 77.812% - Test accuracy: 73.047%\n"
     ]
    },
    {
     "name": "stdout",
     "output_type": "stream",
     "text": [
      "Epoch  22/30  - Train accuracy: 78.185% - Test accuracy: 73.287%\n"
     ]
    },
    {
     "name": "stdout",
     "output_type": "stream",
     "text": [
      "Epoch  23/30  - Train accuracy: 79.375% - Test accuracy: 75.531%\n"
     ]
    },
    {
     "name": "stdout",
     "output_type": "stream",
     "text": [
      "Epoch  24/30  - Train accuracy: 80.052% - Test accuracy: 75.471%\n"
     ]
    },
    {
     "name": "stdout",
     "output_type": "stream",
     "text": [
      "Epoch  25/30  - Train accuracy: 81.110% - Test accuracy: 73.718%\n"
     ]
    },
    {
     "name": "stdout",
     "output_type": "stream",
     "text": [
      "Epoch  26/30  - Train accuracy: 81.562% - Test accuracy: 74.810%\n"
     ]
    },
    {
     "name": "stdout",
     "output_type": "stream",
     "text": [
      "Epoch  27/30  - Train accuracy: 82.636% - Test accuracy: 76.883%\n"
     ]
    },
    {
     "name": "stdout",
     "output_type": "stream",
     "text": [
      "Epoch  28/30  - Train accuracy: 83.490% - Test accuracy: 77.063%\n"
     ]
    },
    {
     "name": "stdout",
     "output_type": "stream",
     "text": [
      "Epoch  29/30  - Train accuracy: 84.046% - Test accuracy: 77.494%\n"
     ]
    },
    {
     "name": "stdout",
     "output_type": "stream",
     "text": [
      "Epoch  30/30  - Train accuracy: 84.471% - Test accuracy: 77.334%\n"
     ]
    },
    {
     "name": "stdout",
     "output_type": "stream",
     "text": [
      "----------------------------------------------------------------\n",
      "Running experiment with fwd_decay_inv = 20000 and lrn_decay_inv=0\n"
     ]
    },
    {
     "name": "stdout",
     "output_type": "stream",
     "text": [
      "Files already downloaded and verified\n"
     ]
    },
    {
     "name": "stdout",
     "output_type": "stream",
     "text": [
      "Files already downloaded and verified\n"
     ]
    },
    {
     "name": "stdout",
     "output_type": "stream",
     "text": [
      "Epoch   1/30  - Train accuracy: 09.940% - Test accuracy: 09.986%\n"
     ]
    },
    {
     "name": "stdout",
     "output_type": "stream",
     "text": [
      "Epoch   2/30  - Train accuracy: 13.574% - Test accuracy: 18.770%\n"
     ]
    },
    {
     "name": "stdout",
     "output_type": "stream",
     "text": [
      "Epoch   3/30  - Train accuracy: 23.986% - Test accuracy: 28.486%\n"
     ]
    },
    {
     "name": "stdout",
     "output_type": "stream",
     "text": [
      "Epoch   4/30  - Train accuracy: 33.337% - Test accuracy: 38.221%\n"
     ]
    },
    {
     "name": "stdout",
     "output_type": "stream",
     "text": [
      "Epoch   5/30  - Train accuracy: 42.043% - Test accuracy: 45.843%\n"
     ]
    },
    {
     "name": "stdout",
     "output_type": "stream",
     "text": [
      "Epoch   6/30  - Train accuracy: 48.013% - Test accuracy: 48.798%\n"
     ]
    },
    {
     "name": "stdout",
     "output_type": "stream",
     "text": [
      "Epoch   7/30  - Train accuracy: 52.003% - Test accuracy: 52.935%\n"
     ]
    },
    {
     "name": "stdout",
     "output_type": "stream",
     "text": [
      "Epoch   8/30  - Train accuracy: 55.385% - Test accuracy: 54.918%\n"
     ]
    },
    {
     "name": "stdout",
     "output_type": "stream",
     "text": [
      "Epoch   9/30  - Train accuracy: 59.038% - Test accuracy: 58.423%\n"
     ]
    },
    {
     "name": "stdout",
     "output_type": "stream",
     "text": [
      "Epoch  10/30  - Train accuracy: 62.035% - Test accuracy: 62.560%\n"
     ]
    },
    {
     "name": "stdout",
     "output_type": "stream",
     "text": [
      "Epoch  11/30  - Train accuracy: 63.774% - Test accuracy: 62.510%\n"
     ]
    },
    {
     "name": "stdout",
     "output_type": "stream",
     "text": [
      "Epoch  12/30  - Train accuracy: 65.785% - Test accuracy: 65.895%\n"
     ]
    },
    {
     "name": "stdout",
     "output_type": "stream",
     "text": [
      "Epoch  13/30  - Train accuracy: 67.488% - Test accuracy: 67.388%\n"
     ]
    },
    {
     "name": "stdout",
     "output_type": "stream",
     "text": [
      "Epoch  14/30  - Train accuracy: 69.271% - Test accuracy: 68.750%\n"
     ]
    },
    {
     "name": "stdout",
     "output_type": "stream",
     "text": [
      "Epoch  15/30  - Train accuracy: 70.861% - Test accuracy: 64.513%\n"
     ]
    },
    {
     "name": "stdout",
     "output_type": "stream",
     "text": [
      "Epoch  16/30  - Train accuracy: 71.478% - Test accuracy: 69.782%\n"
     ]
    },
    {
     "name": "stdout",
     "output_type": "stream",
     "text": [
      "Epoch  17/30  - Train accuracy: 72.909% - Test accuracy: 70.883%\n"
     ]
    },
    {
     "name": "stdout",
     "output_type": "stream",
     "text": [
      "Epoch  18/30  - Train accuracy: 74.223% - Test accuracy: 71.314%\n"
     ]
    },
    {
     "name": "stdout",
     "output_type": "stream",
     "text": [
      "Epoch  19/30  - Train accuracy: 75.561% - Test accuracy: 73.738%\n"
     ]
    },
    {
     "name": "stdout",
     "output_type": "stream",
     "text": [
      "Epoch  20/30  - Train accuracy: 76.683% - Test accuracy: 73.878%\n"
     ]
    },
    {
     "name": "stdout",
     "output_type": "stream",
     "text": [
      "Epoch  21/30  - Train accuracy: 77.700% - Test accuracy: 71.965%\n"
     ]
    },
    {
     "name": "stdout",
     "output_type": "stream",
     "text": [
      "Epoch  22/30  - Train accuracy: 78.393% - Test accuracy: 72.286%\n"
     ]
    },
    {
     "name": "stdout",
     "output_type": "stream",
     "text": [
      "Epoch  23/30  - Train accuracy: 79.367% - Test accuracy: 74.860%\n"
     ]
    },
    {
     "name": "stdout",
     "output_type": "stream",
     "text": [
      "Epoch  24/30  - Train accuracy: 80.349% - Test accuracy: 74.950%\n"
     ]
    },
    {
     "name": "stdout",
     "output_type": "stream",
     "text": [
      "Epoch  25/30  - Train accuracy: 81.595% - Test accuracy: 72.576%\n"
     ]
    },
    {
     "name": "stdout",
     "output_type": "stream",
     "text": [
      "Epoch  26/30  - Train accuracy: 82.091% - Test accuracy: 73.828%\n"
     ]
    },
    {
     "name": "stdout",
     "output_type": "stream",
     "text": [
      "Epoch  27/30  - Train accuracy: 82.825% - Test accuracy: 75.871%\n"
     ]
    },
    {
     "name": "stdout",
     "output_type": "stream",
     "text": [
      "Epoch  28/30  - Train accuracy: 83.838% - Test accuracy: 75.501%\n"
     ]
    },
    {
     "name": "stdout",
     "output_type": "stream",
     "text": [
      "Epoch  29/30  - Train accuracy: 84.696% - Test accuracy: 76.192%\n"
     ]
    },
    {
     "name": "stdout",
     "output_type": "stream",
     "text": [
      "Epoch  30/30  - Train accuracy: 85.681% - Test accuracy: 75.911%\n"
     ]
    },
    {
     "name": "stdout",
     "output_type": "stream",
     "text": [
      "----------------------------------------------------------------\n",
      "Running experiment with fwd_decay_inv = 20000 and lrn_decay_inv=3000\n"
     ]
    },
    {
     "name": "stdout",
     "output_type": "stream",
     "text": [
      "Files already downloaded and verified\n"
     ]
    },
    {
     "name": "stdout",
     "output_type": "stream",
     "text": [
      "Files already downloaded and verified\n"
     ]
    },
    {
     "name": "stdout",
     "output_type": "stream",
     "text": [
      "Epoch   1/30  - Train accuracy: 09.940% - Test accuracy: 09.986%\n"
     ]
    },
    {
     "name": "stdout",
     "output_type": "stream",
     "text": [
      "Epoch   2/30  - Train accuracy: 13.574% - Test accuracy: 18.770%\n"
     ]
    },
    {
     "name": "stdout",
     "output_type": "stream",
     "text": [
      "Epoch   3/30  - Train accuracy: 24.002% - Test accuracy: 28.556%\n"
     ]
    },
    {
     "name": "stdout",
     "output_type": "stream",
     "text": [
      "Epoch   4/30  - Train accuracy: 33.369% - Test accuracy: 38.381%\n"
     ]
    },
    {
     "name": "stdout",
     "output_type": "stream",
     "text": [
      "Epoch   5/30  - Train accuracy: 41.983% - Test accuracy: 46.244%\n"
     ]
    },
    {
     "name": "stdout",
     "output_type": "stream",
     "text": [
      "Epoch   6/30  - Train accuracy: 48.021% - Test accuracy: 48.638%\n"
     ]
    },
    {
     "name": "stdout",
     "output_type": "stream",
     "text": [
      "Epoch   7/30  - Train accuracy: 52.027% - Test accuracy: 53.045%\n"
     ]
    },
    {
     "name": "stdout",
     "output_type": "stream",
     "text": [
      "Epoch   8/30  - Train accuracy: 55.517% - Test accuracy: 55.298%\n"
     ]
    },
    {
     "name": "stdout",
     "output_type": "stream",
     "text": [
      "Epoch   9/30  - Train accuracy: 58.798% - Test accuracy: 58.584%\n"
     ]
    },
    {
     "name": "stdout",
     "output_type": "stream",
     "text": [
      "Epoch  10/30  - Train accuracy: 61.823% - Test accuracy: 62.720%\n"
     ]
    },
    {
     "name": "stdout",
     "output_type": "stream",
     "text": [
      "Epoch  11/30  - Train accuracy: 63.542% - Test accuracy: 61.518%\n"
     ]
    },
    {
     "name": "stdout",
     "output_type": "stream",
     "text": [
      "Epoch  12/30  - Train accuracy: 65.797% - Test accuracy: 65.755%\n"
     ]
    },
    {
     "name": "stdout",
     "output_type": "stream",
     "text": [
      "Epoch  13/30  - Train accuracy: 67.468% - Test accuracy: 67.027%\n"
     ]
    },
    {
     "name": "stdout",
     "output_type": "stream",
     "text": [
      "Epoch  14/30  - Train accuracy: 69.427% - Test accuracy: 68.480%\n"
     ]
    },
    {
     "name": "stdout",
     "output_type": "stream",
     "text": [
      "Epoch  15/30  - Train accuracy: 70.853% - Test accuracy: 64.864%\n"
     ]
    },
    {
     "name": "stdout",
     "output_type": "stream",
     "text": [
      "Epoch  16/30  - Train accuracy: 71.522% - Test accuracy: 69.651%\n"
     ]
    },
    {
     "name": "stdout",
     "output_type": "stream",
     "text": [
      "Epoch  17/30  - Train accuracy: 72.837% - Test accuracy: 71.354%\n"
     ]
    },
    {
     "name": "stdout",
     "output_type": "stream",
     "text": [
      "Epoch  18/30  - Train accuracy: 74.223% - Test accuracy: 71.044%\n"
     ]
    },
    {
     "name": "stdout",
     "output_type": "stream",
     "text": [
      "Epoch  19/30  - Train accuracy: 75.441% - Test accuracy: 73.087%\n"
     ]
    },
    {
     "name": "stdout",
     "output_type": "stream",
     "text": [
      "Epoch  20/30  - Train accuracy: 76.667% - Test accuracy: 72.406%\n"
     ]
    },
    {
     "name": "stdout",
     "output_type": "stream",
     "text": [
      "Epoch  21/30  - Train accuracy: 77.248% - Test accuracy: 71.414%\n"
     ]
    },
    {
     "name": "stdout",
     "output_type": "stream",
     "text": [
      "Epoch  22/30  - Train accuracy: 78.089% - Test accuracy: 72.546%\n"
     ]
    },
    {
     "name": "stdout",
     "output_type": "stream",
     "text": [
      "Epoch  23/30  - Train accuracy: 79.127% - Test accuracy: 74.870%\n"
     ]
    },
    {
     "name": "stdout",
     "output_type": "stream",
     "text": [
      "Epoch  24/30  - Train accuracy: 80.040% - Test accuracy: 74.369%\n"
     ]
    },
    {
     "name": "stdout",
     "output_type": "stream",
     "text": [
      "Epoch  25/30  - Train accuracy: 81.074% - Test accuracy: 73.568%\n"
     ]
    },
    {
     "name": "stdout",
     "output_type": "stream",
     "text": [
      "Epoch  26/30  - Train accuracy: 81.987% - Test accuracy: 74.329%\n"
     ]
    },
    {
     "name": "stdout",
     "output_type": "stream",
     "text": [
      "Epoch  27/30  - Train accuracy: 82.616% - Test accuracy: 75.150%\n"
     ]
    },
    {
     "name": "stdout",
     "output_type": "stream",
     "text": [
      "Epoch  28/30  - Train accuracy: 83.522% - Test accuracy: 75.551%\n"
     ]
    },
    {
     "name": "stdout",
     "output_type": "stream",
     "text": [
      "Epoch  29/30  - Train accuracy: 84.788% - Test accuracy: 77.123%\n"
     ]
    },
    {
     "name": "stdout",
     "output_type": "stream",
     "text": [
      "Epoch  30/30  - Train accuracy: 85.096% - Test accuracy: 75.721%\n"
     ]
    },
    {
     "name": "stdout",
     "output_type": "stream",
     "text": [
      "----------------------------------------------------------------\n",
      "Running experiment with fwd_decay_inv = 20000 and lrn_decay_inv=1000\n"
     ]
    },
    {
     "name": "stdout",
     "output_type": "stream",
     "text": [
      "Files already downloaded and verified\n"
     ]
    },
    {
     "name": "stdout",
     "output_type": "stream",
     "text": [
      "Files already downloaded and verified\n"
     ]
    },
    {
     "name": "stdout",
     "output_type": "stream",
     "text": [
      "Epoch   1/30  - Train accuracy: 09.932% - Test accuracy: 09.986%\n"
     ]
    },
    {
     "name": "stdout",
     "output_type": "stream",
     "text": [
      "Epoch   2/30  - Train accuracy: 13.393% - Test accuracy: 19.341%\n"
     ]
    },
    {
     "name": "stdout",
     "output_type": "stream",
     "text": [
      "Epoch   3/30  - Train accuracy: 23.846% - Test accuracy: 28.886%\n"
     ]
    },
    {
     "name": "stdout",
     "output_type": "stream",
     "text": [
      "Epoch   4/30  - Train accuracy: 33.626% - Test accuracy: 38.772%\n"
     ]
    },
    {
     "name": "stdout",
     "output_type": "stream",
     "text": [
      "Epoch   5/30  - Train accuracy: 42.192% - Test accuracy: 46.324%\n"
     ]
    },
    {
     "name": "stdout",
     "output_type": "stream",
     "text": [
      "Epoch   6/30  - Train accuracy: 48.269% - Test accuracy: 48.838%\n"
     ]
    },
    {
     "name": "stdout",
     "output_type": "stream",
     "text": [
      "Epoch   7/30  - Train accuracy: 52.416% - Test accuracy: 53.425%\n"
     ]
    },
    {
     "name": "stdout",
     "output_type": "stream",
     "text": [
      "Epoch   8/30  - Train accuracy: 55.942% - Test accuracy: 55.649%\n"
     ]
    },
    {
     "name": "stdout",
     "output_type": "stream",
     "text": [
      "Epoch   9/30  - Train accuracy: 59.127% - Test accuracy: 58.964%\n"
     ]
    },
    {
     "name": "stdout",
     "output_type": "stream",
     "text": [
      "Epoch  10/30  - Train accuracy: 61.755% - Test accuracy: 63.572%\n"
     ]
    },
    {
     "name": "stdout",
     "output_type": "stream",
     "text": [
      "Epoch  11/30  - Train accuracy: 63.810% - Test accuracy: 62.159%\n"
     ]
    },
    {
     "name": "stdout",
     "output_type": "stream",
     "text": [
      "Epoch  12/30  - Train accuracy: 65.465% - Test accuracy: 66.266%\n"
     ]
    },
    {
     "name": "stdout",
     "output_type": "stream",
     "text": [
      "Epoch  13/30  - Train accuracy: 67.492% - Test accuracy: 66.446%\n"
     ]
    },
    {
     "name": "stdout",
     "output_type": "stream",
     "text": [
      "Epoch  14/30  - Train accuracy: 69.223% - Test accuracy: 68.399%\n"
     ]
    },
    {
     "name": "stdout",
     "output_type": "stream",
     "text": [
      "Epoch  15/30  - Train accuracy: 70.757% - Test accuracy: 66.567%\n"
     ]
    },
    {
     "name": "stdout",
     "output_type": "stream",
     "text": [
      "Epoch  16/30  - Train accuracy: 71.422% - Test accuracy: 70.302%\n"
     ]
    },
    {
     "name": "stdout",
     "output_type": "stream",
     "text": [
      "Epoch  17/30  - Train accuracy: 73.077% - Test accuracy: 71.074%\n"
     ]
    },
    {
     "name": "stdout",
     "output_type": "stream",
     "text": [
      "Epoch  18/30  - Train accuracy: 74.095% - Test accuracy: 70.813%\n"
     ]
    },
    {
     "name": "stdout",
     "output_type": "stream",
     "text": [
      "Epoch  19/30  - Train accuracy: 75.132% - Test accuracy: 73.177%\n"
     ]
    },
    {
     "name": "stdout",
     "output_type": "stream",
     "text": [
      "Epoch  20/30  - Train accuracy: 76.178% - Test accuracy: 72.726%\n"
     ]
    },
    {
     "name": "stdout",
     "output_type": "stream",
     "text": [
      "Epoch  21/30  - Train accuracy: 77.568% - Test accuracy: 72.476%\n"
     ]
    },
    {
     "name": "stdout",
     "output_type": "stream",
     "text": [
      "Epoch  22/30  - Train accuracy: 78.161% - Test accuracy: 73.858%\n"
     ]
    },
    {
     "name": "stdout",
     "output_type": "stream",
     "text": [
      "Epoch  23/30  - Train accuracy: 79.026% - Test accuracy: 75.461%\n"
     ]
    },
    {
     "name": "stdout",
     "output_type": "stream",
     "text": [
      "Epoch  24/30  - Train accuracy: 79.876% - Test accuracy: 75.351%\n"
     ]
    },
    {
     "name": "stdout",
     "output_type": "stream",
     "text": [
      "Epoch  25/30  - Train accuracy: 80.853% - Test accuracy: 74.249%\n"
     ]
    },
    {
     "name": "stdout",
     "output_type": "stream",
     "text": [
      "Epoch  26/30  - Train accuracy: 81.611% - Test accuracy: 74.449%\n"
     ]
    },
    {
     "name": "stdout",
     "output_type": "stream",
     "text": [
      "Epoch  27/30  - Train accuracy: 82.424% - Test accuracy: 76.723%\n"
     ]
    },
    {
     "name": "stdout",
     "output_type": "stream",
     "text": [
      "Epoch  28/30  - Train accuracy: 83.245% - Test accuracy: 77.304%\n"
     ]
    },
    {
     "name": "stdout",
     "output_type": "stream",
     "text": [
      "Epoch  29/30  - Train accuracy: 83.862% - Test accuracy: 77.514%\n"
     ]
    },
    {
     "name": "stdout",
     "output_type": "stream",
     "text": [
      "Epoch  30/30  - Train accuracy: 84.563% - Test accuracy: 76.352%\n"
     ]
    },
    {
     "name": "stdout",
     "output_type": "stream",
     "text": [
      "----------------------------------------------------------------\n",
      "Running experiment with fwd_decay_inv = 15000 and lrn_decay_inv=0\n"
     ]
    },
    {
     "name": "stdout",
     "output_type": "stream",
     "text": [
      "Files already downloaded and verified\n"
     ]
    },
    {
     "name": "stdout",
     "output_type": "stream",
     "text": [
      "Files already downloaded and verified\n"
     ]
    },
    {
     "name": "stdout",
     "output_type": "stream",
     "text": [
      "Epoch   1/30  - Train accuracy: 09.940% - Test accuracy: 09.986%\n"
     ]
    },
    {
     "name": "stdout",
     "output_type": "stream",
     "text": [
      "Epoch   2/30  - Train accuracy: 13.598% - Test accuracy: 19.040%\n"
     ]
    },
    {
     "name": "stdout",
     "output_type": "stream",
     "text": [
      "Epoch   3/30  - Train accuracy: 24.030% - Test accuracy: 28.275%\n"
     ]
    },
    {
     "name": "stdout",
     "output_type": "stream",
     "text": [
      "Epoch   4/30  - Train accuracy: 33.401% - Test accuracy: 38.532%\n"
     ]
    },
    {
     "name": "stdout",
     "output_type": "stream",
     "text": [
      "Epoch   5/30  - Train accuracy: 41.931% - Test accuracy: 46.424%\n"
     ]
    },
    {
     "name": "stdout",
     "output_type": "stream",
     "text": [
      "Epoch   6/30  - Train accuracy: 48.037% - Test accuracy: 48.748%\n"
     ]
    },
    {
     "name": "stdout",
     "output_type": "stream",
     "text": [
      "Epoch   7/30  - Train accuracy: 51.871% - Test accuracy: 53.395%\n"
     ]
    },
    {
     "name": "stdout",
     "output_type": "stream",
     "text": [
      "Epoch   8/30  - Train accuracy: 55.264% - Test accuracy: 54.988%\n"
     ]
    },
    {
     "name": "stdout",
     "output_type": "stream",
     "text": [
      "Epoch   9/30  - Train accuracy: 58.786% - Test accuracy: 58.814%\n"
     ]
    },
    {
     "name": "stdout",
     "output_type": "stream",
     "text": [
      "Epoch  10/30  - Train accuracy: 61.943% - Test accuracy: 62.660%\n"
     ]
    },
    {
     "name": "stdout",
     "output_type": "stream",
     "text": [
      "Epoch  11/30  - Train accuracy: 63.630% - Test accuracy: 61.959%\n"
     ]
    },
    {
     "name": "stdout",
     "output_type": "stream",
     "text": [
      "Epoch  12/30  - Train accuracy: 65.829% - Test accuracy: 65.204%\n"
     ]
    },
    {
     "name": "stdout",
     "output_type": "stream",
     "text": [
      "Epoch  13/30  - Train accuracy: 67.512% - Test accuracy: 67.478%\n"
     ]
    },
    {
     "name": "stdout",
     "output_type": "stream",
     "text": [
      "Epoch  14/30  - Train accuracy: 69.479% - Test accuracy: 68.620%\n"
     ]
    },
    {
     "name": "stdout",
     "output_type": "stream",
     "text": [
      "Epoch  15/30  - Train accuracy: 70.613% - Test accuracy: 61.108%\n"
     ]
    },
    {
     "name": "stdout",
     "output_type": "stream",
     "text": [
      "Epoch  16/30  - Train accuracy: 71.358% - Test accuracy: 68.630%\n"
     ]
    },
    {
     "name": "stdout",
     "output_type": "stream",
     "text": [
      "Epoch  17/30  - Train accuracy: 72.600% - Test accuracy: 70.112%\n"
     ]
    },
    {
     "name": "stdout",
     "output_type": "stream",
     "text": [
      "Epoch  18/30  - Train accuracy: 74.351% - Test accuracy: 70.833%\n"
     ]
    },
    {
     "name": "stdout",
     "output_type": "stream",
     "text": [
      "Epoch  19/30  - Train accuracy: 75.268% - Test accuracy: 73.568%\n"
     ]
    },
    {
     "name": "stdout",
     "output_type": "stream",
     "text": [
      "Epoch  20/30  - Train accuracy: 76.450% - Test accuracy: 73.908%\n"
     ]
    },
    {
     "name": "stdout",
     "output_type": "stream",
     "text": [
      "Epoch  21/30  - Train accuracy: 77.576% - Test accuracy: 70.633%\n"
     ]
    },
    {
     "name": "stdout",
     "output_type": "stream",
     "text": [
      "Epoch  22/30  - Train accuracy: 78.013% - Test accuracy: 71.965%\n"
     ]
    },
    {
     "name": "stdout",
     "output_type": "stream",
     "text": [
      "Epoch  23/30  - Train accuracy: 79.303% - Test accuracy: 74.489%\n"
     ]
    },
    {
     "name": "stdout",
     "output_type": "stream",
     "text": [
      "Epoch  24/30  - Train accuracy: 80.357% - Test accuracy: 74.770%\n"
     ]
    },
    {
     "name": "stdout",
     "output_type": "stream",
     "text": [
      "Epoch  25/30  - Train accuracy: 81.178% - Test accuracy: 72.806%\n"
     ]
    },
    {
     "name": "stdout",
     "output_type": "stream",
     "text": [
      "Epoch  26/30  - Train accuracy: 81.775% - Test accuracy: 73.217%\n"
     ]
    },
    {
     "name": "stdout",
     "output_type": "stream",
     "text": [
      "Epoch  27/30  - Train accuracy: 82.616% - Test accuracy: 76.012%\n"
     ]
    },
    {
     "name": "stdout",
     "output_type": "stream",
     "text": [
      "Epoch  28/30  - Train accuracy: 83.297% - Test accuracy: 75.441%\n"
     ]
    },
    {
     "name": "stdout",
     "output_type": "stream",
     "text": [
      "Epoch  29/30  - Train accuracy: 84.571% - Test accuracy: 77.284%\n"
     ]
    },
    {
     "name": "stdout",
     "output_type": "stream",
     "text": [
      "Epoch  30/30  - Train accuracy: 85.365% - Test accuracy: 76.292%\n"
     ]
    },
    {
     "name": "stdout",
     "output_type": "stream",
     "text": [
      "----------------------------------------------------------------\n",
      "Running experiment with fwd_decay_inv = 15000 and lrn_decay_inv=3000\n"
     ]
    },
    {
     "name": "stdout",
     "output_type": "stream",
     "text": [
      "Files already downloaded and verified\n"
     ]
    },
    {
     "name": "stdout",
     "output_type": "stream",
     "text": [
      "Files already downloaded and verified\n"
     ]
    },
    {
     "name": "stdout",
     "output_type": "stream",
     "text": [
      "Epoch   1/30  - Train accuracy: 09.940% - Test accuracy: 09.986%\n"
     ]
    },
    {
     "name": "stdout",
     "output_type": "stream",
     "text": [
      "Epoch   2/30  - Train accuracy: 13.598% - Test accuracy: 19.040%\n"
     ]
    },
    {
     "name": "stdout",
     "output_type": "stream",
     "text": [
      "Epoch   3/30  - Train accuracy: 24.022% - Test accuracy: 28.265%\n"
     ]
    },
    {
     "name": "stdout",
     "output_type": "stream",
     "text": [
      "Epoch   4/30  - Train accuracy: 33.478% - Test accuracy: 38.582%\n"
     ]
    },
    {
     "name": "stdout",
     "output_type": "stream",
     "text": [
      "Epoch   5/30  - Train accuracy: 41.883% - Test accuracy: 46.244%\n"
     ]
    },
    {
     "name": "stdout",
     "output_type": "stream",
     "text": [
      "Epoch   6/30  - Train accuracy: 48.129% - Test accuracy: 48.758%\n"
     ]
    },
    {
     "name": "stdout",
     "output_type": "stream",
     "text": [
      "Epoch   7/30  - Train accuracy: 51.863% - Test accuracy: 53.075%\n"
     ]
    },
    {
     "name": "stdout",
     "output_type": "stream",
     "text": [
      "Epoch   8/30  - Train accuracy: 55.417% - Test accuracy: 55.789%\n"
     ]
    },
    {
     "name": "stdout",
     "output_type": "stream",
     "text": [
      "Epoch   9/30  - Train accuracy: 58.850% - Test accuracy: 57.993%\n"
     ]
    },
    {
     "name": "stdout",
     "output_type": "stream",
     "text": [
      "Epoch  10/30  - Train accuracy: 61.703% - Test accuracy: 62.871%\n"
     ]
    },
    {
     "name": "stdout",
     "output_type": "stream",
     "text": [
      "Epoch  11/30  - Train accuracy: 63.794% - Test accuracy: 61.538%\n"
     ]
    },
    {
     "name": "stdout",
     "output_type": "stream",
     "text": [
      "Epoch  12/30  - Train accuracy: 65.757% - Test accuracy: 65.024%\n"
     ]
    },
    {
     "name": "stdout",
     "output_type": "stream",
     "text": [
      "Epoch  13/30  - Train accuracy: 67.340% - Test accuracy: 67.448%\n"
     ]
    },
    {
     "name": "stdout",
     "output_type": "stream",
     "text": [
      "Epoch  14/30  - Train accuracy: 69.287% - Test accuracy: 68.450%\n"
     ]
    },
    {
     "name": "stdout",
     "output_type": "stream",
     "text": [
      "Epoch  15/30  - Train accuracy: 70.537% - Test accuracy: 64.603%\n"
     ]
    },
    {
     "name": "stdout",
     "output_type": "stream",
     "text": [
      "Epoch  16/30  - Train accuracy: 71.378% - Test accuracy: 69.872%\n"
     ]
    },
    {
     "name": "stdout",
     "output_type": "stream",
     "text": [
      "Epoch  17/30  - Train accuracy: 72.712% - Test accuracy: 71.184%\n"
     ]
    },
    {
     "name": "stdout",
     "output_type": "stream",
     "text": [
      "Epoch  18/30  - Train accuracy: 74.155% - Test accuracy: 70.923%\n"
     ]
    },
    {
     "name": "stdout",
     "output_type": "stream",
     "text": [
      "Epoch  19/30  - Train accuracy: 75.200% - Test accuracy: 73.277%\n"
     ]
    },
    {
     "name": "stdout",
     "output_type": "stream",
     "text": [
      "Epoch  20/30  - Train accuracy: 76.354% - Test accuracy: 73.257%\n"
     ]
    },
    {
     "name": "stdout",
     "output_type": "stream",
     "text": [
      "Epoch  21/30  - Train accuracy: 77.171% - Test accuracy: 70.473%\n"
     ]
    },
    {
     "name": "stdout",
     "output_type": "stream",
     "text": [
      "Epoch  22/30  - Train accuracy: 77.957% - Test accuracy: 71.625%\n"
     ]
    },
    {
     "name": "stdout",
     "output_type": "stream",
     "text": [
      "Epoch  23/30  - Train accuracy: 78.914% - Test accuracy: 74.299%\n"
     ]
    },
    {
     "name": "stdout",
     "output_type": "stream",
     "text": [
      "Epoch  24/30  - Train accuracy: 79.852% - Test accuracy: 73.928%\n"
     ]
    },
    {
     "name": "stdout",
     "output_type": "stream",
     "text": [
      "Epoch  25/30  - Train accuracy: 80.950% - Test accuracy: 72.937%\n"
     ]
    },
    {
     "name": "stdout",
     "output_type": "stream",
     "text": [
      "Epoch  26/30  - Train accuracy: 81.719% - Test accuracy: 74.309%\n"
     ]
    },
    {
     "name": "stdout",
     "output_type": "stream",
     "text": [
      "Epoch  27/30  - Train accuracy: 82.380% - Test accuracy: 76.092%\n"
     ]
    },
    {
     "name": "stdout",
     "output_type": "stream",
     "text": [
      "Epoch  28/30  - Train accuracy: 83.297% - Test accuracy: 75.200%\n"
     ]
    },
    {
     "name": "stdout",
     "output_type": "stream",
     "text": [
      "Epoch  29/30  - Train accuracy: 84.211% - Test accuracy: 76.953%\n"
     ]
    },
    {
     "name": "stdout",
     "output_type": "stream",
     "text": [
      "Epoch  30/30  - Train accuracy: 85.008% - Test accuracy: 76.522%\n"
     ]
    },
    {
     "name": "stdout",
     "output_type": "stream",
     "text": [
      "----------------------------------------------------------------\n",
      "Running experiment with fwd_decay_inv = 15000 and lrn_decay_inv=1000\n"
     ]
    },
    {
     "name": "stdout",
     "output_type": "stream",
     "text": [
      "Files already downloaded and verified\n"
     ]
    },
    {
     "name": "stdout",
     "output_type": "stream",
     "text": [
      "Files already downloaded and verified\n"
     ]
    },
    {
     "name": "stdout",
     "output_type": "stream",
     "text": [
      "Epoch   1/30  - Train accuracy: 09.932% - Test accuracy: 09.986%\n"
     ]
    },
    {
     "name": "stdout",
     "output_type": "stream",
     "text": [
      "Epoch   2/30  - Train accuracy: 13.389% - Test accuracy: 19.361%\n"
     ]
    },
    {
     "name": "stdout",
     "output_type": "stream",
     "text": [
      "Epoch   3/30  - Train accuracy: 23.834% - Test accuracy: 29.016%\n"
     ]
    },
    {
     "name": "stdout",
     "output_type": "stream",
     "text": [
      "Epoch   4/30  - Train accuracy: 33.590% - Test accuracy: 39.062%\n"
     ]
    },
    {
     "name": "stdout",
     "output_type": "stream",
     "text": [
      "Epoch   5/30  - Train accuracy: 42.188% - Test accuracy: 46.605%\n"
     ]
    },
    {
     "name": "stdout",
     "output_type": "stream",
     "text": [
      "Epoch   6/30  - Train accuracy: 48.297% - Test accuracy: 49.399%\n"
     ]
    },
    {
     "name": "stdout",
     "output_type": "stream",
     "text": [
      "Epoch   7/30  - Train accuracy: 52.240% - Test accuracy: 53.706%\n"
     ]
    },
    {
     "name": "stdout",
     "output_type": "stream",
     "text": [
      "Epoch   8/30  - Train accuracy: 55.857% - Test accuracy: 56.170%\n"
     ]
    },
    {
     "name": "stdout",
     "output_type": "stream",
     "text": [
      "Epoch   9/30  - Train accuracy: 58.918% - Test accuracy: 58.283%\n"
     ]
    },
    {
     "name": "stdout",
     "output_type": "stream",
     "text": [
      "Epoch  10/30  - Train accuracy: 61.783% - Test accuracy: 63.301%\n"
     ]
    },
    {
     "name": "stdout",
     "output_type": "stream",
     "text": [
      "Epoch  11/30  - Train accuracy: 63.794% - Test accuracy: 62.159%\n"
     ]
    },
    {
     "name": "stdout",
     "output_type": "stream",
     "text": [
      "Epoch  12/30  - Train accuracy: 65.657% - Test accuracy: 65.605%\n"
     ]
    },
    {
     "name": "stdout",
     "output_type": "stream",
     "text": [
      "Epoch  13/30  - Train accuracy: 67.444% - Test accuracy: 66.166%\n"
     ]
    },
    {
     "name": "stdout",
     "output_type": "stream",
     "text": [
      "Epoch  14/30  - Train accuracy: 69.199% - Test accuracy: 68.820%\n"
     ]
    },
    {
     "name": "stdout",
     "output_type": "stream",
     "text": [
      "Epoch  15/30  - Train accuracy: 70.817% - Test accuracy: 65.775%\n"
     ]
    },
    {
     "name": "stdout",
     "output_type": "stream",
     "text": [
      "Epoch  16/30  - Train accuracy: 71.238% - Test accuracy: 70.413%\n"
     ]
    },
    {
     "name": "stdout",
     "output_type": "stream",
     "text": [
      "Epoch  17/30  - Train accuracy: 73.185% - Test accuracy: 70.583%\n"
     ]
    },
    {
     "name": "stdout",
     "output_type": "stream",
     "text": [
      "Epoch  18/30  - Train accuracy: 74.259% - Test accuracy: 71.945%\n"
     ]
    },
    {
     "name": "stdout",
     "output_type": "stream",
     "text": [
      "Epoch  19/30  - Train accuracy: 75.264% - Test accuracy: 73.197%\n"
     ]
    },
    {
     "name": "stdout",
     "output_type": "stream",
     "text": [
      "Epoch  20/30  - Train accuracy: 76.370% - Test accuracy: 73.568%\n"
     ]
    },
    {
     "name": "stdout",
     "output_type": "stream",
     "text": [
      "Epoch  21/30  - Train accuracy: 77.544% - Test accuracy: 72.105%\n"
     ]
    },
    {
     "name": "stdout",
     "output_type": "stream",
     "text": [
      "Epoch  22/30  - Train accuracy: 77.989% - Test accuracy: 73.367%\n"
     ]
    },
    {
     "name": "stdout",
     "output_type": "stream",
     "text": [
      "Epoch  23/30  - Train accuracy: 79.042% - Test accuracy: 75.010%\n"
     ]
    },
    {
     "name": "stdout",
     "output_type": "stream",
     "text": [
      "Epoch  24/30  - Train accuracy: 79.491% - Test accuracy: 74.910%\n"
     ]
    },
    {
     "name": "stdout",
     "output_type": "stream",
     "text": [
      "Epoch  25/30  - Train accuracy: 80.589% - Test accuracy: 72.776%\n"
     ]
    },
    {
     "name": "stdout",
     "output_type": "stream",
     "text": [
      "Epoch  26/30  - Train accuracy: 81.382% - Test accuracy: 74.269%\n"
     ]
    },
    {
     "name": "stdout",
     "output_type": "stream",
     "text": [
      "Epoch  27/30  - Train accuracy: 82.175% - Test accuracy: 76.653%\n"
     ]
    },
    {
     "name": "stdout",
     "output_type": "stream",
     "text": [
      "Epoch  28/30  - Train accuracy: 82.893% - Test accuracy: 76.873%\n"
     ]
    },
    {
     "name": "stdout",
     "output_type": "stream",
     "text": [
      "Epoch  29/30  - Train accuracy: 83.530% - Test accuracy: 77.544%\n"
     ]
    },
    {
     "name": "stdout",
     "output_type": "stream",
     "text": [
      "Epoch  30/30  - Train accuracy: 84.139% - Test accuracy: 77.013%\n"
     ]
    },
    {
     "name": "stdout",
     "output_type": "stream",
     "text": [
      "----------------------------------------------------------------\n",
      "Running experiment with fwd_decay_inv = 10000 and lrn_decay_inv=0\n"
     ]
    },
    {
     "name": "stdout",
     "output_type": "stream",
     "text": [
      "Files already downloaded and verified\n"
     ]
    },
    {
     "name": "stdout",
     "output_type": "stream",
     "text": [
      "Files already downloaded and verified\n"
     ]
    },
    {
     "name": "stdout",
     "output_type": "stream",
     "text": [
      "Epoch   1/30  - Train accuracy: 09.940% - Test accuracy: 09.986%\n"
     ]
    },
    {
     "name": "stdout",
     "output_type": "stream",
     "text": [
      "Epoch   2/30  - Train accuracy: 13.405% - Test accuracy: 18.730%\n"
     ]
    },
    {
     "name": "stdout",
     "output_type": "stream",
     "text": [
      "Epoch   3/30  - Train accuracy: 23.930% - Test accuracy: 28.415%\n"
     ]
    },
    {
     "name": "stdout",
     "output_type": "stream",
     "text": [
      "Epoch   4/30  - Train accuracy: 33.337% - Test accuracy: 38.482%\n"
     ]
    },
    {
     "name": "stdout",
     "output_type": "stream",
     "text": [
      "Epoch   5/30  - Train accuracy: 41.703% - Test accuracy: 46.194%\n"
     ]
    },
    {
     "name": "stdout",
     "output_type": "stream",
     "text": [
      "Epoch   6/30  - Train accuracy: 48.169% - Test accuracy: 48.197%\n"
     ]
    },
    {
     "name": "stdout",
     "output_type": "stream",
     "text": [
      "Epoch   7/30  - Train accuracy: 52.047% - Test accuracy: 52.704%\n"
     ]
    },
    {
     "name": "stdout",
     "output_type": "stream",
     "text": [
      "Epoch   8/30  - Train accuracy: 55.525% - Test accuracy: 55.599%\n"
     ]
    },
    {
     "name": "stdout",
     "output_type": "stream",
     "text": [
      "Epoch   9/30  - Train accuracy: 59.026% - Test accuracy: 59.225%\n"
     ]
    },
    {
     "name": "stdout",
     "output_type": "stream",
     "text": [
      "Epoch  10/30  - Train accuracy: 61.815% - Test accuracy: 63.081%\n"
     ]
    },
    {
     "name": "stdout",
     "output_type": "stream",
     "text": [
      "Epoch  11/30  - Train accuracy: 63.682% - Test accuracy: 62.240%\n"
     ]
    },
    {
     "name": "stdout",
     "output_type": "stream",
     "text": [
      "Epoch  12/30  - Train accuracy: 65.633% - Test accuracy: 65.345%\n"
     ]
    },
    {
     "name": "stdout",
     "output_type": "stream",
     "text": [
      "Epoch  13/30  - Train accuracy: 67.179% - Test accuracy: 67.468%\n"
     ]
    },
    {
     "name": "stdout",
     "output_type": "stream",
     "text": [
      "Epoch  14/30  - Train accuracy: 69.022% - Test accuracy: 68.810%\n"
     ]
    },
    {
     "name": "stdout",
     "output_type": "stream",
     "text": [
      "Epoch  15/30  - Train accuracy: 70.264% - Test accuracy: 64.012%\n"
     ]
    },
    {
     "name": "stdout",
     "output_type": "stream",
     "text": [
      "Epoch  16/30  - Train accuracy: 71.062% - Test accuracy: 68.880%\n"
     ]
    },
    {
     "name": "stdout",
     "output_type": "stream",
     "text": [
      "Epoch  17/30  - Train accuracy: 72.460% - Test accuracy: 69.892%\n"
     ]
    },
    {
     "name": "stdout",
     "output_type": "stream",
     "text": [
      "Epoch  18/30  - Train accuracy: 73.662% - Test accuracy: 70.913%\n"
     ]
    },
    {
     "name": "stdout",
     "output_type": "stream",
     "text": [
      "Epoch  19/30  - Train accuracy: 74.812% - Test accuracy: 73.788%\n"
     ]
    },
    {
     "name": "stdout",
     "output_type": "stream",
     "text": [
      "Epoch  20/30  - Train accuracy: 76.018% - Test accuracy: 72.666%\n"
     ]
    },
    {
     "name": "stdout",
     "output_type": "stream",
     "text": [
      "Epoch  21/30  - Train accuracy: 76.651% - Test accuracy: 70.082%\n"
     ]
    },
    {
     "name": "stdout",
     "output_type": "stream",
     "text": [
      "Epoch  22/30  - Train accuracy: 77.604% - Test accuracy: 72.165%\n"
     ]
    },
    {
     "name": "stdout",
     "output_type": "stream",
     "text": [
      "Epoch  23/30  - Train accuracy: 78.654% - Test accuracy: 75.110%\n"
     ]
    },
    {
     "name": "stdout",
     "output_type": "stream",
     "text": [
      "Epoch  24/30  - Train accuracy: 79.295% - Test accuracy: 74.439%\n"
     ]
    },
    {
     "name": "stdout",
     "output_type": "stream",
     "text": [
      "Epoch  25/30  - Train accuracy: 80.349% - Test accuracy: 73.678%\n"
     ]
    },
    {
     "name": "stdout",
     "output_type": "stream",
     "text": [
      "Epoch  26/30  - Train accuracy: 80.917% - Test accuracy: 73.538%\n"
     ]
    },
    {
     "name": "stdout",
     "output_type": "stream",
     "text": [
      "Epoch  27/30  - Train accuracy: 81.679% - Test accuracy: 75.150%\n"
     ]
    },
    {
     "name": "stdout",
     "output_type": "stream",
     "text": [
      "Epoch  28/30  - Train accuracy: 82.608% - Test accuracy: 74.950%\n"
     ]
    },
    {
     "name": "stdout",
     "output_type": "stream",
     "text": [
      "Epoch  29/30  - Train accuracy: 83.365% - Test accuracy: 76.402%\n"
     ]
    },
    {
     "name": "stdout",
     "output_type": "stream",
     "text": [
      "Epoch  30/30  - Train accuracy: 84.034% - Test accuracy: 75.090%\n"
     ]
    },
    {
     "name": "stdout",
     "output_type": "stream",
     "text": [
      "----------------------------------------------------------------\n",
      "Running experiment with fwd_decay_inv = 10000 and lrn_decay_inv=3000\n"
     ]
    },
    {
     "name": "stdout",
     "output_type": "stream",
     "text": [
      "Files already downloaded and verified\n"
     ]
    },
    {
     "name": "stdout",
     "output_type": "stream",
     "text": [
      "Files already downloaded and verified\n"
     ]
    },
    {
     "name": "stdout",
     "output_type": "stream",
     "text": [
      "Epoch   1/30  - Train accuracy: 09.940% - Test accuracy: 09.986%\n"
     ]
    },
    {
     "name": "stdout",
     "output_type": "stream",
     "text": [
      "Epoch   2/30  - Train accuracy: 13.405% - Test accuracy: 18.730%\n"
     ]
    },
    {
     "name": "stdout",
     "output_type": "stream",
     "text": [
      "Epoch   3/30  - Train accuracy: 23.930% - Test accuracy: 28.375%\n"
     ]
    },
    {
     "name": "stdout",
     "output_type": "stream",
     "text": [
      "Epoch   4/30  - Train accuracy: 33.345% - Test accuracy: 38.632%\n"
     ]
    },
    {
     "name": "stdout",
     "output_type": "stream",
     "text": [
      "Epoch   5/30  - Train accuracy: 41.775% - Test accuracy: 45.603%\n"
     ]
    },
    {
     "name": "stdout",
     "output_type": "stream",
     "text": [
      "Epoch   6/30  - Train accuracy: 48.061% - Test accuracy: 48.608%\n"
     ]
    },
    {
     "name": "stdout",
     "output_type": "stream",
     "text": [
      "Epoch   7/30  - Train accuracy: 51.879% - Test accuracy: 53.626%\n"
     ]
    },
    {
     "name": "stdout",
     "output_type": "stream",
     "text": [
      "Epoch   8/30  - Train accuracy: 55.537% - Test accuracy: 54.427%\n"
     ]
    },
    {
     "name": "stdout",
     "output_type": "stream",
     "text": [
      "Epoch   9/30  - Train accuracy: 58.974% - Test accuracy: 58.213%\n"
     ]
    },
    {
     "name": "stdout",
     "output_type": "stream",
     "text": [
      "Epoch  10/30  - Train accuracy: 61.635% - Test accuracy: 62.330%\n"
     ]
    },
    {
     "name": "stdout",
     "output_type": "stream",
     "text": [
      "Epoch  11/30  - Train accuracy: 63.538% - Test accuracy: 61.969%\n"
     ]
    },
    {
     "name": "stdout",
     "output_type": "stream",
     "text": [
      "Epoch  12/30  - Train accuracy: 65.501% - Test accuracy: 65.044%\n"
     ]
    },
    {
     "name": "stdout",
     "output_type": "stream",
     "text": [
      "Epoch  13/30  - Train accuracy: 67.123% - Test accuracy: 67.047%\n"
     ]
    },
    {
     "name": "stdout",
     "output_type": "stream",
     "text": [
      "Epoch  14/30  - Train accuracy: 68.918% - Test accuracy: 68.419%\n"
     ]
    },
    {
     "name": "stdout",
     "output_type": "stream",
     "text": [
      "Epoch  15/30  - Train accuracy: 70.296% - Test accuracy: 61.338%\n"
     ]
    },
    {
     "name": "stdout",
     "output_type": "stream",
     "text": [
      "Epoch  16/30  - Train accuracy: 70.893% - Test accuracy: 69.601%\n"
     ]
    },
    {
     "name": "stdout",
     "output_type": "stream",
     "text": [
      "Epoch  17/30  - Train accuracy: 72.304% - Test accuracy: 70.913%\n"
     ]
    },
    {
     "name": "stdout",
     "output_type": "stream",
     "text": [
      "Epoch  18/30  - Train accuracy: 73.786% - Test accuracy: 70.002%\n"
     ]
    },
    {
     "name": "stdout",
     "output_type": "stream",
     "text": [
      "Epoch  19/30  - Train accuracy: 74.720% - Test accuracy: 73.628%\n"
     ]
    },
    {
     "name": "stdout",
     "output_type": "stream",
     "text": [
      "Epoch  20/30  - Train accuracy: 75.797% - Test accuracy: 73.187%\n"
     ]
    },
    {
     "name": "stdout",
     "output_type": "stream",
     "text": [
      "Epoch  21/30  - Train accuracy: 76.659% - Test accuracy: 70.833%\n"
     ]
    },
    {
     "name": "stdout",
     "output_type": "stream",
     "text": [
      "Epoch  22/30  - Train accuracy: 77.328% - Test accuracy: 72.236%\n"
     ]
    },
    {
     "name": "stdout",
     "output_type": "stream",
     "text": [
      "Epoch  23/30  - Train accuracy: 78.345% - Test accuracy: 74.960%\n"
     ]
    },
    {
     "name": "stdout",
     "output_type": "stream",
     "text": [
      "Epoch  24/30  - Train accuracy: 79.179% - Test accuracy: 73.828%\n"
     ]
    },
    {
     "name": "stdout",
     "output_type": "stream",
     "text": [
      "Epoch  25/30  - Train accuracy: 80.108% - Test accuracy: 72.626%\n"
     ]
    },
    {
     "name": "stdout",
     "output_type": "stream",
     "text": [
      "Epoch  26/30  - Train accuracy: 80.585% - Test accuracy: 73.167%\n"
     ]
    },
    {
     "name": "stdout",
     "output_type": "stream",
     "text": [
      "Epoch  27/30  - Train accuracy: 81.338% - Test accuracy: 75.601%\n"
     ]
    },
    {
     "name": "stdout",
     "output_type": "stream",
     "text": [
      "Epoch  28/30  - Train accuracy: 82.388% - Test accuracy: 74.940%\n"
     ]
    },
    {
     "name": "stdout",
     "output_type": "stream",
     "text": [
      "Epoch  29/30  - Train accuracy: 83.181% - Test accuracy: 76.492%\n"
     ]
    },
    {
     "name": "stdout",
     "output_type": "stream",
     "text": [
      "Epoch  30/30  - Train accuracy: 83.758% - Test accuracy: 74.469%\n"
     ]
    },
    {
     "name": "stdout",
     "output_type": "stream",
     "text": [
      "----------------------------------------------------------------\n",
      "Running experiment with fwd_decay_inv = 10000 and lrn_decay_inv=1000\n"
     ]
    },
    {
     "name": "stdout",
     "output_type": "stream",
     "text": [
      "Files already downloaded and verified\n"
     ]
    },
    {
     "name": "stdout",
     "output_type": "stream",
     "text": [
      "Files already downloaded and verified\n"
     ]
    },
    {
     "name": "stdout",
     "output_type": "stream",
     "text": [
      "Epoch   1/30  - Train accuracy: 09.932% - Test accuracy: 09.986%\n"
     ]
    },
    {
     "name": "stdout",
     "output_type": "stream",
     "text": [
      "Epoch   2/30  - Train accuracy: 13.438% - Test accuracy: 19.421%\n"
     ]
    },
    {
     "name": "stdout",
     "output_type": "stream",
     "text": [
      "Epoch   3/30  - Train accuracy: 23.858% - Test accuracy: 28.385%\n"
     ]
    },
    {
     "name": "stdout",
     "output_type": "stream",
     "text": [
      "Epoch   4/30  - Train accuracy: 33.474% - Test accuracy: 38.722%\n"
     ]
    },
    {
     "name": "stdout",
     "output_type": "stream",
     "text": [
      "Epoch   5/30  - Train accuracy: 41.899% - Test accuracy: 45.923%\n"
     ]
    },
    {
     "name": "stdout",
     "output_type": "stream",
     "text": [
      "Epoch   6/30  - Train accuracy: 48.157% - Test accuracy: 49.058%\n"
     ]
    },
    {
     "name": "stdout",
     "output_type": "stream",
     "text": [
      "Epoch   7/30  - Train accuracy: 52.432% - Test accuracy: 53.696%\n"
     ]
    },
    {
     "name": "stdout",
     "output_type": "stream",
     "text": [
      "Epoch   8/30  - Train accuracy: 55.693% - Test accuracy: 55.419%\n"
     ]
    },
    {
     "name": "stdout",
     "output_type": "stream",
     "text": [
      "Epoch   9/30  - Train accuracy: 58.842% - Test accuracy: 58.013%\n"
     ]
    },
    {
     "name": "stdout",
     "output_type": "stream",
     "text": [
      "Epoch  10/30  - Train accuracy: 61.651% - Test accuracy: 63.642%\n"
     ]
    },
    {
     "name": "stdout",
     "output_type": "stream",
     "text": [
      "Epoch  11/30  - Train accuracy: 63.454% - Test accuracy: 61.609%\n"
     ]
    },
    {
     "name": "stdout",
     "output_type": "stream",
     "text": [
      "Epoch  12/30  - Train accuracy: 65.593% - Test accuracy: 65.925%\n"
     ]
    },
    {
     "name": "stdout",
     "output_type": "stream",
     "text": [
      "Epoch  13/30  - Train accuracy: 67.324% - Test accuracy: 66.737%\n"
     ]
    },
    {
     "name": "stdout",
     "output_type": "stream",
     "text": [
      "Epoch  14/30  - Train accuracy: 68.974% - Test accuracy: 69.191%\n"
     ]
    },
    {
     "name": "stdout",
     "output_type": "stream",
     "text": [
      "Epoch  15/30  - Train accuracy: 70.441% - Test accuracy: 64.443%\n"
     ]
    },
    {
     "name": "stdout",
     "output_type": "stream",
     "text": [
      "Epoch  16/30  - Train accuracy: 71.082% - Test accuracy: 69.942%\n"
     ]
    },
    {
     "name": "stdout",
     "output_type": "stream",
     "text": [
      "Epoch  17/30  - Train accuracy: 72.580% - Test accuracy: 71.605%\n"
     ]
    },
    {
     "name": "stdout",
     "output_type": "stream",
     "text": [
      "Epoch  18/30  - Train accuracy: 74.018% - Test accuracy: 70.493%\n"
     ]
    },
    {
     "name": "stdout",
     "output_type": "stream",
     "text": [
      "Epoch  19/30  - Train accuracy: 74.800% - Test accuracy: 73.247%\n"
     ]
    },
    {
     "name": "stdout",
     "output_type": "stream",
     "text": [
      "Epoch  20/30  - Train accuracy: 75.893% - Test accuracy: 73.297%\n"
     ]
    },
    {
     "name": "stdout",
     "output_type": "stream",
     "text": [
      "Epoch  21/30  - Train accuracy: 77.087% - Test accuracy: 72.556%\n"
     ]
    },
    {
     "name": "stdout",
     "output_type": "stream",
     "text": [
      "Epoch  22/30  - Train accuracy: 77.536% - Test accuracy: 72.776%\n"
     ]
    },
    {
     "name": "stdout",
     "output_type": "stream",
     "text": [
      "Epoch  23/30  - Train accuracy: 78.458% - Test accuracy: 75.371%\n"
     ]
    },
    {
     "name": "stdout",
     "output_type": "stream",
     "text": [
      "Epoch  24/30  - Train accuracy: 79.235% - Test accuracy: 75.240%\n"
     ]
    },
    {
     "name": "stdout",
     "output_type": "stream",
     "text": [
      "Epoch  25/30  - Train accuracy: 80.192% - Test accuracy: 73.047%\n"
     ]
    },
    {
     "name": "stdout",
     "output_type": "stream",
     "text": [
      "Epoch  26/30  - Train accuracy: 80.737% - Test accuracy: 74.229%\n"
     ]
    },
    {
     "name": "stdout",
     "output_type": "stream",
     "text": [
      "Epoch  27/30  - Train accuracy: 81.406% - Test accuracy: 76.052%\n"
     ]
    },
    {
     "name": "stdout",
     "output_type": "stream",
     "text": [
      "Epoch  28/30  - Train accuracy: 81.895% - Test accuracy: 76.432%\n"
     ]
    },
    {
     "name": "stdout",
     "output_type": "stream",
     "text": [
      "Epoch  29/30  - Train accuracy: 82.837% - Test accuracy: 76.623%\n"
     ]
    },
    {
     "name": "stdout",
     "output_type": "stream",
     "text": [
      "Epoch  30/30  - Train accuracy: 83.337% - Test accuracy: 75.651%\n"
     ]
    },
    {
     "name": "stdout",
     "output_type": "stream",
     "text": [
      "----------------------------------------------------------------\n",
      "Running experiment with fwd_decay_inv = 5000 and lrn_decay_inv=0\n"
     ]
    },
    {
     "name": "stdout",
     "output_type": "stream",
     "text": [
      "Files already downloaded and verified\n"
     ]
    },
    {
     "name": "stdout",
     "output_type": "stream",
     "text": [
      "Files already downloaded and verified\n"
     ]
    },
    {
     "name": "stdout",
     "output_type": "stream",
     "text": [
      "Epoch   1/30  - Train accuracy: 09.996% - Test accuracy: 09.986%\n"
     ]
    },
    {
     "name": "stdout",
     "output_type": "stream",
     "text": [
      "Epoch   2/30  - Train accuracy: 13.446% - Test accuracy: 19.371%\n"
     ]
    },
    {
     "name": "stdout",
     "output_type": "stream",
     "text": [
      "Epoch   3/30  - Train accuracy: 23.738% - Test accuracy: 27.434%\n"
     ]
    },
    {
     "name": "stdout",
     "output_type": "stream",
     "text": [
      "Epoch   4/30  - Train accuracy: 33.033% - Test accuracy: 37.861%\n"
     ]
    },
    {
     "name": "stdout",
     "output_type": "stream",
     "text": [
      "Epoch   5/30  - Train accuracy: 41.538% - Test accuracy: 45.563%\n"
     ]
    },
    {
     "name": "stdout",
     "output_type": "stream",
     "text": [
      "Epoch   6/30  - Train accuracy: 47.780% - Test accuracy: 48.427%\n"
     ]
    },
    {
     "name": "stdout",
     "output_type": "stream",
     "text": [
      "Epoch   7/30  - Train accuracy: 51.599% - Test accuracy: 52.935%\n"
     ]
    },
    {
     "name": "stdout",
     "output_type": "stream",
     "text": [
      "Epoch   8/30  - Train accuracy: 54.808% - Test accuracy: 55.729%\n"
     ]
    },
    {
     "name": "stdout",
     "output_type": "stream",
     "text": [
      "Epoch   9/30  - Train accuracy: 58.333% - Test accuracy: 56.941%\n"
     ]
    },
    {
     "name": "stdout",
     "output_type": "stream",
     "text": [
      "Epoch  10/30  - Train accuracy: 60.982% - Test accuracy: 63.151%\n"
     ]
    },
    {
     "name": "stdout",
     "output_type": "stream",
     "text": [
      "Epoch  11/30  - Train accuracy: 62.796% - Test accuracy: 61.458%\n"
     ]
    },
    {
     "name": "stdout",
     "output_type": "stream",
     "text": [
      "Epoch  12/30  - Train accuracy: 64.535% - Test accuracy: 63.542%\n"
     ]
    },
    {
     "name": "stdout",
     "output_type": "stream",
     "text": [
      "Epoch  13/30  - Train accuracy: 66.338% - Test accuracy: 65.555%\n"
     ]
    },
    {
     "name": "stdout",
     "output_type": "stream",
     "text": [
      "Epoch  14/30  - Train accuracy: 67.652% - Test accuracy: 67.538%\n"
     ]
    },
    {
     "name": "stdout",
     "output_type": "stream",
     "text": [
      "Epoch  15/30  - Train accuracy: 69.123% - Test accuracy: 62.300%\n"
     ]
    },
    {
     "name": "stdout",
     "output_type": "stream",
     "text": [
      "Epoch  16/30  - Train accuracy: 69.527% - Test accuracy: 68.700%\n"
     ]
    },
    {
     "name": "stdout",
     "output_type": "stream",
     "text": [
      "Epoch  17/30  - Train accuracy: 70.789% - Test accuracy: 70.082%\n"
     ]
    },
    {
     "name": "stdout",
     "output_type": "stream",
     "text": [
      "Epoch  18/30  - Train accuracy: 72.071% - Test accuracy: 69.461%\n"
     ]
    },
    {
     "name": "stdout",
     "output_type": "stream",
     "text": [
      "Epoch  19/30  - Train accuracy: 73.025% - Test accuracy: 71.404%\n"
     ]
    },
    {
     "name": "stdout",
     "output_type": "stream",
     "text": [
      "Epoch  20/30  - Train accuracy: 74.275% - Test accuracy: 71.725%\n"
     ]
    },
    {
     "name": "stdout",
     "output_type": "stream",
     "text": [
      "Epoch  21/30  - Train accuracy: 74.683% - Test accuracy: 68.950%\n"
     ]
    },
    {
     "name": "stdout",
     "output_type": "stream",
     "text": [
      "Epoch  22/30  - Train accuracy: 75.128% - Test accuracy: 71.544%\n"
     ]
    },
    {
     "name": "stdout",
     "output_type": "stream",
     "text": [
      "Epoch  23/30  - Train accuracy: 76.194% - Test accuracy: 72.526%\n"
     ]
    },
    {
     "name": "stdout",
     "output_type": "stream",
     "text": [
      "Epoch  24/30  - Train accuracy: 76.619% - Test accuracy: 73.367%\n"
     ]
    },
    {
     "name": "stdout",
     "output_type": "stream",
     "text": [
      "Epoch  25/30  - Train accuracy: 77.480% - Test accuracy: 71.184%\n"
     ]
    },
    {
     "name": "stdout",
     "output_type": "stream",
     "text": [
      "Epoch  26/30  - Train accuracy: 77.953% - Test accuracy: 70.813%\n"
     ]
    },
    {
     "name": "stdout",
     "output_type": "stream",
     "text": [
      "Epoch  27/30  - Train accuracy: 78.365% - Test accuracy: 73.478%\n"
     ]
    },
    {
     "name": "stdout",
     "output_type": "stream",
     "text": [
      "Epoch  28/30  - Train accuracy: 79.327% - Test accuracy: 74.479%\n"
     ]
    },
    {
     "name": "stdout",
     "output_type": "stream",
     "text": [
      "Epoch  29/30  - Train accuracy: 79.639% - Test accuracy: 75.621%\n"
     ]
    },
    {
     "name": "stdout",
     "output_type": "stream",
     "text": [
      "Epoch  30/30  - Train accuracy: 80.116% - Test accuracy: 72.266%\n"
     ]
    },
    {
     "name": "stdout",
     "output_type": "stream",
     "text": [
      "----------------------------------------------------------------\n",
      "Running experiment with fwd_decay_inv = 5000 and lrn_decay_inv=3000\n"
     ]
    },
    {
     "name": "stdout",
     "output_type": "stream",
     "text": [
      "Files already downloaded and verified\n"
     ]
    },
    {
     "name": "stdout",
     "output_type": "stream",
     "text": [
      "Files already downloaded and verified\n"
     ]
    },
    {
     "name": "stdout",
     "output_type": "stream",
     "text": [
      "Epoch   1/30  - Train accuracy: 09.996% - Test accuracy: 09.986%\n"
     ]
    },
    {
     "name": "stdout",
     "output_type": "stream",
     "text": [
      "Epoch   2/30  - Train accuracy: 13.446% - Test accuracy: 19.371%\n"
     ]
    },
    {
     "name": "stdout",
     "output_type": "stream",
     "text": [
      "Epoch   3/30  - Train accuracy: 23.770% - Test accuracy: 27.324%\n"
     ]
    },
    {
     "name": "stdout",
     "output_type": "stream",
     "text": [
      "Epoch   4/30  - Train accuracy: 33.089% - Test accuracy: 37.770%\n"
     ]
    },
    {
     "name": "stdout",
     "output_type": "stream",
     "text": [
      "Epoch   5/30  - Train accuracy: 41.506% - Test accuracy: 45.653%\n"
     ]
    },
    {
     "name": "stdout",
     "output_type": "stream",
     "text": [
      "Epoch   6/30  - Train accuracy: 47.772% - Test accuracy: 48.207%\n"
     ]
    },
    {
     "name": "stdout",
     "output_type": "stream",
     "text": [
      "Epoch   7/30  - Train accuracy: 51.446% - Test accuracy: 53.365%\n"
     ]
    },
    {
     "name": "stdout",
     "output_type": "stream",
     "text": [
      "Epoch   8/30  - Train accuracy: 54.840% - Test accuracy: 55.559%\n"
     ]
    },
    {
     "name": "stdout",
     "output_type": "stream",
     "text": [
      "Epoch   9/30  - Train accuracy: 58.145% - Test accuracy: 57.091%\n"
     ]
    },
    {
     "name": "stdout",
     "output_type": "stream",
     "text": [
      "Epoch  10/30  - Train accuracy: 61.178% - Test accuracy: 62.200%\n"
     ]
    },
    {
     "name": "stdout",
     "output_type": "stream",
     "text": [
      "Epoch  11/30  - Train accuracy: 62.600% - Test accuracy: 61.298%\n"
     ]
    },
    {
     "name": "stdout",
     "output_type": "stream",
     "text": [
      "Epoch  12/30  - Train accuracy: 64.756% - Test accuracy: 63.762%\n"
     ]
    },
    {
     "name": "stdout",
     "output_type": "stream",
     "text": [
      "Epoch  13/30  - Train accuracy: 66.238% - Test accuracy: 65.535%\n"
     ]
    },
    {
     "name": "stdout",
     "output_type": "stream",
     "text": [
      "Epoch  14/30  - Train accuracy: 68.013% - Test accuracy: 67.839%\n"
     ]
    },
    {
     "name": "stdout",
     "output_type": "stream",
     "text": [
      "Epoch  15/30  - Train accuracy: 69.131% - Test accuracy: 63.411%\n"
     ]
    },
    {
     "name": "stdout",
     "output_type": "stream",
     "text": [
      "Epoch  16/30  - Train accuracy: 69.683% - Test accuracy: 68.590%\n"
     ]
    },
    {
     "name": "stdout",
     "output_type": "stream",
     "text": [
      "Epoch  17/30  - Train accuracy: 70.593% - Test accuracy: 70.102%\n"
     ]
    },
    {
     "name": "stdout",
     "output_type": "stream",
     "text": [
      "Epoch  18/30  - Train accuracy: 71.935% - Test accuracy: 69.712%\n"
     ]
    },
    {
     "name": "stdout",
     "output_type": "stream",
     "text": [
      "Epoch  19/30  - Train accuracy: 72.957% - Test accuracy: 71.955%\n"
     ]
    },
    {
     "name": "stdout",
     "output_type": "stream",
     "text": [
      "Epoch  20/30  - Train accuracy: 74.071% - Test accuracy: 71.635%\n"
     ]
    },
    {
     "name": "stdout",
     "output_type": "stream",
     "text": [
      "Epoch  21/30  - Train accuracy: 74.495% - Test accuracy: 68.089%\n"
     ]
    },
    {
     "name": "stdout",
     "output_type": "stream",
     "text": [
      "Epoch  22/30  - Train accuracy: 75.248% - Test accuracy: 71.454%\n"
     ]
    },
    {
     "name": "stdout",
     "output_type": "stream",
     "text": [
      "Epoch  23/30  - Train accuracy: 75.962% - Test accuracy: 72.997%\n"
     ]
    },
    {
     "name": "stdout",
     "output_type": "stream",
     "text": [
      "Epoch  24/30  - Train accuracy: 76.534% - Test accuracy: 72.867%\n"
     ]
    },
    {
     "name": "stdout",
     "output_type": "stream",
     "text": [
      "Epoch  25/30  - Train accuracy: 77.244% - Test accuracy: 70.483%\n"
     ]
    },
    {
     "name": "stdout",
     "output_type": "stream",
     "text": [
      "Epoch  26/30  - Train accuracy: 77.949% - Test accuracy: 69.611%\n"
     ]
    },
    {
     "name": "stdout",
     "output_type": "stream",
     "text": [
      "Epoch  27/30  - Train accuracy: 78.433% - Test accuracy: 73.067%\n"
     ]
    },
    {
     "name": "stdout",
     "output_type": "stream",
     "text": [
      "Epoch  28/30  - Train accuracy: 79.058% - Test accuracy: 74.299%\n"
     ]
    },
    {
     "name": "stdout",
     "output_type": "stream",
     "text": [
      "Epoch  29/30  - Train accuracy: 79.651% - Test accuracy: 75.591%\n"
     ]
    },
    {
     "name": "stdout",
     "output_type": "stream",
     "text": [
      "Epoch  30/30  - Train accuracy: 80.168% - Test accuracy: 72.336%\n"
     ]
    },
    {
     "name": "stdout",
     "output_type": "stream",
     "text": [
      "----------------------------------------------------------------\n",
      "Running experiment with fwd_decay_inv = 5000 and lrn_decay_inv=1000\n"
     ]
    },
    {
     "name": "stdout",
     "output_type": "stream",
     "text": [
      "Files already downloaded and verified\n"
     ]
    },
    {
     "name": "stdout",
     "output_type": "stream",
     "text": [
      "Files already downloaded and verified\n"
     ]
    },
    {
     "name": "stdout",
     "output_type": "stream",
     "text": [
      "Epoch   1/30  - Train accuracy: 09.932% - Test accuracy: 09.986%\n"
     ]
    },
    {
     "name": "stdout",
     "output_type": "stream",
     "text": [
      "Epoch   2/30  - Train accuracy: 13.149% - Test accuracy: 18.560%\n"
     ]
    },
    {
     "name": "stdout",
     "output_type": "stream",
     "text": [
      "Epoch   3/30  - Train accuracy: 24.022% - Test accuracy: 28.686%\n"
     ]
    },
    {
     "name": "stdout",
     "output_type": "stream",
     "text": [
      "Epoch   4/30  - Train accuracy: 33.325% - Test accuracy: 39.052%\n"
     ]
    },
    {
     "name": "stdout",
     "output_type": "stream",
     "text": [
      "Epoch   5/30  - Train accuracy: 42.011% - Test accuracy: 45.733%\n"
     ]
    },
    {
     "name": "stdout",
     "output_type": "stream",
     "text": [
      "Epoch   6/30  - Train accuracy: 47.829% - Test accuracy: 48.898%\n"
     ]
    },
    {
     "name": "stdout",
     "output_type": "stream",
     "text": [
      "Epoch   7/30  - Train accuracy: 51.919% - Test accuracy: 53.075%\n"
     ]
    },
    {
     "name": "stdout",
     "output_type": "stream",
     "text": [
      "Epoch   8/30  - Train accuracy: 55.108% - Test accuracy: 54.657%\n"
     ]
    },
    {
     "name": "stdout",
     "output_type": "stream",
     "text": [
      "Epoch   9/30  - Train accuracy: 58.498% - Test accuracy: 57.993%\n"
     ]
    },
    {
     "name": "stdout",
     "output_type": "stream",
     "text": [
      "Epoch  10/30  - Train accuracy: 61.062% - Test accuracy: 62.270%\n"
     ]
    },
    {
     "name": "stdout",
     "output_type": "stream",
     "text": [
      "Epoch  11/30  - Train accuracy: 62.825% - Test accuracy: 60.647%\n"
     ]
    },
    {
     "name": "stdout",
     "output_type": "stream",
     "text": [
      "Epoch  12/30  - Train accuracy: 64.607% - Test accuracy: 64.493%\n"
     ]
    },
    {
     "name": "stdout",
     "output_type": "stream",
     "text": [
      "Epoch  13/30  - Train accuracy: 66.130% - Test accuracy: 65.795%\n"
     ]
    },
    {
     "name": "stdout",
     "output_type": "stream",
     "text": [
      "Epoch  14/30  - Train accuracy: 67.865% - Test accuracy: 67.748%\n"
     ]
    },
    {
     "name": "stdout",
     "output_type": "stream",
     "text": [
      "Epoch  15/30  - Train accuracy: 69.227% - Test accuracy: 64.273%\n"
     ]
    },
    {
     "name": "stdout",
     "output_type": "stream",
     "text": [
      "Epoch  16/30  - Train accuracy: 69.704% - Test accuracy: 68.730%\n"
     ]
    },
    {
     "name": "stdout",
     "output_type": "stream",
     "text": [
      "Epoch  17/30  - Train accuracy: 71.278% - Test accuracy: 70.733%\n"
     ]
    },
    {
     "name": "stdout",
     "output_type": "stream",
     "text": [
      "Epoch  18/30  - Train accuracy: 72.388% - Test accuracy: 69.401%\n"
     ]
    },
    {
     "name": "stdout",
     "output_type": "stream",
     "text": [
      "Epoch  19/30  - Train accuracy: 72.945% - Test accuracy: 72.386%\n"
     ]
    },
    {
     "name": "stdout",
     "output_type": "stream",
     "text": [
      "Epoch  20/30  - Train accuracy: 73.802% - Test accuracy: 71.514%\n"
     ]
    },
    {
     "name": "stdout",
     "output_type": "stream",
     "text": [
      "Epoch  21/30  - Train accuracy: 75.176% - Test accuracy: 70.222%\n"
     ]
    },
    {
     "name": "stdout",
     "output_type": "stream",
     "text": [
      "Epoch  22/30  - Train accuracy: 75.409% - Test accuracy: 71.625%\n"
     ]
    },
    {
     "name": "stdout",
     "output_type": "stream",
     "text": [
      "Epoch  23/30  - Train accuracy: 76.186% - Test accuracy: 74.018%\n"
     ]
    },
    {
     "name": "stdout",
     "output_type": "stream",
     "text": [
      "Epoch  24/30  - Train accuracy: 76.827% - Test accuracy: 74.549%\n"
     ]
    },
    {
     "name": "stdout",
     "output_type": "stream",
     "text": [
      "Epoch  25/30  - Train accuracy: 77.360% - Test accuracy: 71.925%\n"
     ]
    },
    {
     "name": "stdout",
     "output_type": "stream",
     "text": [
      "Epoch  26/30  - Train accuracy: 77.889% - Test accuracy: 71.875%\n"
     ]
    },
    {
     "name": "stdout",
     "output_type": "stream",
     "text": [
      "Epoch  27/30  - Train accuracy: 78.442% - Test accuracy: 74.810%\n"
     ]
    },
    {
     "name": "stdout",
     "output_type": "stream",
     "text": [
      "Epoch  28/30  - Train accuracy: 79.167% - Test accuracy: 74.679%\n"
     ]
    },
    {
     "name": "stdout",
     "output_type": "stream",
     "text": [
      "Epoch  29/30  - Train accuracy: 79.427% - Test accuracy: 75.601%\n"
     ]
    },
    {
     "name": "stdout",
     "output_type": "stream",
     "text": [
      "Epoch  30/30  - Train accuracy: 80.072% - Test accuracy: 73.748%\n"
     ]
    }
   ],
   "source": [
    "for fwd_decay_inv in fwd_decay_values:\n",
    "    for subnet_decay_inv in subnet_decay_values:\n",
    "        config[\"fwd_decay_inv\"] = fwd_decay_inv \n",
    "        config[\"subnet_decay_inv\"] = subnet_decay_inv\n",
    "        run_experiment(config)"
   ]
  }
 ],
 "metadata": {
  "kernelspec": {
   "display_name": "Python 3",
   "language": "python",
   "name": "python3"
  },
  "language_info": {
   "codemirror_mode": {
    "name": "ipython",
    "version": 3
   },
   "file_extension": ".py",
   "mimetype": "text/x-python",
   "name": "python",
   "nbconvert_exporter": "python",
   "pygments_lexer": "ipython3",
   "version": "3.11.0"
  }
 },
 "nbformat": 4,
 "nbformat_minor": 5
}
